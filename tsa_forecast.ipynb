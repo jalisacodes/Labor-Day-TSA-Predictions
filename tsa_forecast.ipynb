{
 "cells": [
  {
   "cell_type": "markdown",
   "id": "43aef078-9f33-4fc5-8633-7646d9f16392",
   "metadata": {},
   "source": [
    "# beautifulsoup for scraping tsa information"
   ]
  },
  {
   "cell_type": "code",
   "execution_count": 223,
   "id": "3e11d115-d36f-4bd7-88be-6f6f49c4743a",
   "metadata": {},
   "outputs": [],
   "source": [
    "import requests\n",
    "from bs4 import BeautifulSoup\n",
    "import pandas as pd"
   ]
  },
  {
   "cell_type": "code",
   "execution_count": null,
   "id": "d33cc78c-5906-48db-a8a5-7ce2b25a93ba",
   "metadata": {},
   "outputs": [],
   "source": [
    "# --- Scraping tsa data ---\n",
    "url = \"https://www.eia.gov/dnav/pet/hist/leafhandler.ashx?f=m&n=pet&s=emm_epm0_pte_nus_dpg\"\n",
    "response = requests.get(url)\n",
    "soup = BeautifulSoup(response.text, 'html.parser')\n",
    "table = soup.find('table')\n",
    "df = pd.read_html(str(table))[0]"
   ]
  },
  {
   "cell_type": "code",
   "execution_count": null,
   "id": "2ccaefe2-07f1-42e7-8765-45c570029d1a",
   "metadata": {},
   "outputs": [],
   "source": []
  },
  {
   "cell_type": "code",
   "execution_count": null,
   "id": "dc88af0a-8818-419b-b843-95ee68228e73",
   "metadata": {},
   "outputs": [],
   "source": [
    "# use xlrd openxl to convert xls files to csv for gas prices\n",
    "pip install xlrd openpyxl\n",
    "import pandas as pd\n",
    "xls_file = \"C:\\Users\\jstew\\DE_projects\\TSA-labor-day\\Unemployment-rates.xlsx\"\n",
    "df = pd.read_excel(xls_file, sheet_name='Data 1', skiprows=1)"
   ]
  },
  {
   "cell_type": "code",
   "execution_count": 357,
   "id": "578d5a5f-3c04-4c16-9c20-8f1203c5218c",
   "metadata": {},
   "outputs": [
    {
     "data": {
      "text/html": [
       "<div>\n",
       "<style scoped>\n",
       "    .dataframe tbody tr th:only-of-type {\n",
       "        vertical-align: middle;\n",
       "    }\n",
       "\n",
       "    .dataframe tbody tr th {\n",
       "        vertical-align: top;\n",
       "    }\n",
       "\n",
       "    .dataframe thead th {\n",
       "        text-align: right;\n",
       "    }\n",
       "</style>\n",
       "<table border=\"1\" class=\"dataframe\">\n",
       "  <thead>\n",
       "    <tr style=\"text-align: right;\">\n",
       "      <th></th>\n",
       "      <th>Year</th>\n",
       "      <th>Jan</th>\n",
       "      <th>Feb</th>\n",
       "      <th>Mar</th>\n",
       "      <th>Apr</th>\n",
       "      <th>May</th>\n",
       "      <th>Jun</th>\n",
       "      <th>Jul</th>\n",
       "      <th>Aug</th>\n",
       "      <th>Sep</th>\n",
       "      <th>Oct</th>\n",
       "      <th>Nov</th>\n",
       "      <th>Dec</th>\n",
       "    </tr>\n",
       "  </thead>\n",
       "  <tbody>\n",
       "    <tr>\n",
       "      <th>0</th>\n",
       "      <td>2015</td>\n",
       "      <td>5.7</td>\n",
       "      <td>5.5</td>\n",
       "      <td>5.4</td>\n",
       "      <td>5.4</td>\n",
       "      <td>5.6</td>\n",
       "      <td>5.3</td>\n",
       "      <td>5.2</td>\n",
       "      <td>5.1</td>\n",
       "      <td>5.0</td>\n",
       "      <td>5.0</td>\n",
       "      <td>5.1</td>\n",
       "      <td>5.0</td>\n",
       "    </tr>\n",
       "    <tr>\n",
       "      <th>1</th>\n",
       "      <td>2016</td>\n",
       "      <td>4.8</td>\n",
       "      <td>4.9</td>\n",
       "      <td>5.0</td>\n",
       "      <td>5.1</td>\n",
       "      <td>4.8</td>\n",
       "      <td>4.9</td>\n",
       "      <td>4.8</td>\n",
       "      <td>4.9</td>\n",
       "      <td>5.0</td>\n",
       "      <td>4.9</td>\n",
       "      <td>4.7</td>\n",
       "      <td>4.7</td>\n",
       "    </tr>\n",
       "    <tr>\n",
       "      <th>2</th>\n",
       "      <td>2017</td>\n",
       "      <td>4.7</td>\n",
       "      <td>4.6</td>\n",
       "      <td>4.4</td>\n",
       "      <td>4.4</td>\n",
       "      <td>4.4</td>\n",
       "      <td>4.3</td>\n",
       "      <td>4.3</td>\n",
       "      <td>4.4</td>\n",
       "      <td>4.3</td>\n",
       "      <td>4.2</td>\n",
       "      <td>4.2</td>\n",
       "      <td>4.1</td>\n",
       "    </tr>\n",
       "    <tr>\n",
       "      <th>3</th>\n",
       "      <td>2018</td>\n",
       "      <td>4.0</td>\n",
       "      <td>4.1</td>\n",
       "      <td>4.0</td>\n",
       "      <td>4.0</td>\n",
       "      <td>3.8</td>\n",
       "      <td>4.0</td>\n",
       "      <td>3.8</td>\n",
       "      <td>3.8</td>\n",
       "      <td>3.7</td>\n",
       "      <td>3.8</td>\n",
       "      <td>3.8</td>\n",
       "      <td>3.9</td>\n",
       "    </tr>\n",
       "    <tr>\n",
       "      <th>4</th>\n",
       "      <td>2019</td>\n",
       "      <td>4.0</td>\n",
       "      <td>3.8</td>\n",
       "      <td>3.8</td>\n",
       "      <td>3.7</td>\n",
       "      <td>3.6</td>\n",
       "      <td>3.6</td>\n",
       "      <td>3.7</td>\n",
       "      <td>3.6</td>\n",
       "      <td>3.5</td>\n",
       "      <td>3.6</td>\n",
       "      <td>3.6</td>\n",
       "      <td>3.6</td>\n",
       "    </tr>\n",
       "  </tbody>\n",
       "</table>\n",
       "</div>"
      ],
      "text/plain": [
       "   Year  Jan  Feb  Mar  Apr  May  Jun  Jul  Aug  Sep  Oct  Nov  Dec\n",
       "0  2015  5.7  5.5  5.4  5.4  5.6  5.3  5.2  5.1  5.0  5.0  5.1  5.0\n",
       "1  2016  4.8  4.9  5.0  5.1  4.8  4.9  4.8  4.9  5.0  4.9  4.7  4.7\n",
       "2  2017  4.7  4.6  4.4  4.4  4.4  4.3  4.3  4.4  4.3  4.2  4.2  4.1\n",
       "3  2018  4.0  4.1  4.0  4.0  3.8  4.0  3.8  3.8  3.7  3.8  3.8  3.9\n",
       "4  2019  4.0  3.8  3.8  3.7  3.6  3.6  3.7  3.6  3.5  3.6  3.6  3.6"
      ]
     },
     "execution_count": 357,
     "metadata": {},
     "output_type": "execute_result"
    }
   ],
   "source": [
    "# viewing xls first 5 rows\n",
    "df.head()"
   ]
  },
  {
   "cell_type": "code",
   "execution_count": 318,
   "id": "578bb3e8-564f-44ae-b8b8-393e195613d2",
   "metadata": {},
   "outputs": [],
   "source": [
    "# convert df to csv file\n",
    "df.to_csv('gas-prices-weekly.csv', index=False)"
   ]
  },
  {
   "cell_type": "code",
   "execution_count": 443,
   "id": "ebf8f8e6-d5b4-43ba-9bde-16a7caf67d03",
   "metadata": {},
   "outputs": [
    {
     "name": "stdout",
     "output_type": "stream",
     "text": [
      "['BLS Data Series']\n"
     ]
    },
    {
     "name": "stderr",
     "output_type": "stream",
     "text": [
      "C:\\Users\\jstew\\anaconda3\\Lib\\site-packages\\openpyxl\\styles\\stylesheet.py:226: UserWarning:\n",
      "\n",
      "Workbook contains no default style, apply openpyxl's default\n",
      "\n"
     ]
    },
    {
     "data": {
      "text/html": [
       "<div>\n",
       "<style scoped>\n",
       "    .dataframe tbody tr th:only-of-type {\n",
       "        vertical-align: middle;\n",
       "    }\n",
       "\n",
       "    .dataframe tbody tr th {\n",
       "        vertical-align: top;\n",
       "    }\n",
       "\n",
       "    .dataframe thead th {\n",
       "        text-align: right;\n",
       "    }\n",
       "</style>\n",
       "<table border=\"1\" class=\"dataframe\">\n",
       "  <thead>\n",
       "    <tr style=\"text-align: right;\">\n",
       "      <th></th>\n",
       "      <th>Year</th>\n",
       "      <th>Jan</th>\n",
       "      <th>Feb</th>\n",
       "      <th>Mar</th>\n",
       "      <th>Apr</th>\n",
       "      <th>May</th>\n",
       "      <th>Jun</th>\n",
       "      <th>Jul</th>\n",
       "      <th>Aug</th>\n",
       "      <th>Sep</th>\n",
       "      <th>Oct</th>\n",
       "      <th>Nov</th>\n",
       "      <th>Dec</th>\n",
       "    </tr>\n",
       "  </thead>\n",
       "  <tbody>\n",
       "    <tr>\n",
       "      <th>0</th>\n",
       "      <td>2015</td>\n",
       "      <td>5.7</td>\n",
       "      <td>5.5</td>\n",
       "      <td>5.4</td>\n",
       "      <td>5.4</td>\n",
       "      <td>5.6</td>\n",
       "      <td>5.3</td>\n",
       "      <td>5.2</td>\n",
       "      <td>5.1</td>\n",
       "      <td>5.0</td>\n",
       "      <td>5.0</td>\n",
       "      <td>5.1</td>\n",
       "      <td>5.0</td>\n",
       "    </tr>\n",
       "    <tr>\n",
       "      <th>1</th>\n",
       "      <td>2016</td>\n",
       "      <td>4.8</td>\n",
       "      <td>4.9</td>\n",
       "      <td>5.0</td>\n",
       "      <td>5.1</td>\n",
       "      <td>4.8</td>\n",
       "      <td>4.9</td>\n",
       "      <td>4.8</td>\n",
       "      <td>4.9</td>\n",
       "      <td>5.0</td>\n",
       "      <td>4.9</td>\n",
       "      <td>4.7</td>\n",
       "      <td>4.7</td>\n",
       "    </tr>\n",
       "    <tr>\n",
       "      <th>2</th>\n",
       "      <td>2017</td>\n",
       "      <td>4.7</td>\n",
       "      <td>4.6</td>\n",
       "      <td>4.4</td>\n",
       "      <td>4.4</td>\n",
       "      <td>4.4</td>\n",
       "      <td>4.3</td>\n",
       "      <td>4.3</td>\n",
       "      <td>4.4</td>\n",
       "      <td>4.3</td>\n",
       "      <td>4.2</td>\n",
       "      <td>4.2</td>\n",
       "      <td>4.1</td>\n",
       "    </tr>\n",
       "    <tr>\n",
       "      <th>3</th>\n",
       "      <td>2018</td>\n",
       "      <td>4.0</td>\n",
       "      <td>4.1</td>\n",
       "      <td>4.0</td>\n",
       "      <td>4.0</td>\n",
       "      <td>3.8</td>\n",
       "      <td>4.0</td>\n",
       "      <td>3.8</td>\n",
       "      <td>3.8</td>\n",
       "      <td>3.7</td>\n",
       "      <td>3.8</td>\n",
       "      <td>3.8</td>\n",
       "      <td>3.9</td>\n",
       "    </tr>\n",
       "    <tr>\n",
       "      <th>4</th>\n",
       "      <td>2019</td>\n",
       "      <td>4.0</td>\n",
       "      <td>3.8</td>\n",
       "      <td>3.8</td>\n",
       "      <td>3.7</td>\n",
       "      <td>3.6</td>\n",
       "      <td>3.6</td>\n",
       "      <td>3.7</td>\n",
       "      <td>3.6</td>\n",
       "      <td>3.5</td>\n",
       "      <td>3.6</td>\n",
       "      <td>3.6</td>\n",
       "      <td>3.6</td>\n",
       "    </tr>\n",
       "  </tbody>\n",
       "</table>\n",
       "</div>"
      ],
      "text/plain": [
       "   Year  Jan  Feb  Mar  Apr  May  Jun  Jul  Aug  Sep  Oct  Nov  Dec\n",
       "0  2015  5.7  5.5  5.4  5.4  5.6  5.3  5.2  5.1  5.0  5.0  5.1  5.0\n",
       "1  2016  4.8  4.9  5.0  5.1  4.8  4.9  4.8  4.9  5.0  4.9  4.7  4.7\n",
       "2  2017  4.7  4.6  4.4  4.4  4.4  4.3  4.3  4.4  4.3  4.2  4.2  4.1\n",
       "3  2018  4.0  4.1  4.0  4.0  3.8  4.0  3.8  3.8  3.7  3.8  3.8  3.9\n",
       "4  2019  4.0  3.8  3.8  3.7  3.6  3.6  3.7  3.6  3.5  3.6  3.6  3.6"
      ]
     },
     "execution_count": 443,
     "metadata": {},
     "output_type": "execute_result"
    }
   ],
   "source": [
    "# use xlrd openxl to convert xls files to csv for unemployment rates\n",
    "xls_file = \"C:/Users/jstew/DE_projects/TSA-labor-day/Unemployment-rates.xlsx\"\n",
    "xls = pd.ExcelFile(xls_file)\n",
    "print(xls.sheet_names)\n",
    "\n",
    "df = pd.read_excel(xls_file, sheet_name='BLS Data Series', skiprows=11)\n",
    "df.head()"
   ]
  },
  {
   "cell_type": "code",
   "execution_count": 444,
   "id": "441130b5-33a6-4e7a-b07e-44e5eaece09a",
   "metadata": {},
   "outputs": [],
   "source": [
    "# save unemployment-rates as a csv\n",
    "df.to_csv('unemployment-rates.csv', index=False)"
   ]
  },
  {
   "cell_type": "code",
   "execution_count": 445,
   "id": "8b92a01c-616f-4e3b-bb56-f2da7bc0309d",
   "metadata": {},
   "outputs": [],
   "source": [
    "df_unemployment = df"
   ]
  },
  {
   "cell_type": "code",
   "execution_count": 447,
   "id": "5b10f731-4ec7-42ef-aa37-56897cbc097e",
   "metadata": {},
   "outputs": [
    {
     "data": {
      "text/plain": [
       "Year      int64\n",
       "Jan     float64\n",
       "Feb     float64\n",
       "Mar     float64\n",
       "Apr     float64\n",
       "May     float64\n",
       "Jun     float64\n",
       "Jul     float64\n",
       "Aug     float64\n",
       "Sep     float64\n",
       "Oct     float64\n",
       "Nov     float64\n",
       "Dec     float64\n",
       "dtype: object"
      ]
     },
     "execution_count": 447,
     "metadata": {},
     "output_type": "execute_result"
    }
   ],
   "source": [
    "df_unemployment.dtypes"
   ]
  },
  {
   "cell_type": "code",
   "execution_count": 448,
   "id": "205bed7a-75d8-4f97-8b4c-b6416b16a9a2",
   "metadata": {},
   "outputs": [],
   "source": [
    "# Melt wide table (Jan, Feb, ...) into long format\n",
    "df_unemp_long = df_unemployment.melt(\n",
    "    id_vars=['Year'],\n",
    "    value_vars=['Jan','Feb','Mar','Apr','May','Jun',\n",
    "                'Jul','Aug','Sep','Oct','Nov','Dec'],\n",
    "    var_name='Month',\n",
    "    value_name='UnemploymentRate'\n",
    ")\n",
    "\n",
    "# Map month abbreviations to numbers\n",
    "month_map = {\n",
    "    'Jan': 1, 'Feb': 2, 'Mar': 3, 'Apr': 4,\n",
    "    'May': 5, 'Jun': 6, 'Jul': 7, 'Aug': 8,\n",
    "    'Sep': 9, 'Oct': 10, 'Nov': 11, 'Dec': 12\n",
    "}\n",
    "df_unemp_long['MonthNum'] = df_unemp_long['Month'].map(month_map)\n",
    "\n",
    "# Create a datetime column (set to first of each month)\n",
    "df_unemp_long['month_date'] = pd.to_datetime(\n",
    "    df_unemp_long['Year'].astype(str) + '-' + df_unemp_long['MonthNum'].astype(str) + '-01'\n",
    ")\n",
    "\n",
    "# Final unemployment dataframe\n",
    "unemployment = df_unemp_long[['month_date', 'UnemploymentRate']]"
   ]
  },
  {
   "cell_type": "code",
   "execution_count": 450,
   "id": "ccff9d1c-c5f4-471f-8b5c-2b2509434f22",
   "metadata": {},
   "outputs": [
    {
     "data": {
      "text/plain": [
       "month_date          datetime64[ns]\n",
       "UnemploymentRate           float64\n",
       "dtype: object"
      ]
     },
     "execution_count": 450,
     "metadata": {},
     "output_type": "execute_result"
    }
   ],
   "source": [
    "unemployment.dtypes"
   ]
  },
  {
   "cell_type": "code",
   "execution_count": 394,
   "id": "98e95405-fcb0-4b1b-8630-1a4aa32275b7",
   "metadata": {},
   "outputs": [
    {
     "name": "stdout",
     "output_type": "stream",
     "text": [
      "['Fares']\n"
     ]
    },
    {
     "data": {
      "text/html": [
       "<div>\n",
       "<style scoped>\n",
       "    .dataframe tbody tr th:only-of-type {\n",
       "        vertical-align: middle;\n",
       "    }\n",
       "\n",
       "    .dataframe tbody tr th {\n",
       "        vertical-align: top;\n",
       "    }\n",
       "\n",
       "    .dataframe thead th {\n",
       "        text-align: right;\n",
       "    }\n",
       "</style>\n",
       "<table border=\"1\" class=\"dataframe\">\n",
       "  <thead>\n",
       "    <tr style=\"text-align: right;\">\n",
       "      <th></th>\n",
       "      <th>Year</th>\n",
       "      <th>Quarter</th>\n",
       "      <th>U.S. Average (Current $)</th>\n",
       "      <th>U.S. Average (Inflation-Adjusted $)</th>\n",
       "    </tr>\n",
       "  </thead>\n",
       "  <tbody>\n",
       "    <tr>\n",
       "      <th>0</th>\n",
       "      <td>1995</td>\n",
       "      <td>1</td>\n",
       "      <td>296.895553</td>\n",
       "      <td>627.476878</td>\n",
       "    </tr>\n",
       "    <tr>\n",
       "      <th>1</th>\n",
       "      <td>1995</td>\n",
       "      <td>2</td>\n",
       "      <td>296.462724</td>\n",
       "      <td>621.073174</td>\n",
       "    </tr>\n",
       "    <tr>\n",
       "      <th>2</th>\n",
       "      <td>1995</td>\n",
       "      <td>3</td>\n",
       "      <td>287.514840</td>\n",
       "      <td>599.701035</td>\n",
       "    </tr>\n",
       "    <tr>\n",
       "      <th>3</th>\n",
       "      <td>1995</td>\n",
       "      <td>4</td>\n",
       "      <td>287.776292</td>\n",
       "      <td>597.380616</td>\n",
       "    </tr>\n",
       "    <tr>\n",
       "      <th>4</th>\n",
       "      <td>1996</td>\n",
       "      <td>1</td>\n",
       "      <td>283.969692</td>\n",
       "      <td>584.154358</td>\n",
       "    </tr>\n",
       "  </tbody>\n",
       "</table>\n",
       "</div>"
      ],
      "text/plain": [
       "   Year  Quarter  U.S. Average (Current $)   \\\n",
       "0  1995        1                 296.895553   \n",
       "1  1995        2                 296.462724   \n",
       "2  1995        3                 287.514840   \n",
       "3  1995        4                 287.776292   \n",
       "4  1996        1                 283.969692   \n",
       "\n",
       "   U.S. Average (Inflation-Adjusted $)   \n",
       "0                            627.476878  \n",
       "1                            621.073174  \n",
       "2                            599.701035  \n",
       "3                            597.380616  \n",
       "4                            584.154358  "
      ]
     },
     "execution_count": 394,
     "metadata": {},
     "output_type": "execute_result"
    }
   ],
   "source": [
    "# use xlrd openxl to convert xls files to csv for quarterly airfare pricing\n",
    "xls_file = \"C:/Users/jstew/DE_projects/TSA-labor-day/quarterly-airfare-rates.xlsx\"\n",
    "xls = pd.ExcelFile(xls_file)\n",
    "print(xls.sheet_names)\n",
    "\n",
    "df = pd.read_excel(xls_file, sheet_name='Fares', skiprows=0)\n",
    "df.head()"
   ]
  },
  {
   "cell_type": "code",
   "execution_count": 400,
   "id": "83b30e56-e95c-4615-a763-f287640f9d54",
   "metadata": {},
   "outputs": [
    {
     "name": "stdout",
     "output_type": "stream",
     "text": [
      "     Year  Quarter  U.S. Average (Current $)   \\\n",
      "0    1995        1                     296.90   \n",
      "1    1995        2                     296.46   \n",
      "2    1995        3                     287.51   \n",
      "3    1995        4                     287.78   \n",
      "4    1996        1                     283.97   \n",
      "..    ...      ...                        ...   \n",
      "116  2024        1                     387.95   \n",
      "117  2024        2                     382.27   \n",
      "118  2024        3                     365.65   \n",
      "119  2024        4                     397.67   \n",
      "120  2025        1                     397.16   \n",
      "\n",
      "     U.S. Average (Inflation-Adjusted $)   \n",
      "0                                  627.48  \n",
      "1                                  621.07  \n",
      "2                                  599.70  \n",
      "3                                  597.38  \n",
      "4                                  584.15  \n",
      "..                                    ...  \n",
      "116                                398.57  \n",
      "117                                388.26  \n",
      "118                                370.27  \n",
      "119                                401.78  \n",
      "120                                397.16  \n",
      "\n",
      "[121 rows x 4 columns]\n"
     ]
    }
   ],
   "source": [
    "# round airfare pricing to the nearest cent\n",
    "df = df.round(2)\n",
    "print(df)"
   ]
  },
  {
   "cell_type": "code",
   "execution_count": 408,
   "id": "f685acdb-bbcc-454a-94a7-e011c76e5ecc",
   "metadata": {},
   "outputs": [],
   "source": [
    "airfare_df = pd.read_csv('quarterly-airfare-rates.csv', skiprows=0)"
   ]
  },
  {
   "cell_type": "code",
   "execution_count": 410,
   "id": "e32638e5-0956-440f-bafc-d12d26321342",
   "metadata": {},
   "outputs": [
    {
     "name": "stdout",
     "output_type": "stream",
     "text": [
      "Index(['Year', 'Quarter', 'U.S. Average (Current $) ',\n",
      "       'U.S. Average (Inflation-Adjusted $) '],\n",
      "      dtype='object')\n"
     ]
    }
   ],
   "source": [
    "print(airfare_df.columns)"
   ]
  },
  {
   "cell_type": "code",
   "execution_count": 411,
   "id": "0f09cd4a-79a4-4c89-a1e9-f4d7495bdf9f",
   "metadata": {},
   "outputs": [],
   "source": [
    "# Rename columns to remove spaces and simplify\n",
    "airfare_df = airfare_df.rename(columns={\n",
    "    'Year': 'year',\n",
    "    'Quarter': 'quarter',\n",
    "    'U.S. Average (Current $) ': 'avg_current',\n",
    "    'U.S. Average (Inflation-Adjusted $) ': 'avg_inflation'\n",
    "})"
   ]
  },
  {
   "cell_type": "code",
   "execution_count": 412,
   "id": "84c884eb-2073-4cc0-bab3-c1993da9aab6",
   "metadata": {},
   "outputs": [
    {
     "name": "stderr",
     "output_type": "stream",
     "text": [
      "C:\\Users\\jstew\\AppData\\Local\\Temp\\ipykernel_5832\\2858479198.py:2: UserWarning:\n",
      "\n",
      "Could not infer format, so each element will be parsed individually, falling back to `dateutil`. To ensure parsing is consistent and as-expected, please specify a format.\n",
      "\n"
     ]
    }
   ],
   "source": [
    "# Now you can create a datetime from year and quarter\n",
    "airfare_df['quarter_date'] = pd.to_datetime(\n",
    "    airfare_df['year'].astype(str) + 'Q' + airfare_df['quarter'].astype(str)\n",
    ")"
   ]
  },
  {
   "cell_type": "code",
   "execution_count": 413,
   "id": "67e10e52-94a8-4983-9ee0-feca7da534bd",
   "metadata": {},
   "outputs": [],
   "source": [
    "quarter_to_month = {'1': '01', '2': '04', '3': '07', '4': '10'}"
   ]
  },
  {
   "cell_type": "code",
   "execution_count": 427,
   "id": "b45e8087-c25d-47ee-a0c6-ee427084f060",
   "metadata": {},
   "outputs": [
    {
     "ename": "KeyError",
     "evalue": "'quarter'",
     "output_type": "error",
     "traceback": [
      "\u001b[1;31m---------------------------------------------------------------------------\u001b[0m",
      "\u001b[1;31mKeyError\u001b[0m                                  Traceback (most recent call last)",
      "File \u001b[1;32m~\\anaconda3\\Lib\\site-packages\\pandas\\core\\indexes\\base.py:3805\u001b[0m, in \u001b[0;36mIndex.get_loc\u001b[1;34m(self, key)\u001b[0m\n\u001b[0;32m   3804\u001b[0m \u001b[38;5;28;01mtry\u001b[39;00m:\n\u001b[1;32m-> 3805\u001b[0m     \u001b[38;5;28;01mreturn\u001b[39;00m \u001b[38;5;28mself\u001b[39m\u001b[38;5;241m.\u001b[39m_engine\u001b[38;5;241m.\u001b[39mget_loc(casted_key)\n\u001b[0;32m   3806\u001b[0m \u001b[38;5;28;01mexcept\u001b[39;00m \u001b[38;5;167;01mKeyError\u001b[39;00m \u001b[38;5;28;01mas\u001b[39;00m err:\n",
      "File \u001b[1;32mindex.pyx:167\u001b[0m, in \u001b[0;36mpandas._libs.index.IndexEngine.get_loc\u001b[1;34m()\u001b[0m\n",
      "File \u001b[1;32mindex.pyx:196\u001b[0m, in \u001b[0;36mpandas._libs.index.IndexEngine.get_loc\u001b[1;34m()\u001b[0m\n",
      "File \u001b[1;32mpandas\\\\_libs\\\\hashtable_class_helper.pxi:7081\u001b[0m, in \u001b[0;36mpandas._libs.hashtable.PyObjectHashTable.get_item\u001b[1;34m()\u001b[0m\n",
      "File \u001b[1;32mpandas\\\\_libs\\\\hashtable_class_helper.pxi:7089\u001b[0m, in \u001b[0;36mpandas._libs.hashtable.PyObjectHashTable.get_item\u001b[1;34m()\u001b[0m\n",
      "\u001b[1;31mKeyError\u001b[0m: 'quarter'",
      "\nThe above exception was the direct cause of the following exception:\n",
      "\u001b[1;31mKeyError\u001b[0m                                  Traceback (most recent call last)",
      "Cell \u001b[1;32mIn[427], line 4\u001b[0m\n\u001b[0;32m      1\u001b[0m \u001b[38;5;66;03m# Create a proper datetime from year + quarter\u001b[39;00m\n\u001b[0;32m      2\u001b[0m airfare_df[\u001b[38;5;124m'\u001b[39m\u001b[38;5;124mquarter_date\u001b[39m\u001b[38;5;124m'\u001b[39m] \u001b[38;5;241m=\u001b[39m pd\u001b[38;5;241m.\u001b[39mto_datetime(\n\u001b[0;32m      3\u001b[0m     airfare_df[\u001b[38;5;124m'\u001b[39m\u001b[38;5;124myear\u001b[39m\u001b[38;5;124m'\u001b[39m]\u001b[38;5;241m.\u001b[39mastype(\u001b[38;5;28mstr\u001b[39m) \u001b[38;5;241m+\u001b[39m \u001b[38;5;124m'\u001b[39m\u001b[38;5;124m-\u001b[39m\u001b[38;5;124m'\u001b[39m \u001b[38;5;241m+\u001b[39m\n\u001b[1;32m----> 4\u001b[0m     airfare_df[\u001b[38;5;124m'\u001b[39m\u001b[38;5;124mquarter\u001b[39m\u001b[38;5;124m'\u001b[39m]\u001b[38;5;241m.\u001b[39mastype(\u001b[38;5;28mstr\u001b[39m)\u001b[38;5;241m.\u001b[39mmap(quarter_to_month) \u001b[38;5;241m+\u001b[39m \u001b[38;5;124m'\u001b[39m\u001b[38;5;124m-01\u001b[39m\u001b[38;5;124m'\u001b[39m\n\u001b[0;32m      5\u001b[0m )\n",
      "File \u001b[1;32m~\\anaconda3\\Lib\\site-packages\\pandas\\core\\frame.py:4090\u001b[0m, in \u001b[0;36mDataFrame.__getitem__\u001b[1;34m(self, key)\u001b[0m\n\u001b[0;32m   4088\u001b[0m \u001b[38;5;28;01mif\u001b[39;00m \u001b[38;5;28mself\u001b[39m\u001b[38;5;241m.\u001b[39mcolumns\u001b[38;5;241m.\u001b[39mnlevels \u001b[38;5;241m>\u001b[39m \u001b[38;5;241m1\u001b[39m:\n\u001b[0;32m   4089\u001b[0m     \u001b[38;5;28;01mreturn\u001b[39;00m \u001b[38;5;28mself\u001b[39m\u001b[38;5;241m.\u001b[39m_getitem_multilevel(key)\n\u001b[1;32m-> 4090\u001b[0m indexer \u001b[38;5;241m=\u001b[39m \u001b[38;5;28mself\u001b[39m\u001b[38;5;241m.\u001b[39mcolumns\u001b[38;5;241m.\u001b[39mget_loc(key)\n\u001b[0;32m   4091\u001b[0m \u001b[38;5;28;01mif\u001b[39;00m is_integer(indexer):\n\u001b[0;32m   4092\u001b[0m     indexer \u001b[38;5;241m=\u001b[39m [indexer]\n",
      "File \u001b[1;32m~\\anaconda3\\Lib\\site-packages\\pandas\\core\\indexes\\base.py:3812\u001b[0m, in \u001b[0;36mIndex.get_loc\u001b[1;34m(self, key)\u001b[0m\n\u001b[0;32m   3807\u001b[0m     \u001b[38;5;28;01mif\u001b[39;00m \u001b[38;5;28misinstance\u001b[39m(casted_key, \u001b[38;5;28mslice\u001b[39m) \u001b[38;5;129;01mor\u001b[39;00m (\n\u001b[0;32m   3808\u001b[0m         \u001b[38;5;28misinstance\u001b[39m(casted_key, abc\u001b[38;5;241m.\u001b[39mIterable)\n\u001b[0;32m   3809\u001b[0m         \u001b[38;5;129;01mand\u001b[39;00m \u001b[38;5;28many\u001b[39m(\u001b[38;5;28misinstance\u001b[39m(x, \u001b[38;5;28mslice\u001b[39m) \u001b[38;5;28;01mfor\u001b[39;00m x \u001b[38;5;129;01min\u001b[39;00m casted_key)\n\u001b[0;32m   3810\u001b[0m     ):\n\u001b[0;32m   3811\u001b[0m         \u001b[38;5;28;01mraise\u001b[39;00m InvalidIndexError(key)\n\u001b[1;32m-> 3812\u001b[0m     \u001b[38;5;28;01mraise\u001b[39;00m \u001b[38;5;167;01mKeyError\u001b[39;00m(key) \u001b[38;5;28;01mfrom\u001b[39;00m \u001b[38;5;21;01merr\u001b[39;00m\n\u001b[0;32m   3813\u001b[0m \u001b[38;5;28;01mexcept\u001b[39;00m \u001b[38;5;167;01mTypeError\u001b[39;00m:\n\u001b[0;32m   3814\u001b[0m     \u001b[38;5;66;03m# If we have a listlike key, _check_indexing_error will raise\u001b[39;00m\n\u001b[0;32m   3815\u001b[0m     \u001b[38;5;66;03m#  InvalidIndexError. Otherwise we fall through and re-raise\u001b[39;00m\n\u001b[0;32m   3816\u001b[0m     \u001b[38;5;66;03m#  the TypeError.\u001b[39;00m\n\u001b[0;32m   3817\u001b[0m     \u001b[38;5;28mself\u001b[39m\u001b[38;5;241m.\u001b[39m_check_indexing_error(key)\n",
      "\u001b[1;31mKeyError\u001b[0m: 'quarter'"
     ]
    }
   ],
   "source": [
    "# Create a proper datetime from year + quarter\n",
    "airfare_df['quarter_date'] = pd.to_datetime(\n",
    "    airfare_df['year'].astype(str) + '-' +\n",
    "    airfare_df['quarter'].astype(str).map(quarter_to_month) + '-01'\n",
    ")"
   ]
  },
  {
   "cell_type": "code",
   "execution_count": 428,
   "id": "5e8b4715-ad9d-4512-854a-b13a2a91f6f8",
   "metadata": {},
   "outputs": [
    {
     "name": "stdout",
     "output_type": "stream",
     "text": [
      "     year  avg_inflation quarter_date\n",
      "0    1995         627.48   1995-01-01\n",
      "1    1995         621.07   1995-04-01\n",
      "2    1995         599.70   1995-07-01\n",
      "3    1995         597.38   1995-10-01\n",
      "4    1996         584.15   1996-01-01\n",
      "..    ...            ...          ...\n",
      "116  2024         398.57   2024-01-01\n",
      "117  2024         388.26   2024-04-01\n",
      "118  2024         370.27   2024-07-01\n",
      "119  2024         401.78   2024-10-01\n",
      "120  2025         397.16   2025-01-01\n",
      "\n",
      "[121 rows x 3 columns]\n"
     ]
    }
   ],
   "source": [
    "print(airfare_df)"
   ]
  },
  {
   "cell_type": "code",
   "execution_count": 431,
   "id": "bf2ec4f6-0788-403d-904f-f706d527136e",
   "metadata": {},
   "outputs": [
    {
     "name": "stdout",
     "output_type": "stream",
     "text": [
      "     year  avg_inflation quarter_date\n",
      "0    1995         627.48   1995-01-01\n",
      "1    1995         621.07   1995-04-01\n",
      "2    1995         599.70   1995-07-01\n",
      "3    1995         597.38   1995-10-01\n",
      "4    1996         584.15   1996-01-01\n",
      "..    ...            ...          ...\n",
      "116  2024         398.57   2024-01-01\n",
      "117  2024         388.26   2024-04-01\n",
      "118  2024         370.27   2024-07-01\n",
      "119  2024         401.78   2024-10-01\n",
      "120  2025         397.16   2025-01-01\n",
      "\n",
      "[121 rows x 3 columns]\n"
     ]
    }
   ],
   "source": [
    "print(airfare_df)"
   ]
  },
  {
   "cell_type": "code",
   "execution_count": 432,
   "id": "d2afbc8c-6fff-4843-bade-f41fcfdcb73c",
   "metadata": {},
   "outputs": [],
   "source": [
    "# convert airfare df to csv file\n",
    "df.to_csv('airfare-rates.csv', index=False)"
   ]
  },
  {
   "cell_type": "code",
   "execution_count": null,
   "id": "87679245-51dc-43a6-b9ce-db16883398f5",
   "metadata": {},
   "outputs": [],
   "source": []
  },
  {
   "cell_type": "code",
   "execution_count": null,
   "id": "9bd7f9db-34cb-452d-aeae-f1786733a79d",
   "metadata": {},
   "outputs": [],
   "source": []
  },
  {
   "cell_type": "code",
   "execution_count": 434,
   "id": "77e3cbd8-7e4b-4e83-b534-e1022fca2069",
   "metadata": {},
   "outputs": [
    {
     "data": {
      "text/plain": [
       "year                      int64\n",
       "avg_inflation           float64\n",
       "quarter_date     datetime64[ns]\n",
       "dtype: object"
      ]
     },
     "execution_count": 434,
     "metadata": {},
     "output_type": "execute_result"
    }
   ],
   "source": [
    "airfare_df.dtypes"
   ]
  },
  {
   "cell_type": "code",
   "execution_count": 436,
   "id": "c7366358-ffbc-4ce9-a190-378ffa4f5928",
   "metadata": {},
   "outputs": [],
   "source": [
    "airfare_df = airfare_df.sort_values('quarter_date')"
   ]
  },
  {
   "cell_type": "code",
   "execution_count": null,
   "id": "e712382b-d159-4d39-a7a0-0431fe757803",
   "metadata": {},
   "outputs": [],
   "source": []
  },
  {
   "cell_type": "code",
   "execution_count": 381,
   "id": "6c23502d-9ba8-4e97-8065-f1f4958a68e0",
   "metadata": {},
   "outputs": [
    {
     "name": "stdout",
     "output_type": "stream",
     "text": [
      "Merging these files: ['tsa_data_2019.csv', 'tsa_data_2020.csv', 'tsa_data_2021.csv', 'tsa_data_2022.csv', 'tsa_data_2023.csv', 'tsa_data_2024.csv', 'tsa_data_2025.csv']\n"
     ]
    }
   ],
   "source": [
    "#using glob to combine all tsa csv files to one large file for all years\n",
    "import pandas as pd\n",
    "import glob\n",
    "\n",
    "files = glob.glob(\"tsa_data_*.csv\")\n",
    "print(\"Merging these files:\", files)\n",
    "\n",
    "tsa_df = pd.concat([pd.read_csv(f) for f in files], ignore_index=True)\n",
    "tsa_df.to_csv(\"tsa_data_all_years.csv\", index=False)"
   ]
  },
  {
   "cell_type": "code",
   "execution_count": 382,
   "id": "15a52890-1d89-4db9-8936-3c481d78466f",
   "metadata": {},
   "outputs": [
    {
     "data": {
      "text/html": [
       "<div>\n",
       "<style scoped>\n",
       "    .dataframe tbody tr th:only-of-type {\n",
       "        vertical-align: middle;\n",
       "    }\n",
       "\n",
       "    .dataframe tbody tr th {\n",
       "        vertical-align: top;\n",
       "    }\n",
       "\n",
       "    .dataframe thead th {\n",
       "        text-align: right;\n",
       "    }\n",
       "</style>\n",
       "<table border=\"1\" class=\"dataframe\">\n",
       "  <thead>\n",
       "    <tr style=\"text-align: right;\">\n",
       "      <th></th>\n",
       "      <th>date</th>\n",
       "      <th>numbers</th>\n",
       "    </tr>\n",
       "  </thead>\n",
       "  <tbody>\n",
       "    <tr>\n",
       "      <th>0</th>\n",
       "      <td>2019-01-01</td>\n",
       "      <td>2201765</td>\n",
       "    </tr>\n",
       "    <tr>\n",
       "      <th>1</th>\n",
       "      <td>2019-01-02</td>\n",
       "      <td>2424225</td>\n",
       "    </tr>\n",
       "    <tr>\n",
       "      <th>2</th>\n",
       "      <td>2019-01-03</td>\n",
       "      <td>2279384</td>\n",
       "    </tr>\n",
       "    <tr>\n",
       "      <th>3</th>\n",
       "      <td>2019-01-04</td>\n",
       "      <td>2230078</td>\n",
       "    </tr>\n",
       "    <tr>\n",
       "      <th>4</th>\n",
       "      <td>2019-01-05</td>\n",
       "      <td>2049460</td>\n",
       "    </tr>\n",
       "  </tbody>\n",
       "</table>\n",
       "</div>"
      ],
      "text/plain": [
       "         date  numbers\n",
       "0  2019-01-01  2201765\n",
       "1  2019-01-02  2424225\n",
       "2  2019-01-03  2279384\n",
       "3  2019-01-04  2230078\n",
       "4  2019-01-05  2049460"
      ]
     },
     "execution_count": 382,
     "metadata": {},
     "output_type": "execute_result"
    }
   ],
   "source": [
    "# viewing first 5 rows of tsa new csv file\n",
    "tsa_df.head()"
   ]
  },
  {
   "cell_type": "code",
   "execution_count": 383,
   "id": "cadf9021-601c-4f88-9014-a3a6c729360d",
   "metadata": {},
   "outputs": [],
   "source": []
  },
  {
   "cell_type": "code",
   "execution_count": 390,
   "id": "ff71cf07-6cd5-40ab-943f-b089c0709ddb",
   "metadata": {},
   "outputs": [
    {
     "data": {
      "text/html": [
       "<div>\n",
       "<style scoped>\n",
       "    .dataframe tbody tr th:only-of-type {\n",
       "        vertical-align: middle;\n",
       "    }\n",
       "\n",
       "    .dataframe tbody tr th {\n",
       "        vertical-align: top;\n",
       "    }\n",
       "\n",
       "    .dataframe thead th {\n",
       "        text-align: right;\n",
       "    }\n",
       "</style>\n",
       "<table border=\"1\" class=\"dataframe\">\n",
       "  <thead>\n",
       "    <tr style=\"text-align: right;\">\n",
       "      <th></th>\n",
       "      <th>date</th>\n",
       "      <th>numbers</th>\n",
       "    </tr>\n",
       "  </thead>\n",
       "  <tbody>\n",
       "    <tr>\n",
       "      <th>0</th>\n",
       "      <td>2019-01-01</td>\n",
       "      <td>2201765</td>\n",
       "    </tr>\n",
       "    <tr>\n",
       "      <th>1</th>\n",
       "      <td>2019-01-02</td>\n",
       "      <td>2424225</td>\n",
       "    </tr>\n",
       "    <tr>\n",
       "      <th>2</th>\n",
       "      <td>2019-01-03</td>\n",
       "      <td>2279384</td>\n",
       "    </tr>\n",
       "    <tr>\n",
       "      <th>3</th>\n",
       "      <td>2019-01-04</td>\n",
       "      <td>2230078</td>\n",
       "    </tr>\n",
       "    <tr>\n",
       "      <th>4</th>\n",
       "      <td>2019-01-05</td>\n",
       "      <td>2049460</td>\n",
       "    </tr>\n",
       "  </tbody>\n",
       "</table>\n",
       "</div>"
      ],
      "text/plain": [
       "         date  numbers\n",
       "0  2019-01-01  2201765\n",
       "1  2019-01-02  2424225\n",
       "2  2019-01-03  2279384\n",
       "3  2019-01-04  2230078\n",
       "4  2019-01-05  2049460"
      ]
     },
     "execution_count": 390,
     "metadata": {},
     "output_type": "execute_result"
    }
   ],
   "source": [
    "df = pd.read_csv('tsa_data_all_years.csv')\n",
    "df.head()"
   ]
  },
  {
   "cell_type": "code",
   "execution_count": null,
   "id": "81461327-e62c-4ed5-8b74-297d9e58f9d3",
   "metadata": {},
   "outputs": [],
   "source": [
    "# using to_datetime to change type to datetime for tsa csv\n",
    "tsa['date'] = pd.to_datetime(tsa['date'])\n",
    "\n",
    "# Rename columns\n",
    "gas = pd.read_csv('gas-prices-weekly.csv', skiprows=1)"
   ]
  },
  {
   "cell_type": "code",
   "execution_count": null,
   "id": "2c978780-e1be-4d2f-828d-a35044e1d69e",
   "metadata": {},
   "outputs": [],
   "source": [
    "# changing gas csv column names for better reading\n",
    "gas.columns = ['week_start', 'price']\n",
    "\n",
    "# using to_datetime to change type to datetime for gas csv\n",
    "gas['week_start'] = pd.to_datetime(gas['week_start'])"
   ]
  },
  {
   "cell_type": "code",
   "execution_count": 435,
   "id": "1f5df733-7c6d-4ddd-a604-ce80c61bea3d",
   "metadata": {},
   "outputs": [
    {
     "data": {
      "text/html": [
       "<div>\n",
       "<style scoped>\n",
       "    .dataframe tbody tr th:only-of-type {\n",
       "        vertical-align: middle;\n",
       "    }\n",
       "\n",
       "    .dataframe tbody tr th {\n",
       "        vertical-align: top;\n",
       "    }\n",
       "\n",
       "    .dataframe thead th {\n",
       "        text-align: right;\n",
       "    }\n",
       "</style>\n",
       "<table border=\"1\" class=\"dataframe\">\n",
       "  <thead>\n",
       "    <tr style=\"text-align: right;\">\n",
       "      <th></th>\n",
       "      <th>week_start</th>\n",
       "      <th>price</th>\n",
       "    </tr>\n",
       "  </thead>\n",
       "  <tbody>\n",
       "    <tr>\n",
       "      <th>0</th>\n",
       "      <td>1993-04-05</td>\n",
       "      <td>1.068</td>\n",
       "    </tr>\n",
       "    <tr>\n",
       "      <th>1</th>\n",
       "      <td>1993-04-12</td>\n",
       "      <td>1.079</td>\n",
       "    </tr>\n",
       "    <tr>\n",
       "      <th>2</th>\n",
       "      <td>1993-04-19</td>\n",
       "      <td>1.079</td>\n",
       "    </tr>\n",
       "    <tr>\n",
       "      <th>3</th>\n",
       "      <td>1993-04-26</td>\n",
       "      <td>1.086</td>\n",
       "    </tr>\n",
       "    <tr>\n",
       "      <th>4</th>\n",
       "      <td>1993-05-03</td>\n",
       "      <td>1.086</td>\n",
       "    </tr>\n",
       "  </tbody>\n",
       "</table>\n",
       "</div>"
      ],
      "text/plain": [
       "  week_start  price\n",
       "0 1993-04-05  1.068\n",
       "1 1993-04-12  1.079\n",
       "2 1993-04-19  1.079\n",
       "3 1993-04-26  1.086\n",
       "4 1993-05-03  1.086"
      ]
     },
     "execution_count": 435,
     "metadata": {},
     "output_type": "execute_result"
    }
   ],
   "source": [
    "# viewing first five rows of gas csv\n",
    "gas.head()"
   ]
  },
  {
   "cell_type": "code",
   "execution_count": null,
   "id": "b32615d6-e5a3-48ac-8dd8-641f246e97b4",
   "metadata": {},
   "outputs": [],
   "source": [
    "# saving update gas csv\n",
    "gas.to_csv('gas-prices-weekly.csv', index=False)"
   ]
  },
  {
   "cell_type": "code",
   "execution_count": null,
   "id": "0f7266f5-a4fc-43f0-8f17-dfef98540f53",
   "metadata": {},
   "outputs": [],
   "source": [
    "# viewing tsa and gas data types\n",
    "tsa.dtypes\n",
    "gas.dtypes"
   ]
  },
  {
   "cell_type": "code",
   "execution_count": null,
   "id": "9a31242b-922f-4995-a565-2456914fa691",
   "metadata": {},
   "outputs": [],
   "source": [
    "# sorting gas and tsa by date chronologically\n",
    "gas = gas.sort_values('week_start')\n",
    "tsa = tsa.sort_values('date')"
   ]
  },
  {
   "cell_type": "code",
   "execution_count": 451,
   "id": "00347bac-7548-41c8-a996-8f6914b0cfc6",
   "metadata": {},
   "outputs": [],
   "source": [
    "# merge tsa and gas csv to one csv\n",
    "tsa_gas_merged = pd.merge_asof(\n",
    "    tsa,                # daily TSA data\n",
    "    gas,                # weekly gas data\n",
    "    left_on='date',     # TSA daily date\n",
    "    right_on='week_start'  # weekly gas week start\n",
    ")"
   ]
  },
  {
   "cell_type": "code",
   "execution_count": 454,
   "id": "aaf77316-f408-450a-9134-c719b4b3b0cc",
   "metadata": {},
   "outputs": [],
   "source": [
    "# Merge unemployment (monthly)\n",
    "tsa_gas_unemp_merged = pd.merge_asof(\n",
    "    tsa_gas_merged.sort_values('date'),\n",
    "    unemployment.sort_values('month_date'),\n",
    "    left_on='date',\n",
    "    right_on='month_date'\n",
    ")"
   ]
  },
  {
   "cell_type": "code",
   "execution_count": 455,
   "id": "f7b13bcd-8da6-4dc0-bba0-9242908f1f4c",
   "metadata": {},
   "outputs": [],
   "source": [
    "# Merge airfare (quarterly)\n",
    "final_merged = pd.merge_asof(\n",
    "    tsa_gas_unemp_merged.sort_values('date'),\n",
    "    airfare_df.sort_values('quarter_date'),\n",
    "    left_on='date',\n",
    "    right_on='quarter_date'\n",
    ")"
   ]
  },
  {
   "cell_type": "code",
   "execution_count": 456,
   "id": "79206895-0371-457e-8f4b-a30e2c09e549",
   "metadata": {},
   "outputs": [
    {
     "name": "stdout",
     "output_type": "stream",
     "text": [
      "           date  numbers week_start  price month_date  UnemploymentRate  year  \\\n",
      "0    2019-01-01  2201765 2018-12-31  2.358 2019-01-01               4.0  2019   \n",
      "1    2019-01-02  2424225 2018-12-31  2.358 2019-01-01               4.0  2019   \n",
      "2    2019-01-03  2279384 2018-12-31  2.358 2019-01-01               4.0  2019   \n",
      "3    2019-01-04  2230078 2018-12-31  2.358 2019-01-01               4.0  2019   \n",
      "4    2019-01-05  2049460 2018-12-31  2.358 2019-01-01               4.0  2019   \n",
      "...         ...      ...        ...    ...        ...               ...   ...   \n",
      "2413 2025-08-10  2960349 2025-08-04  3.265 2025-08-01               NaN  2025   \n",
      "2414 2025-08-11  2763671 2025-08-11  3.243 2025-08-01               NaN  2025   \n",
      "2415 2025-08-12  2256082 2025-08-11  3.243 2025-08-01               NaN  2025   \n",
      "2416 2025-08-13  2331215 2025-08-11  3.243 2025-08-01               NaN  2025   \n",
      "2417 2025-08-14  2832747 2025-08-11  3.243 2025-08-01               NaN  2025   \n",
      "\n",
      "      avg_inflation quarter_date  \n",
      "0            441.43   2019-01-01  \n",
      "1            441.43   2019-01-01  \n",
      "2            441.43   2019-01-01  \n",
      "3            441.43   2019-01-01  \n",
      "4            441.43   2019-01-01  \n",
      "...             ...          ...  \n",
      "2413         397.16   2025-01-01  \n",
      "2414         397.16   2025-01-01  \n",
      "2415         397.16   2025-01-01  \n",
      "2416         397.16   2025-01-01  \n",
      "2417         397.16   2025-01-01  \n",
      "\n",
      "[2418 rows x 9 columns]\n"
     ]
    }
   ],
   "source": [
    "print(final_merged)"
   ]
  },
  {
   "cell_type": "code",
   "execution_count": 457,
   "id": "1451098e-35a2-48cb-ac69-28803dcfe574",
   "metadata": {},
   "outputs": [],
   "source": [
    "final_merged.to_csv(\"final_merged.csv\", index=False)"
   ]
  },
  {
   "cell_type": "code",
   "execution_count": 379,
   "id": "94652916-29e4-43fe-8c4f-86aabb6fc6a4",
   "metadata": {
    "scrolled": true
   },
   "outputs": [
    {
     "ename": "KeyError",
     "evalue": "\"['week_start'] not found in axis\"",
     "output_type": "error",
     "traceback": [
      "\u001b[1;31m---------------------------------------------------------------------------\u001b[0m",
      "\u001b[1;31mKeyError\u001b[0m                                  Traceback (most recent call last)",
      "Cell \u001b[1;32mIn[379], line 2\u001b[0m\n\u001b[0;32m      1\u001b[0m \u001b[38;5;66;03m# dropping week_start column\u001b[39;00m\n\u001b[1;32m----> 2\u001b[0m tsa_gas_merged \u001b[38;5;241m=\u001b[39m tsa_gas_merged\u001b[38;5;241m.\u001b[39mdrop(columns\u001b[38;5;241m=\u001b[39m[\u001b[38;5;124m'\u001b[39m\u001b[38;5;124mweek_start\u001b[39m\u001b[38;5;124m'\u001b[39m])\n\u001b[0;32m      3\u001b[0m tsa_gas_merged\u001b[38;5;241m.\u001b[39mhead()\n",
      "File \u001b[1;32m~\\anaconda3\\Lib\\site-packages\\pandas\\core\\frame.py:5568\u001b[0m, in \u001b[0;36mDataFrame.drop\u001b[1;34m(self, labels, axis, index, columns, level, inplace, errors)\u001b[0m\n\u001b[0;32m   5420\u001b[0m \u001b[38;5;28;01mdef\u001b[39;00m \u001b[38;5;21mdrop\u001b[39m(\n\u001b[0;32m   5421\u001b[0m     \u001b[38;5;28mself\u001b[39m,\n\u001b[0;32m   5422\u001b[0m     labels: IndexLabel \u001b[38;5;241m|\u001b[39m \u001b[38;5;28;01mNone\u001b[39;00m \u001b[38;5;241m=\u001b[39m \u001b[38;5;28;01mNone\u001b[39;00m,\n\u001b[1;32m   (...)\u001b[0m\n\u001b[0;32m   5429\u001b[0m     errors: IgnoreRaise \u001b[38;5;241m=\u001b[39m \u001b[38;5;124m\"\u001b[39m\u001b[38;5;124mraise\u001b[39m\u001b[38;5;124m\"\u001b[39m,\n\u001b[0;32m   5430\u001b[0m ) \u001b[38;5;241m-\u001b[39m\u001b[38;5;241m>\u001b[39m DataFrame \u001b[38;5;241m|\u001b[39m \u001b[38;5;28;01mNone\u001b[39;00m:\n\u001b[0;32m   5431\u001b[0m \u001b[38;5;250m    \u001b[39m\u001b[38;5;124;03m\"\"\"\u001b[39;00m\n\u001b[0;32m   5432\u001b[0m \u001b[38;5;124;03m    Drop specified labels from rows or columns.\u001b[39;00m\n\u001b[0;32m   5433\u001b[0m \n\u001b[1;32m   (...)\u001b[0m\n\u001b[0;32m   5566\u001b[0m \u001b[38;5;124;03m            weight  1.0     0.8\u001b[39;00m\n\u001b[0;32m   5567\u001b[0m \u001b[38;5;124;03m    \"\"\"\u001b[39;00m\n\u001b[1;32m-> 5568\u001b[0m     \u001b[38;5;28;01mreturn\u001b[39;00m \u001b[38;5;28msuper\u001b[39m()\u001b[38;5;241m.\u001b[39mdrop(\n\u001b[0;32m   5569\u001b[0m         labels\u001b[38;5;241m=\u001b[39mlabels,\n\u001b[0;32m   5570\u001b[0m         axis\u001b[38;5;241m=\u001b[39maxis,\n\u001b[0;32m   5571\u001b[0m         index\u001b[38;5;241m=\u001b[39mindex,\n\u001b[0;32m   5572\u001b[0m         columns\u001b[38;5;241m=\u001b[39mcolumns,\n\u001b[0;32m   5573\u001b[0m         level\u001b[38;5;241m=\u001b[39mlevel,\n\u001b[0;32m   5574\u001b[0m         inplace\u001b[38;5;241m=\u001b[39minplace,\n\u001b[0;32m   5575\u001b[0m         errors\u001b[38;5;241m=\u001b[39merrors,\n\u001b[0;32m   5576\u001b[0m     )\n",
      "File \u001b[1;32m~\\anaconda3\\Lib\\site-packages\\pandas\\core\\generic.py:4785\u001b[0m, in \u001b[0;36mNDFrame.drop\u001b[1;34m(self, labels, axis, index, columns, level, inplace, errors)\u001b[0m\n\u001b[0;32m   4783\u001b[0m \u001b[38;5;28;01mfor\u001b[39;00m axis, labels \u001b[38;5;129;01min\u001b[39;00m axes\u001b[38;5;241m.\u001b[39mitems():\n\u001b[0;32m   4784\u001b[0m     \u001b[38;5;28;01mif\u001b[39;00m labels \u001b[38;5;129;01mis\u001b[39;00m \u001b[38;5;129;01mnot\u001b[39;00m \u001b[38;5;28;01mNone\u001b[39;00m:\n\u001b[1;32m-> 4785\u001b[0m         obj \u001b[38;5;241m=\u001b[39m obj\u001b[38;5;241m.\u001b[39m_drop_axis(labels, axis, level\u001b[38;5;241m=\u001b[39mlevel, errors\u001b[38;5;241m=\u001b[39merrors)\n\u001b[0;32m   4787\u001b[0m \u001b[38;5;28;01mif\u001b[39;00m inplace:\n\u001b[0;32m   4788\u001b[0m     \u001b[38;5;28mself\u001b[39m\u001b[38;5;241m.\u001b[39m_update_inplace(obj)\n",
      "File \u001b[1;32m~\\anaconda3\\Lib\\site-packages\\pandas\\core\\generic.py:4827\u001b[0m, in \u001b[0;36mNDFrame._drop_axis\u001b[1;34m(self, labels, axis, level, errors, only_slice)\u001b[0m\n\u001b[0;32m   4825\u001b[0m         new_axis \u001b[38;5;241m=\u001b[39m axis\u001b[38;5;241m.\u001b[39mdrop(labels, level\u001b[38;5;241m=\u001b[39mlevel, errors\u001b[38;5;241m=\u001b[39merrors)\n\u001b[0;32m   4826\u001b[0m     \u001b[38;5;28;01melse\u001b[39;00m:\n\u001b[1;32m-> 4827\u001b[0m         new_axis \u001b[38;5;241m=\u001b[39m axis\u001b[38;5;241m.\u001b[39mdrop(labels, errors\u001b[38;5;241m=\u001b[39merrors)\n\u001b[0;32m   4828\u001b[0m     indexer \u001b[38;5;241m=\u001b[39m axis\u001b[38;5;241m.\u001b[39mget_indexer(new_axis)\n\u001b[0;32m   4830\u001b[0m \u001b[38;5;66;03m# Case for non-unique axis\u001b[39;00m\n\u001b[0;32m   4831\u001b[0m \u001b[38;5;28;01melse\u001b[39;00m:\n",
      "File \u001b[1;32m~\\anaconda3\\Lib\\site-packages\\pandas\\core\\indexes\\base.py:7070\u001b[0m, in \u001b[0;36mIndex.drop\u001b[1;34m(self, labels, errors)\u001b[0m\n\u001b[0;32m   7068\u001b[0m \u001b[38;5;28;01mif\u001b[39;00m mask\u001b[38;5;241m.\u001b[39many():\n\u001b[0;32m   7069\u001b[0m     \u001b[38;5;28;01mif\u001b[39;00m errors \u001b[38;5;241m!=\u001b[39m \u001b[38;5;124m\"\u001b[39m\u001b[38;5;124mignore\u001b[39m\u001b[38;5;124m\"\u001b[39m:\n\u001b[1;32m-> 7070\u001b[0m         \u001b[38;5;28;01mraise\u001b[39;00m \u001b[38;5;167;01mKeyError\u001b[39;00m(\u001b[38;5;124mf\u001b[39m\u001b[38;5;124m\"\u001b[39m\u001b[38;5;132;01m{\u001b[39;00mlabels[mask]\u001b[38;5;241m.\u001b[39mtolist()\u001b[38;5;132;01m}\u001b[39;00m\u001b[38;5;124m not found in axis\u001b[39m\u001b[38;5;124m\"\u001b[39m)\n\u001b[0;32m   7071\u001b[0m     indexer \u001b[38;5;241m=\u001b[39m indexer[\u001b[38;5;241m~\u001b[39mmask]\n\u001b[0;32m   7072\u001b[0m \u001b[38;5;28;01mreturn\u001b[39;00m \u001b[38;5;28mself\u001b[39m\u001b[38;5;241m.\u001b[39mdelete(indexer)\n",
      "\u001b[1;31mKeyError\u001b[0m: \"['week_start'] not found in axis\""
     ]
    }
   ],
   "source": [
    "# dropping week_start column\n",
    "tsa_gas_merged = tsa_gas_merged.drop(columns=['week_start'])\n",
    "tsa_gas_merged.head()"
   ]
  },
  {
   "cell_type": "code",
   "execution_count": 250,
   "id": "3e4330e2-bb88-4a72-a4e6-2a402eb9e0e8",
   "metadata": {},
   "outputs": [],
   "source": [
    "# renamed columns from numbers to passengers\n",
    "tsa_gas_merged = tsa_gas_merged.rename(columns={'numbers': 'passengers'})"
   ]
  },
  {
   "cell_type": "code",
   "execution_count": null,
   "id": "7ba68bc4-bdc3-43a5-a48f-00efd1ba05d4",
   "metadata": {},
   "outputs": [],
   "source": [
    "# save tsa gas merged csv\n",
    "tsa_gas_merged.to_csv('tsa_gas_merged.csv', index=False)"
   ]
  },
  {
   "cell_type": "code",
   "execution_count": 252,
   "id": "f90e2c0f-1129-49c5-b759-9ddf280d9c67",
   "metadata": {},
   "outputs": [],
   "source": [
    "# merge airfare and gas/tsa csvs to one csv\n",
    "tsa_gas_merged = pd.merge_asof(\n",
    "    tsa,                # daily TSA data\n",
    "    gas,                # weekly gas data\n",
    "    left_on='date',     # TSA daily date\n",
    "    right_on='week_start'  # weekly gas week start\n",
    ")"
   ]
  },
  {
   "cell_type": "code",
   "execution_count": null,
   "id": "9082898d-1a9c-47ba-b9cf-aaa29ff215ab",
   "metadata": {},
   "outputs": [],
   "source": [
    "# Merge TSA+gas with monthly unemployment\n",
    "tsa_gas_unemp = pd.merge_asof(\n",
    "    tsa_gas_merged.sort_values('date'),\n",
    "    unemployment.sort_values('month_date'),   # make sure you created a datetime col for year+month\n",
    "    left_on='date',\n",
    "    right_on='month_date'\n",
    ")"
   ]
  },
  {
   "cell_type": "code",
   "execution_count": 253,
   "id": "13164a61-d8f4-4411-aff4-8e2b74a02eab",
   "metadata": {},
   "outputs": [
    {
     "name": "stdout",
     "output_type": "stream",
     "text": [
      "Collecting prophetNote: you may need to restart the kernel to use updated packages.\n",
      "\n",
      "  Downloading prophet-1.1.7-py3-none-win_amd64.whl.metadata (3.6 kB)\n",
      "Collecting cmdstanpy>=1.0.4 (from prophet)\n",
      "  Downloading cmdstanpy-1.2.5-py3-none-any.whl.metadata (4.0 kB)\n",
      "Requirement already satisfied: numpy>=1.15.4 in c:\\users\\jstew\\anaconda3\\lib\\site-packages (from prophet) (1.26.4)\n",
      "Requirement already satisfied: matplotlib>=2.0.0 in c:\\users\\jstew\\anaconda3\\lib\\site-packages (from prophet) (3.8.0)\n",
      "Requirement already satisfied: pandas>=1.0.4 in c:\\users\\jstew\\anaconda3\\lib\\site-packages (from prophet) (2.2.1)\n",
      "Collecting holidays<1,>=0.25 (from prophet)\n",
      "  Downloading holidays-0.78-py3-none-any.whl.metadata (46 kB)\n",
      "     ---------------------------------------- 0.0/46.6 kB ? eta -:--:--\n",
      "     -------- ------------------------------- 10.2/46.6 kB ? eta -:--:--\n",
      "     ------------------------- ------------ 30.7/46.6 kB 435.7 kB/s eta 0:00:01\n",
      "     -------------------------------------- 46.6/46.6 kB 386.7 kB/s eta 0:00:00\n",
      "Requirement already satisfied: tqdm>=4.36.1 in c:\\users\\jstew\\anaconda3\\lib\\site-packages (from prophet) (4.65.0)\n",
      "Collecting importlib_resources (from prophet)\n",
      "  Downloading importlib_resources-6.5.2-py3-none-any.whl.metadata (3.9 kB)\n",
      "Collecting stanio<2.0.0,>=0.4.0 (from cmdstanpy>=1.0.4->prophet)\n",
      "  Downloading stanio-0.5.1-py3-none-any.whl.metadata (1.6 kB)\n",
      "Requirement already satisfied: python-dateutil in c:\\users\\jstew\\anaconda3\\lib\\site-packages (from holidays<1,>=0.25->prophet) (2.8.2)\n",
      "Requirement already satisfied: contourpy>=1.0.1 in c:\\users\\jstew\\anaconda3\\lib\\site-packages (from matplotlib>=2.0.0->prophet) (1.2.0)\n",
      "Requirement already satisfied: cycler>=0.10 in c:\\users\\jstew\\anaconda3\\lib\\site-packages (from matplotlib>=2.0.0->prophet) (0.11.0)\n",
      "Requirement already satisfied: fonttools>=4.22.0 in c:\\users\\jstew\\anaconda3\\lib\\site-packages (from matplotlib>=2.0.0->prophet) (4.25.0)\n",
      "Requirement already satisfied: kiwisolver>=1.0.1 in c:\\users\\jstew\\anaconda3\\lib\\site-packages (from matplotlib>=2.0.0->prophet) (1.4.4)\n",
      "Requirement already satisfied: packaging>=20.0 in c:\\users\\jstew\\anaconda3\\lib\\site-packages (from matplotlib>=2.0.0->prophet) (23.1)\n",
      "Requirement already satisfied: pillow>=6.2.0 in c:\\users\\jstew\\anaconda3\\lib\\site-packages (from matplotlib>=2.0.0->prophet) (10.2.0)\n",
      "Requirement already satisfied: pyparsing>=2.3.1 in c:\\users\\jstew\\anaconda3\\lib\\site-packages (from matplotlib>=2.0.0->prophet) (3.0.9)\n",
      "Requirement already satisfied: pytz>=2020.1 in c:\\users\\jstew\\anaconda3\\lib\\site-packages (from pandas>=1.0.4->prophet) (2023.3.post1)\n",
      "Requirement already satisfied: tzdata>=2022.7 in c:\\users\\jstew\\anaconda3\\lib\\site-packages (from pandas>=1.0.4->prophet) (2023.3)\n",
      "Requirement already satisfied: colorama in c:\\users\\jstew\\anaconda3\\lib\\site-packages (from tqdm>=4.36.1->prophet) (0.4.6)\n",
      "Requirement already satisfied: six>=1.5 in c:\\users\\jstew\\anaconda3\\lib\\site-packages (from python-dateutil->holidays<1,>=0.25->prophet) (1.16.0)\n",
      "Downloading prophet-1.1.7-py3-none-win_amd64.whl (13.3 MB)\n",
      "   ---------------------------------------- 0.0/13.3 MB ? eta -:--:--\n",
      "    --------------------------------------- 0.2/13.3 MB 3.9 MB/s eta 0:00:04\n",
      "   - -------------------------------------- 0.4/13.3 MB 3.9 MB/s eta 0:00:04\n",
      "   - -------------------------------------- 0.6/13.3 MB 4.4 MB/s eta 0:00:03\n",
      "   --- ------------------------------------ 1.0/13.3 MB 5.5 MB/s eta 0:00:03\n",
      "   ---- ----------------------------------- 1.4/13.3 MB 6.0 MB/s eta 0:00:02\n",
      "   ----- ---------------------------------- 1.9/13.3 MB 6.3 MB/s eta 0:00:02\n",
      "   ------- -------------------------------- 2.4/13.3 MB 7.1 MB/s eta 0:00:02\n",
      "   ------- -------------------------------- 2.5/13.3 MB 7.2 MB/s eta 0:00:02\n",
      "   --------- ------------------------------ 3.0/13.3 MB 7.1 MB/s eta 0:00:02\n",
      "   ----------- ---------------------------- 3.7/13.3 MB 7.6 MB/s eta 0:00:02\n",
      "   ------------ --------------------------- 4.2/13.3 MB 7.9 MB/s eta 0:00:02\n",
      "   -------------- ------------------------- 4.9/13.3 MB 8.5 MB/s eta 0:00:01\n",
      "   ----------------- ---------------------- 5.7/13.3 MB 9.1 MB/s eta 0:00:01\n",
      "   ------------------- -------------------- 6.3/13.3 MB 9.4 MB/s eta 0:00:01\n",
      "   ---------------------- ----------------- 7.5/13.3 MB 10.4 MB/s eta 0:00:01\n",
      "   ------------------------ --------------- 8.0/13.3 MB 10.7 MB/s eta 0:00:01\n",
      "   ------------------------- -------------- 8.6/13.3 MB 10.7 MB/s eta 0:00:01\n",
      "   --------------------------- ------------ 9.3/13.3 MB 10.8 MB/s eta 0:00:01\n",
      "   ------------------------------- -------- 10.4/13.3 MB 11.9 MB/s eta 0:00:01\n",
      "   ---------------------------------- ----- 11.5/13.3 MB 13.9 MB/s eta 0:00:01\n",
      "   ------------------------------------ --- 12.2/13.3 MB 14.2 MB/s eta 0:00:01\n",
      "   ---------------------------------------  13.3/13.3 MB 16.4 MB/s eta 0:00:01\n",
      "   ---------------------------------------  13.3/13.3 MB 16.4 MB/s eta 0:00:01\n",
      "   ---------------------------------------  13.3/13.3 MB 16.4 MB/s eta 0:00:01\n",
      "   ---------------------------------------- 13.3/13.3 MB 13.9 MB/s eta 0:00:00\n",
      "Downloading cmdstanpy-1.2.5-py3-none-any.whl (94 kB)\n",
      "   ---------------------------------------- 0.0/94.5 kB ? eta -:--:--\n",
      "   ---------------------------------------- 94.5/94.5 kB 2.7 MB/s eta 0:00:00\n",
      "Downloading holidays-0.78-py3-none-any.whl (1.2 MB)\n",
      "   ---------------------------------------- 0.0/1.2 MB ? eta -:--:--\n",
      "   ------------------------ --------------- 0.7/1.2 MB 48.5 MB/s eta 0:00:01\n",
      "   ---------------------------------------  1.2/1.2 MB 19.0 MB/s eta 0:00:01\n",
      "   ---------------------------------------- 1.2/1.2 MB 15.2 MB/s eta 0:00:00\n",
      "Downloading importlib_resources-6.5.2-py3-none-any.whl (37 kB)\n",
      "Downloading stanio-0.5.1-py3-none-any.whl (8.1 kB)\n",
      "Installing collected packages: stanio, importlib_resources, holidays, cmdstanpy, prophet\n",
      "Successfully installed cmdstanpy-1.2.5 holidays-0.78 importlib_resources-6.5.2 prophet-1.1.7 stanio-0.5.1\n"
     ]
    }
   ],
   "source": [
    "# prophet for forecasting\n",
    "pip install prophet"
   ]
  },
  {
   "cell_type": "code",
   "execution_count": 277,
   "id": "70016c46-e924-404c-92b4-c9729e4cbebe",
   "metadata": {},
   "outputs": [],
   "source": [
    "from prophet import Prophet"
   ]
  },
  {
   "cell_type": "code",
   "execution_count": 290,
   "id": "067530d3-6c81-42ea-acb5-54e238aa4887",
   "metadata": {},
   "outputs": [],
   "source": [
    "model = Prophet(yearly_seasonality=True, weekly_seasonality=True)"
   ]
  },
  {
   "cell_type": "code",
   "execution_count": 291,
   "id": "159506d1-f5c5-42f0-a160-9acd813fa333",
   "metadata": {},
   "outputs": [
    {
     "name": "stderr",
     "output_type": "stream",
     "text": [
      "20:51:31 - cmdstanpy - INFO - Chain [1] start processing\n",
      "20:51:32 - cmdstanpy - INFO - Chain [1] done processing\n"
     ]
    },
    {
     "data": {
      "text/plain": [
       "<prophet.forecaster.Prophet at 0x28349346c10>"
      ]
     },
     "execution_count": 291,
     "metadata": {},
     "output_type": "execute_result"
    }
   ],
   "source": [
    "model.fit(tsa_df)"
   ]
  },
  {
   "cell_type": "code",
   "execution_count": 292,
   "id": "7c0f93d9-c635-47c3-8de9-e8f146c2465c",
   "metadata": {},
   "outputs": [],
   "source": [
    "future = model.make_future_dataframe(periods=20)"
   ]
  },
  {
   "cell_type": "code",
   "execution_count": 293,
   "id": "9ee77f7d-7455-495a-a695-24962fceb0ca",
   "metadata": {},
   "outputs": [],
   "source": [
    "forecast = model.predict(future)"
   ]
  },
  {
   "cell_type": "code",
   "execution_count": 297,
   "id": "138ad80d-894c-46a8-8d2c-39428f0d5e96",
   "metadata": {},
   "outputs": [
    {
     "data": {
      "text/html": [
       "<div>\n",
       "<style scoped>\n",
       "    .dataframe tbody tr th:only-of-type {\n",
       "        vertical-align: middle;\n",
       "    }\n",
       "\n",
       "    .dataframe tbody tr th {\n",
       "        vertical-align: top;\n",
       "    }\n",
       "\n",
       "    .dataframe thead th {\n",
       "        text-align: right;\n",
       "    }\n",
       "</style>\n",
       "<table border=\"1\" class=\"dataframe\">\n",
       "  <thead>\n",
       "    <tr style=\"text-align: right;\">\n",
       "      <th></th>\n",
       "      <th>ds</th>\n",
       "      <th>yhat</th>\n",
       "      <th>yhat_lower</th>\n",
       "      <th>yhat_upper</th>\n",
       "    </tr>\n",
       "  </thead>\n",
       "  <tbody>\n",
       "    <tr>\n",
       "      <th>2417</th>\n",
       "      <td>2025-08-14</td>\n",
       "      <td>2.723999e+06</td>\n",
       "      <td>2.486343e+06</td>\n",
       "      <td>2.973343e+06</td>\n",
       "    </tr>\n",
       "    <tr>\n",
       "      <th>2418</th>\n",
       "      <td>2025-08-15</td>\n",
       "      <td>2.760592e+06</td>\n",
       "      <td>2.505638e+06</td>\n",
       "      <td>3.004229e+06</td>\n",
       "    </tr>\n",
       "    <tr>\n",
       "      <th>2419</th>\n",
       "      <td>2025-08-16</td>\n",
       "      <td>2.416302e+06</td>\n",
       "      <td>2.163216e+06</td>\n",
       "      <td>2.662827e+06</td>\n",
       "    </tr>\n",
       "    <tr>\n",
       "      <th>2420</th>\n",
       "      <td>2025-08-17</td>\n",
       "      <td>2.730065e+06</td>\n",
       "      <td>2.495935e+06</td>\n",
       "      <td>2.976075e+06</td>\n",
       "    </tr>\n",
       "    <tr>\n",
       "      <th>2421</th>\n",
       "      <td>2025-08-18</td>\n",
       "      <td>2.642867e+06</td>\n",
       "      <td>2.387578e+06</td>\n",
       "      <td>2.878395e+06</td>\n",
       "    </tr>\n",
       "    <tr>\n",
       "      <th>2422</th>\n",
       "      <td>2025-08-19</td>\n",
       "      <td>2.314934e+06</td>\n",
       "      <td>2.053618e+06</td>\n",
       "      <td>2.558438e+06</td>\n",
       "    </tr>\n",
       "    <tr>\n",
       "      <th>2423</th>\n",
       "      <td>2025-08-20</td>\n",
       "      <td>2.393428e+06</td>\n",
       "      <td>2.140778e+06</td>\n",
       "      <td>2.638738e+06</td>\n",
       "    </tr>\n",
       "    <tr>\n",
       "      <th>2424</th>\n",
       "      <td>2025-08-21</td>\n",
       "      <td>2.635371e+06</td>\n",
       "      <td>2.385566e+06</td>\n",
       "      <td>2.890792e+06</td>\n",
       "    </tr>\n",
       "    <tr>\n",
       "      <th>2425</th>\n",
       "      <td>2025-08-22</td>\n",
       "      <td>2.678491e+06</td>\n",
       "      <td>2.445300e+06</td>\n",
       "      <td>2.917516e+06</td>\n",
       "    </tr>\n",
       "    <tr>\n",
       "      <th>2426</th>\n",
       "      <td>2025-08-23</td>\n",
       "      <td>2.341193e+06</td>\n",
       "      <td>2.091880e+06</td>\n",
       "      <td>2.566111e+06</td>\n",
       "    </tr>\n",
       "    <tr>\n",
       "      <th>2427</th>\n",
       "      <td>2025-08-24</td>\n",
       "      <td>2.662217e+06</td>\n",
       "      <td>2.428998e+06</td>\n",
       "      <td>2.921256e+06</td>\n",
       "    </tr>\n",
       "    <tr>\n",
       "      <th>2428</th>\n",
       "      <td>2025-08-25</td>\n",
       "      <td>2.582358e+06</td>\n",
       "      <td>2.342086e+06</td>\n",
       "      <td>2.812075e+06</td>\n",
       "    </tr>\n",
       "    <tr>\n",
       "      <th>2429</th>\n",
       "      <td>2025-08-26</td>\n",
       "      <td>2.261655e+06</td>\n",
       "      <td>2.028738e+06</td>\n",
       "      <td>2.508808e+06</td>\n",
       "    </tr>\n",
       "    <tr>\n",
       "      <th>2430</th>\n",
       "      <td>2025-08-27</td>\n",
       "      <td>2.347092e+06</td>\n",
       "      <td>2.092872e+06</td>\n",
       "      <td>2.605531e+06</td>\n",
       "    </tr>\n",
       "    <tr>\n",
       "      <th>2431</th>\n",
       "      <td>2025-08-28</td>\n",
       "      <td>2.595534e+06</td>\n",
       "      <td>2.354924e+06</td>\n",
       "      <td>2.851448e+06</td>\n",
       "    </tr>\n",
       "    <tr>\n",
       "      <th>2432</th>\n",
       "      <td>2025-08-29</td>\n",
       "      <td>2.644570e+06</td>\n",
       "      <td>2.393728e+06</td>\n",
       "      <td>2.881975e+06</td>\n",
       "    </tr>\n",
       "    <tr>\n",
       "      <th>2433</th>\n",
       "      <td>2025-08-30</td>\n",
       "      <td>2.312493e+06</td>\n",
       "      <td>2.082577e+06</td>\n",
       "      <td>2.546494e+06</td>\n",
       "    </tr>\n",
       "    <tr>\n",
       "      <th>2434</th>\n",
       "      <td>2025-08-31</td>\n",
       "      <td>2.637960e+06</td>\n",
       "      <td>2.408434e+06</td>\n",
       "      <td>2.871157e+06</td>\n",
       "    </tr>\n",
       "    <tr>\n",
       "      <th>2435</th>\n",
       "      <td>2025-09-01</td>\n",
       "      <td>2.561711e+06</td>\n",
       "      <td>2.313244e+06</td>\n",
       "      <td>2.797798e+06</td>\n",
       "    </tr>\n",
       "    <tr>\n",
       "      <th>2436</th>\n",
       "      <td>2025-09-02</td>\n",
       "      <td>2.243763e+06</td>\n",
       "      <td>2.000714e+06</td>\n",
       "      <td>2.485233e+06</td>\n",
       "    </tr>\n",
       "    <tr>\n",
       "      <th>2437</th>\n",
       "      <td>2025-09-03</td>\n",
       "      <td>2.331111e+06</td>\n",
       "      <td>2.099385e+06</td>\n",
       "      <td>2.581649e+06</td>\n",
       "    </tr>\n",
       "  </tbody>\n",
       "</table>\n",
       "</div>"
      ],
      "text/plain": [
       "             ds          yhat    yhat_lower    yhat_upper\n",
       "2417 2025-08-14  2.723999e+06  2.486343e+06  2.973343e+06\n",
       "2418 2025-08-15  2.760592e+06  2.505638e+06  3.004229e+06\n",
       "2419 2025-08-16  2.416302e+06  2.163216e+06  2.662827e+06\n",
       "2420 2025-08-17  2.730065e+06  2.495935e+06  2.976075e+06\n",
       "2421 2025-08-18  2.642867e+06  2.387578e+06  2.878395e+06\n",
       "2422 2025-08-19  2.314934e+06  2.053618e+06  2.558438e+06\n",
       "2423 2025-08-20  2.393428e+06  2.140778e+06  2.638738e+06\n",
       "2424 2025-08-21  2.635371e+06  2.385566e+06  2.890792e+06\n",
       "2425 2025-08-22  2.678491e+06  2.445300e+06  2.917516e+06\n",
       "2426 2025-08-23  2.341193e+06  2.091880e+06  2.566111e+06\n",
       "2427 2025-08-24  2.662217e+06  2.428998e+06  2.921256e+06\n",
       "2428 2025-08-25  2.582358e+06  2.342086e+06  2.812075e+06\n",
       "2429 2025-08-26  2.261655e+06  2.028738e+06  2.508808e+06\n",
       "2430 2025-08-27  2.347092e+06  2.092872e+06  2.605531e+06\n",
       "2431 2025-08-28  2.595534e+06  2.354924e+06  2.851448e+06\n",
       "2432 2025-08-29  2.644570e+06  2.393728e+06  2.881975e+06\n",
       "2433 2025-08-30  2.312493e+06  2.082577e+06  2.546494e+06\n",
       "2434 2025-08-31  2.637960e+06  2.408434e+06  2.871157e+06\n",
       "2435 2025-09-01  2.561711e+06  2.313244e+06  2.797798e+06\n",
       "2436 2025-09-02  2.243763e+06  2.000714e+06  2.485233e+06\n",
       "2437 2025-09-03  2.331111e+06  2.099385e+06  2.581649e+06"
      ]
     },
     "execution_count": 297,
     "metadata": {},
     "output_type": "execute_result"
    }
   ],
   "source": [
    "forecast[['ds','yhat','yhat_lower','yhat_upper']].tail(21)"
   ]
  },
  {
   "cell_type": "code",
   "execution_count": 300,
   "id": "eded2fc0-7d60-4b1c-99a4-b3b167ccd700",
   "metadata": {},
   "outputs": [],
   "source": [
    "predicted_passengers = int(forecast[forecast['ds']=='2025-08-14']['yhat'].values[0])"
   ]
  },
  {
   "cell_type": "code",
   "execution_count": 301,
   "id": "1cc54e23-fdbc-4171-8590-017fb875226b",
   "metadata": {},
   "outputs": [
    {
     "name": "stdout",
     "output_type": "stream",
     "text": [
      "2723999\n"
     ]
    }
   ],
   "source": [
    "print(predicted_passengers)"
   ]
  },
  {
   "cell_type": "code",
   "execution_count": null,
   "id": "698dd791-ae23-4f7e-b2ce-a97b6df419b6",
   "metadata": {},
   "outputs": [],
   "source": []
  }
 ],
 "metadata": {
  "kernelspec": {
   "display_name": "Python 3 (ipykernel)",
   "language": "python",
   "name": "python3"
  },
  "language_info": {
   "codemirror_mode": {
    "name": "ipython",
    "version": 3
   },
   "file_extension": ".py",
   "mimetype": "text/x-python",
   "name": "python",
   "nbconvert_exporter": "python",
   "pygments_lexer": "ipython3",
   "version": "3.11.7"
  }
 },
 "nbformat": 4,
 "nbformat_minor": 5
}
