{
 "cells": [
  {
   "cell_type": "code",
   "execution_count": 17,
   "id": "3e11d115-d36f-4bd7-88be-6f6f49c4743a",
   "metadata": {},
   "outputs": [],
   "source": [
    "import requests\n",
    "from bs4 import BeautifulSoup\n",
    "import pandas as pd"
   ]
  },
  {
   "cell_type": "code",
   "execution_count": 18,
   "id": "d33cc78c-5906-48db-a8a5-7ce2b25a93ba",
   "metadata": {},
   "outputs": [
    {
     "name": "stderr",
     "output_type": "stream",
     "text": [
      "C:\\Users\\jstew\\AppData\\Local\\Temp\\ipykernel_24128\\1588065648.py:6: FutureWarning: Passing literal html to 'read_html' is deprecated and will be removed in a future version. To read from a literal string, wrap it in a 'StringIO' object.\n",
      "  df = pd.read_html(str(table))[0]\n"
     ]
    }
   ],
   "source": [
    "# --- Scraping tsa data ---\n",
    "url = \"https://www.eia.gov/dnav/pet/hist/leafhandler.ashx?f=m&n=pet&s=emm_epm0_pte_nus_dpg\"\n",
    "response = requests.get(url)\n",
    "soup = BeautifulSoup(response.text, 'html.parser')\n",
    "table = soup.find('table')\n",
    "df = pd.read_html(str(table))[0]"
   ]
  },
  {
   "cell_type": "code",
   "execution_count": 20,
   "id": "dc88af0a-8818-419b-b843-95ee68228e73",
   "metadata": {},
   "outputs": [
    {
     "name": "stderr",
     "output_type": "stream",
     "text": [
      "C:\\Users\\jstew\\anaconda3\\Lib\\site-packages\\openpyxl\\styles\\stylesheet.py:226: UserWarning: Workbook contains no default style, apply openpyxl's default\n",
      "  warn(\"Workbook contains no default style, apply openpyxl's default\")\n"
     ]
    },
    {
     "ename": "ValueError",
     "evalue": "Worksheet named 'Data 1' not found",
     "output_type": "error",
     "traceback": [
      "\u001b[1;31m---------------------------------------------------------------------------\u001b[0m",
      "\u001b[1;31mValueError\u001b[0m                                Traceback (most recent call last)",
      "Cell \u001b[1;32mIn[20], line 3\u001b[0m\n\u001b[0;32m      1\u001b[0m \u001b[38;5;66;03m# --- use xlrd openxl to convert xls files to csv for gas prices ---\u001b[39;00m\n\u001b[0;32m      2\u001b[0m xls_file \u001b[38;5;241m=\u001b[39m \u001b[38;5;124mr\u001b[39m\u001b[38;5;124m\"\u001b[39m\u001b[38;5;124mC:\u001b[39m\u001b[38;5;124m\\\u001b[39m\u001b[38;5;124mUsers\u001b[39m\u001b[38;5;124m\\\u001b[39m\u001b[38;5;124mjstew\u001b[39m\u001b[38;5;124m\\\u001b[39m\u001b[38;5;124mDE_projects\u001b[39m\u001b[38;5;124m\\\u001b[39m\u001b[38;5;124mTSA-labor-day\u001b[39m\u001b[38;5;124m\\\u001b[39m\u001b[38;5;124mUnemployment-rates.xlsx\u001b[39m\u001b[38;5;124m\"\u001b[39m\n\u001b[1;32m----> 3\u001b[0m df \u001b[38;5;241m=\u001b[39m pd\u001b[38;5;241m.\u001b[39mread_excel(xls_file, sheet_name\u001b[38;5;241m=\u001b[39m\u001b[38;5;124m'\u001b[39m\u001b[38;5;124mData 1\u001b[39m\u001b[38;5;124m'\u001b[39m, skiprows\u001b[38;5;241m=\u001b[39m\u001b[38;5;241m1\u001b[39m)\n",
      "File \u001b[1;32m~\\anaconda3\\Lib\\site-packages\\pandas\\io\\excel\\_base.py:508\u001b[0m, in \u001b[0;36mread_excel\u001b[1;34m(io, sheet_name, header, names, index_col, usecols, dtype, engine, converters, true_values, false_values, skiprows, nrows, na_values, keep_default_na, na_filter, verbose, parse_dates, date_parser, date_format, thousands, decimal, comment, skipfooter, storage_options, dtype_backend, engine_kwargs)\u001b[0m\n\u001b[0;32m    502\u001b[0m     \u001b[38;5;28;01mraise\u001b[39;00m \u001b[38;5;167;01mValueError\u001b[39;00m(\n\u001b[0;32m    503\u001b[0m         \u001b[38;5;124m\"\u001b[39m\u001b[38;5;124mEngine should not be specified when passing \u001b[39m\u001b[38;5;124m\"\u001b[39m\n\u001b[0;32m    504\u001b[0m         \u001b[38;5;124m\"\u001b[39m\u001b[38;5;124man ExcelFile - ExcelFile already has the engine set\u001b[39m\u001b[38;5;124m\"\u001b[39m\n\u001b[0;32m    505\u001b[0m     )\n\u001b[0;32m    507\u001b[0m \u001b[38;5;28;01mtry\u001b[39;00m:\n\u001b[1;32m--> 508\u001b[0m     data \u001b[38;5;241m=\u001b[39m io\u001b[38;5;241m.\u001b[39mparse(\n\u001b[0;32m    509\u001b[0m         sheet_name\u001b[38;5;241m=\u001b[39msheet_name,\n\u001b[0;32m    510\u001b[0m         header\u001b[38;5;241m=\u001b[39mheader,\n\u001b[0;32m    511\u001b[0m         names\u001b[38;5;241m=\u001b[39mnames,\n\u001b[0;32m    512\u001b[0m         index_col\u001b[38;5;241m=\u001b[39mindex_col,\n\u001b[0;32m    513\u001b[0m         usecols\u001b[38;5;241m=\u001b[39musecols,\n\u001b[0;32m    514\u001b[0m         dtype\u001b[38;5;241m=\u001b[39mdtype,\n\u001b[0;32m    515\u001b[0m         converters\u001b[38;5;241m=\u001b[39mconverters,\n\u001b[0;32m    516\u001b[0m         true_values\u001b[38;5;241m=\u001b[39mtrue_values,\n\u001b[0;32m    517\u001b[0m         false_values\u001b[38;5;241m=\u001b[39mfalse_values,\n\u001b[0;32m    518\u001b[0m         skiprows\u001b[38;5;241m=\u001b[39mskiprows,\n\u001b[0;32m    519\u001b[0m         nrows\u001b[38;5;241m=\u001b[39mnrows,\n\u001b[0;32m    520\u001b[0m         na_values\u001b[38;5;241m=\u001b[39mna_values,\n\u001b[0;32m    521\u001b[0m         keep_default_na\u001b[38;5;241m=\u001b[39mkeep_default_na,\n\u001b[0;32m    522\u001b[0m         na_filter\u001b[38;5;241m=\u001b[39mna_filter,\n\u001b[0;32m    523\u001b[0m         verbose\u001b[38;5;241m=\u001b[39mverbose,\n\u001b[0;32m    524\u001b[0m         parse_dates\u001b[38;5;241m=\u001b[39mparse_dates,\n\u001b[0;32m    525\u001b[0m         date_parser\u001b[38;5;241m=\u001b[39mdate_parser,\n\u001b[0;32m    526\u001b[0m         date_format\u001b[38;5;241m=\u001b[39mdate_format,\n\u001b[0;32m    527\u001b[0m         thousands\u001b[38;5;241m=\u001b[39mthousands,\n\u001b[0;32m    528\u001b[0m         decimal\u001b[38;5;241m=\u001b[39mdecimal,\n\u001b[0;32m    529\u001b[0m         comment\u001b[38;5;241m=\u001b[39mcomment,\n\u001b[0;32m    530\u001b[0m         skipfooter\u001b[38;5;241m=\u001b[39mskipfooter,\n\u001b[0;32m    531\u001b[0m         dtype_backend\u001b[38;5;241m=\u001b[39mdtype_backend,\n\u001b[0;32m    532\u001b[0m     )\n\u001b[0;32m    533\u001b[0m \u001b[38;5;28;01mfinally\u001b[39;00m:\n\u001b[0;32m    534\u001b[0m     \u001b[38;5;66;03m# make sure to close opened file handles\u001b[39;00m\n\u001b[0;32m    535\u001b[0m     \u001b[38;5;28;01mif\u001b[39;00m should_close:\n",
      "File \u001b[1;32m~\\anaconda3\\Lib\\site-packages\\pandas\\io\\excel\\_base.py:1616\u001b[0m, in \u001b[0;36mExcelFile.parse\u001b[1;34m(self, sheet_name, header, names, index_col, usecols, converters, true_values, false_values, skiprows, nrows, na_values, parse_dates, date_parser, date_format, thousands, comment, skipfooter, dtype_backend, **kwds)\u001b[0m\n\u001b[0;32m   1576\u001b[0m \u001b[38;5;28;01mdef\u001b[39;00m \u001b[38;5;21mparse\u001b[39m(\n\u001b[0;32m   1577\u001b[0m     \u001b[38;5;28mself\u001b[39m,\n\u001b[0;32m   1578\u001b[0m     sheet_name: \u001b[38;5;28mstr\u001b[39m \u001b[38;5;241m|\u001b[39m \u001b[38;5;28mint\u001b[39m \u001b[38;5;241m|\u001b[39m \u001b[38;5;28mlist\u001b[39m[\u001b[38;5;28mint\u001b[39m] \u001b[38;5;241m|\u001b[39m \u001b[38;5;28mlist\u001b[39m[\u001b[38;5;28mstr\u001b[39m] \u001b[38;5;241m|\u001b[39m \u001b[38;5;28;01mNone\u001b[39;00m \u001b[38;5;241m=\u001b[39m \u001b[38;5;241m0\u001b[39m,\n\u001b[1;32m   (...)\u001b[0m\n\u001b[0;32m   1596\u001b[0m     \u001b[38;5;241m*\u001b[39m\u001b[38;5;241m*\u001b[39mkwds,\n\u001b[0;32m   1597\u001b[0m ) \u001b[38;5;241m-\u001b[39m\u001b[38;5;241m>\u001b[39m DataFrame \u001b[38;5;241m|\u001b[39m \u001b[38;5;28mdict\u001b[39m[\u001b[38;5;28mstr\u001b[39m, DataFrame] \u001b[38;5;241m|\u001b[39m \u001b[38;5;28mdict\u001b[39m[\u001b[38;5;28mint\u001b[39m, DataFrame]:\n\u001b[0;32m   1598\u001b[0m \u001b[38;5;250m    \u001b[39m\u001b[38;5;124;03m\"\"\"\u001b[39;00m\n\u001b[0;32m   1599\u001b[0m \u001b[38;5;124;03m    Parse specified sheet(s) into a DataFrame.\u001b[39;00m\n\u001b[0;32m   1600\u001b[0m \n\u001b[1;32m   (...)\u001b[0m\n\u001b[0;32m   1614\u001b[0m \u001b[38;5;124;03m    >>> file.parse()  # doctest: +SKIP\u001b[39;00m\n\u001b[0;32m   1615\u001b[0m \u001b[38;5;124;03m    \"\"\"\u001b[39;00m\n\u001b[1;32m-> 1616\u001b[0m     \u001b[38;5;28;01mreturn\u001b[39;00m \u001b[38;5;28mself\u001b[39m\u001b[38;5;241m.\u001b[39m_reader\u001b[38;5;241m.\u001b[39mparse(\n\u001b[0;32m   1617\u001b[0m         sheet_name\u001b[38;5;241m=\u001b[39msheet_name,\n\u001b[0;32m   1618\u001b[0m         header\u001b[38;5;241m=\u001b[39mheader,\n\u001b[0;32m   1619\u001b[0m         names\u001b[38;5;241m=\u001b[39mnames,\n\u001b[0;32m   1620\u001b[0m         index_col\u001b[38;5;241m=\u001b[39mindex_col,\n\u001b[0;32m   1621\u001b[0m         usecols\u001b[38;5;241m=\u001b[39musecols,\n\u001b[0;32m   1622\u001b[0m         converters\u001b[38;5;241m=\u001b[39mconverters,\n\u001b[0;32m   1623\u001b[0m         true_values\u001b[38;5;241m=\u001b[39mtrue_values,\n\u001b[0;32m   1624\u001b[0m         false_values\u001b[38;5;241m=\u001b[39mfalse_values,\n\u001b[0;32m   1625\u001b[0m         skiprows\u001b[38;5;241m=\u001b[39mskiprows,\n\u001b[0;32m   1626\u001b[0m         nrows\u001b[38;5;241m=\u001b[39mnrows,\n\u001b[0;32m   1627\u001b[0m         na_values\u001b[38;5;241m=\u001b[39mna_values,\n\u001b[0;32m   1628\u001b[0m         parse_dates\u001b[38;5;241m=\u001b[39mparse_dates,\n\u001b[0;32m   1629\u001b[0m         date_parser\u001b[38;5;241m=\u001b[39mdate_parser,\n\u001b[0;32m   1630\u001b[0m         date_format\u001b[38;5;241m=\u001b[39mdate_format,\n\u001b[0;32m   1631\u001b[0m         thousands\u001b[38;5;241m=\u001b[39mthousands,\n\u001b[0;32m   1632\u001b[0m         comment\u001b[38;5;241m=\u001b[39mcomment,\n\u001b[0;32m   1633\u001b[0m         skipfooter\u001b[38;5;241m=\u001b[39mskipfooter,\n\u001b[0;32m   1634\u001b[0m         dtype_backend\u001b[38;5;241m=\u001b[39mdtype_backend,\n\u001b[0;32m   1635\u001b[0m         \u001b[38;5;241m*\u001b[39m\u001b[38;5;241m*\u001b[39mkwds,\n\u001b[0;32m   1636\u001b[0m     )\n",
      "File \u001b[1;32m~\\anaconda3\\Lib\\site-packages\\pandas\\io\\excel\\_base.py:773\u001b[0m, in \u001b[0;36mBaseExcelReader.parse\u001b[1;34m(self, sheet_name, header, names, index_col, usecols, dtype, true_values, false_values, skiprows, nrows, na_values, verbose, parse_dates, date_parser, date_format, thousands, decimal, comment, skipfooter, dtype_backend, **kwds)\u001b[0m\n\u001b[0;32m    770\u001b[0m     \u001b[38;5;28mprint\u001b[39m(\u001b[38;5;124mf\u001b[39m\u001b[38;5;124m\"\u001b[39m\u001b[38;5;124mReading sheet \u001b[39m\u001b[38;5;132;01m{\u001b[39;00masheetname\u001b[38;5;132;01m}\u001b[39;00m\u001b[38;5;124m\"\u001b[39m)\n\u001b[0;32m    772\u001b[0m \u001b[38;5;28;01mif\u001b[39;00m \u001b[38;5;28misinstance\u001b[39m(asheetname, \u001b[38;5;28mstr\u001b[39m):\n\u001b[1;32m--> 773\u001b[0m     sheet \u001b[38;5;241m=\u001b[39m \u001b[38;5;28mself\u001b[39m\u001b[38;5;241m.\u001b[39mget_sheet_by_name(asheetname)\n\u001b[0;32m    774\u001b[0m \u001b[38;5;28;01melse\u001b[39;00m:  \u001b[38;5;66;03m# assume an integer if not a string\u001b[39;00m\n\u001b[0;32m    775\u001b[0m     sheet \u001b[38;5;241m=\u001b[39m \u001b[38;5;28mself\u001b[39m\u001b[38;5;241m.\u001b[39mget_sheet_by_index(asheetname)\n",
      "File \u001b[1;32m~\\anaconda3\\Lib\\site-packages\\pandas\\io\\excel\\_openpyxl.py:582\u001b[0m, in \u001b[0;36mOpenpyxlReader.get_sheet_by_name\u001b[1;34m(self, name)\u001b[0m\n\u001b[0;32m    581\u001b[0m \u001b[38;5;28;01mdef\u001b[39;00m \u001b[38;5;21mget_sheet_by_name\u001b[39m(\u001b[38;5;28mself\u001b[39m, name: \u001b[38;5;28mstr\u001b[39m):\n\u001b[1;32m--> 582\u001b[0m     \u001b[38;5;28mself\u001b[39m\u001b[38;5;241m.\u001b[39mraise_if_bad_sheet_by_name(name)\n\u001b[0;32m    583\u001b[0m     \u001b[38;5;28;01mreturn\u001b[39;00m \u001b[38;5;28mself\u001b[39m\u001b[38;5;241m.\u001b[39mbook[name]\n",
      "File \u001b[1;32m~\\anaconda3\\Lib\\site-packages\\pandas\\io\\excel\\_base.py:624\u001b[0m, in \u001b[0;36mBaseExcelReader.raise_if_bad_sheet_by_name\u001b[1;34m(self, name)\u001b[0m\n\u001b[0;32m    622\u001b[0m \u001b[38;5;28;01mdef\u001b[39;00m \u001b[38;5;21mraise_if_bad_sheet_by_name\u001b[39m(\u001b[38;5;28mself\u001b[39m, name: \u001b[38;5;28mstr\u001b[39m) \u001b[38;5;241m-\u001b[39m\u001b[38;5;241m>\u001b[39m \u001b[38;5;28;01mNone\u001b[39;00m:\n\u001b[0;32m    623\u001b[0m     \u001b[38;5;28;01mif\u001b[39;00m name \u001b[38;5;129;01mnot\u001b[39;00m \u001b[38;5;129;01min\u001b[39;00m \u001b[38;5;28mself\u001b[39m\u001b[38;5;241m.\u001b[39msheet_names:\n\u001b[1;32m--> 624\u001b[0m         \u001b[38;5;28;01mraise\u001b[39;00m \u001b[38;5;167;01mValueError\u001b[39;00m(\u001b[38;5;124mf\u001b[39m\u001b[38;5;124m\"\u001b[39m\u001b[38;5;124mWorksheet named \u001b[39m\u001b[38;5;124m'\u001b[39m\u001b[38;5;132;01m{\u001b[39;00mname\u001b[38;5;132;01m}\u001b[39;00m\u001b[38;5;124m'\u001b[39m\u001b[38;5;124m not found\u001b[39m\u001b[38;5;124m\"\u001b[39m)\n",
      "\u001b[1;31mValueError\u001b[0m: Worksheet named 'Data 1' not found"
     ]
    }
   ],
   "source": [
    "# --- use xlrd openxl to convert xls files to csv for gas prices ---\n",
    "xls_file = r\"C:\\Users\\jstew\\DE_projects\\TSA-labor-day\\Unemployment-rates.xlsx\"\n",
    "df = pd.read_excel(xls_file, sheet_name='Data 1', skiprows=1)"
   ]
  },
  {
   "cell_type": "code",
   "execution_count": 21,
   "id": "578d5a5f-3c04-4c16-9c20-8f1203c5218c",
   "metadata": {},
   "outputs": [
    {
     "data": {
      "text/html": [
       "<div>\n",
       "<style scoped>\n",
       "    .dataframe tbody tr th:only-of-type {\n",
       "        vertical-align: middle;\n",
       "    }\n",
       "\n",
       "    .dataframe tbody tr th {\n",
       "        vertical-align: top;\n",
       "    }\n",
       "\n",
       "    .dataframe thead th {\n",
       "        text-align: right;\n",
       "    }\n",
       "</style>\n",
       "<table border=\"1\" class=\"dataframe\">\n",
       "  <thead>\n",
       "    <tr style=\"text-align: right;\">\n",
       "      <th></th>\n",
       "      <th>0</th>\n",
       "    </tr>\n",
       "  </thead>\n",
       "  <tbody>\n",
       "    <tr>\n",
       "      <th>0</th>\n",
       "      <td>View History: Weekly Monthly Annual Download D...</td>\n",
       "    </tr>\n",
       "    <tr>\n",
       "      <th>1</th>\n",
       "      <td>U.S. All Grades All Formulations Retail Gasoli...</td>\n",
       "    </tr>\n",
       "  </tbody>\n",
       "</table>\n",
       "</div>"
      ],
      "text/plain": [
       "                                                   0\n",
       "0  View History: Weekly Monthly Annual Download D...\n",
       "1  U.S. All Grades All Formulations Retail Gasoli..."
      ]
     },
     "execution_count": 21,
     "metadata": {},
     "output_type": "execute_result"
    }
   ],
   "source": [
    "# --- viewing xls first 5 rows ---\n",
    "df.head()"
   ]
  },
  {
   "cell_type": "code",
   "execution_count": 318,
   "id": "578bb3e8-564f-44ae-b8b8-393e195613d2",
   "metadata": {},
   "outputs": [],
   "source": [
    "# convert df to csv file\n",
    "df.to_csv('gas-prices-weekly.csv', index=False)"
   ]
  },
  {
   "cell_type": "code",
   "execution_count": 443,
   "id": "ebf8f8e6-d5b4-43ba-9bde-16a7caf67d03",
   "metadata": {},
   "outputs": [
    {
     "name": "stdout",
     "output_type": "stream",
     "text": [
      "['BLS Data Series']\n"
     ]
    },
    {
     "name": "stderr",
     "output_type": "stream",
     "text": [
      "C:\\Users\\jstew\\anaconda3\\Lib\\site-packages\\openpyxl\\styles\\stylesheet.py:226: UserWarning:\n",
      "\n",
      "Workbook contains no default style, apply openpyxl's default\n",
      "\n"
     ]
    },
    {
     "data": {
      "text/html": [
       "<div>\n",
       "<style scoped>\n",
       "    .dataframe tbody tr th:only-of-type {\n",
       "        vertical-align: middle;\n",
       "    }\n",
       "\n",
       "    .dataframe tbody tr th {\n",
       "        vertical-align: top;\n",
       "    }\n",
       "\n",
       "    .dataframe thead th {\n",
       "        text-align: right;\n",
       "    }\n",
       "</style>\n",
       "<table border=\"1\" class=\"dataframe\">\n",
       "  <thead>\n",
       "    <tr style=\"text-align: right;\">\n",
       "      <th></th>\n",
       "      <th>Year</th>\n",
       "      <th>Jan</th>\n",
       "      <th>Feb</th>\n",
       "      <th>Mar</th>\n",
       "      <th>Apr</th>\n",
       "      <th>May</th>\n",
       "      <th>Jun</th>\n",
       "      <th>Jul</th>\n",
       "      <th>Aug</th>\n",
       "      <th>Sep</th>\n",
       "      <th>Oct</th>\n",
       "      <th>Nov</th>\n",
       "      <th>Dec</th>\n",
       "    </tr>\n",
       "  </thead>\n",
       "  <tbody>\n",
       "    <tr>\n",
       "      <th>0</th>\n",
       "      <td>2015</td>\n",
       "      <td>5.7</td>\n",
       "      <td>5.5</td>\n",
       "      <td>5.4</td>\n",
       "      <td>5.4</td>\n",
       "      <td>5.6</td>\n",
       "      <td>5.3</td>\n",
       "      <td>5.2</td>\n",
       "      <td>5.1</td>\n",
       "      <td>5.0</td>\n",
       "      <td>5.0</td>\n",
       "      <td>5.1</td>\n",
       "      <td>5.0</td>\n",
       "    </tr>\n",
       "    <tr>\n",
       "      <th>1</th>\n",
       "      <td>2016</td>\n",
       "      <td>4.8</td>\n",
       "      <td>4.9</td>\n",
       "      <td>5.0</td>\n",
       "      <td>5.1</td>\n",
       "      <td>4.8</td>\n",
       "      <td>4.9</td>\n",
       "      <td>4.8</td>\n",
       "      <td>4.9</td>\n",
       "      <td>5.0</td>\n",
       "      <td>4.9</td>\n",
       "      <td>4.7</td>\n",
       "      <td>4.7</td>\n",
       "    </tr>\n",
       "    <tr>\n",
       "      <th>2</th>\n",
       "      <td>2017</td>\n",
       "      <td>4.7</td>\n",
       "      <td>4.6</td>\n",
       "      <td>4.4</td>\n",
       "      <td>4.4</td>\n",
       "      <td>4.4</td>\n",
       "      <td>4.3</td>\n",
       "      <td>4.3</td>\n",
       "      <td>4.4</td>\n",
       "      <td>4.3</td>\n",
       "      <td>4.2</td>\n",
       "      <td>4.2</td>\n",
       "      <td>4.1</td>\n",
       "    </tr>\n",
       "    <tr>\n",
       "      <th>3</th>\n",
       "      <td>2018</td>\n",
       "      <td>4.0</td>\n",
       "      <td>4.1</td>\n",
       "      <td>4.0</td>\n",
       "      <td>4.0</td>\n",
       "      <td>3.8</td>\n",
       "      <td>4.0</td>\n",
       "      <td>3.8</td>\n",
       "      <td>3.8</td>\n",
       "      <td>3.7</td>\n",
       "      <td>3.8</td>\n",
       "      <td>3.8</td>\n",
       "      <td>3.9</td>\n",
       "    </tr>\n",
       "    <tr>\n",
       "      <th>4</th>\n",
       "      <td>2019</td>\n",
       "      <td>4.0</td>\n",
       "      <td>3.8</td>\n",
       "      <td>3.8</td>\n",
       "      <td>3.7</td>\n",
       "      <td>3.6</td>\n",
       "      <td>3.6</td>\n",
       "      <td>3.7</td>\n",
       "      <td>3.6</td>\n",
       "      <td>3.5</td>\n",
       "      <td>3.6</td>\n",
       "      <td>3.6</td>\n",
       "      <td>3.6</td>\n",
       "    </tr>\n",
       "  </tbody>\n",
       "</table>\n",
       "</div>"
      ],
      "text/plain": [
       "   Year  Jan  Feb  Mar  Apr  May  Jun  Jul  Aug  Sep  Oct  Nov  Dec\n",
       "0  2015  5.7  5.5  5.4  5.4  5.6  5.3  5.2  5.1  5.0  5.0  5.1  5.0\n",
       "1  2016  4.8  4.9  5.0  5.1  4.8  4.9  4.8  4.9  5.0  4.9  4.7  4.7\n",
       "2  2017  4.7  4.6  4.4  4.4  4.4  4.3  4.3  4.4  4.3  4.2  4.2  4.1\n",
       "3  2018  4.0  4.1  4.0  4.0  3.8  4.0  3.8  3.8  3.7  3.8  3.8  3.9\n",
       "4  2019  4.0  3.8  3.8  3.7  3.6  3.6  3.7  3.6  3.5  3.6  3.6  3.6"
      ]
     },
     "execution_count": 443,
     "metadata": {},
     "output_type": "execute_result"
    }
   ],
   "source": [
    "# --- use xlrd openxl to convert xls files to csv for unemployment rates ---\n",
    "xls_file = \"C:/Users/jstew/DE_projects/TSA-labor-day/Unemployment-rates.xlsx\"\n",
    "xls = pd.ExcelFile(xls_file)\n",
    "print(xls.sheet_names)\n",
    "\n",
    "df = pd.read_excel(xls_file, sheet_name='BLS Data Series', skiprows=11)\n",
    "df.head()"
   ]
  },
  {
   "cell_type": "code",
   "execution_count": 444,
   "id": "441130b5-33a6-4e7a-b07e-44e5eaece09a",
   "metadata": {},
   "outputs": [],
   "source": [
    "# save unemployment-rates as a csv\n",
    "df.to_csv('unemployment-rates.csv', index=False)"
   ]
  },
  {
   "cell_type": "code",
   "execution_count": 445,
   "id": "8b92a01c-616f-4e3b-bb56-f2da7bc0309d",
   "metadata": {},
   "outputs": [],
   "source": [
    "df_unemployment = df"
   ]
  },
  {
   "cell_type": "code",
   "execution_count": 447,
   "id": "5b10f731-4ec7-42ef-aa37-56897cbc097e",
   "metadata": {},
   "outputs": [
    {
     "data": {
      "text/plain": [
       "Year      int64\n",
       "Jan     float64\n",
       "Feb     float64\n",
       "Mar     float64\n",
       "Apr     float64\n",
       "May     float64\n",
       "Jun     float64\n",
       "Jul     float64\n",
       "Aug     float64\n",
       "Sep     float64\n",
       "Oct     float64\n",
       "Nov     float64\n",
       "Dec     float64\n",
       "dtype: object"
      ]
     },
     "execution_count": 447,
     "metadata": {},
     "output_type": "execute_result"
    }
   ],
   "source": [
    "df_unemployment.dtypes"
   ]
  },
  {
   "cell_type": "code",
   "execution_count": 448,
   "id": "205bed7a-75d8-4f97-8b4c-b6416b16a9a2",
   "metadata": {},
   "outputs": [],
   "source": [
    "# Melt wide table (Jan, Feb, ...) into long format\n",
    "df_unemp_long = df_unemployment.melt(\n",
    "    id_vars=['Year'],\n",
    "    value_vars=['Jan','Feb','Mar','Apr','May','Jun',\n",
    "                'Jul','Aug','Sep','Oct','Nov','Dec'],\n",
    "    var_name='Month',\n",
    "    value_name='UnemploymentRate'\n",
    ")\n",
    "\n",
    "# Map month abbreviations to numbers\n",
    "month_map = {\n",
    "    'Jan': 1, 'Feb': 2, 'Mar': 3, 'Apr': 4,\n",
    "    'May': 5, 'Jun': 6, 'Jul': 7, 'Aug': 8,\n",
    "    'Sep': 9, 'Oct': 10, 'Nov': 11, 'Dec': 12\n",
    "}\n",
    "df_unemp_long['MonthNum'] = df_unemp_long['Month'].map(month_map)\n",
    "\n",
    "# Create a datetime column (set to first of each month)\n",
    "df_unemp_long['month_date'] = pd.to_datetime(\n",
    "    df_unemp_long['Year'].astype(str) + '-' + df_unemp_long['MonthNum'].astype(str) + '-01'\n",
    ")\n",
    "\n",
    "# Final unemployment dataframe\n",
    "unemployment = df_unemp_long[['month_date', 'UnemploymentRate']]"
   ]
  },
  {
   "cell_type": "code",
   "execution_count": 450,
   "id": "ccff9d1c-c5f4-471f-8b5c-2b2509434f22",
   "metadata": {},
   "outputs": [
    {
     "data": {
      "text/plain": [
       "month_date          datetime64[ns]\n",
       "UnemploymentRate           float64\n",
       "dtype: object"
      ]
     },
     "execution_count": 450,
     "metadata": {},
     "output_type": "execute_result"
    }
   ],
   "source": [
    "unemployment.dtypes"
   ]
  },
  {
   "cell_type": "code",
   "execution_count": 394,
   "id": "98e95405-fcb0-4b1b-8630-1a4aa32275b7",
   "metadata": {},
   "outputs": [
    {
     "name": "stdout",
     "output_type": "stream",
     "text": [
      "['Fares']\n"
     ]
    },
    {
     "data": {
      "text/html": [
       "<div>\n",
       "<style scoped>\n",
       "    .dataframe tbody tr th:only-of-type {\n",
       "        vertical-align: middle;\n",
       "    }\n",
       "\n",
       "    .dataframe tbody tr th {\n",
       "        vertical-align: top;\n",
       "    }\n",
       "\n",
       "    .dataframe thead th {\n",
       "        text-align: right;\n",
       "    }\n",
       "</style>\n",
       "<table border=\"1\" class=\"dataframe\">\n",
       "  <thead>\n",
       "    <tr style=\"text-align: right;\">\n",
       "      <th></th>\n",
       "      <th>Year</th>\n",
       "      <th>Quarter</th>\n",
       "      <th>U.S. Average (Current $)</th>\n",
       "      <th>U.S. Average (Inflation-Adjusted $)</th>\n",
       "    </tr>\n",
       "  </thead>\n",
       "  <tbody>\n",
       "    <tr>\n",
       "      <th>0</th>\n",
       "      <td>1995</td>\n",
       "      <td>1</td>\n",
       "      <td>296.895553</td>\n",
       "      <td>627.476878</td>\n",
       "    </tr>\n",
       "    <tr>\n",
       "      <th>1</th>\n",
       "      <td>1995</td>\n",
       "      <td>2</td>\n",
       "      <td>296.462724</td>\n",
       "      <td>621.073174</td>\n",
       "    </tr>\n",
       "    <tr>\n",
       "      <th>2</th>\n",
       "      <td>1995</td>\n",
       "      <td>3</td>\n",
       "      <td>287.514840</td>\n",
       "      <td>599.701035</td>\n",
       "    </tr>\n",
       "    <tr>\n",
       "      <th>3</th>\n",
       "      <td>1995</td>\n",
       "      <td>4</td>\n",
       "      <td>287.776292</td>\n",
       "      <td>597.380616</td>\n",
       "    </tr>\n",
       "    <tr>\n",
       "      <th>4</th>\n",
       "      <td>1996</td>\n",
       "      <td>1</td>\n",
       "      <td>283.969692</td>\n",
       "      <td>584.154358</td>\n",
       "    </tr>\n",
       "  </tbody>\n",
       "</table>\n",
       "</div>"
      ],
      "text/plain": [
       "   Year  Quarter  U.S. Average (Current $)   \\\n",
       "0  1995        1                 296.895553   \n",
       "1  1995        2                 296.462724   \n",
       "2  1995        3                 287.514840   \n",
       "3  1995        4                 287.776292   \n",
       "4  1996        1                 283.969692   \n",
       "\n",
       "   U.S. Average (Inflation-Adjusted $)   \n",
       "0                            627.476878  \n",
       "1                            621.073174  \n",
       "2                            599.701035  \n",
       "3                            597.380616  \n",
       "4                            584.154358  "
      ]
     },
     "execution_count": 394,
     "metadata": {},
     "output_type": "execute_result"
    }
   ],
   "source": [
    "# use xlrd openxl to convert xls files to csv for quarterly airfare pricing\n",
    "xls_file = \"C:/Users/jstew/DE_projects/TSA-labor-day/quarterly-airfare-rates.xlsx\"\n",
    "xls = pd.ExcelFile(xls_file)\n",
    "print(xls.sheet_names)\n",
    "\n",
    "df = pd.read_excel(xls_file, sheet_name='Fares', skiprows=0)\n",
    "df.head()"
   ]
  },
  {
   "cell_type": "code",
   "execution_count": 400,
   "id": "83b30e56-e95c-4615-a763-f287640f9d54",
   "metadata": {},
   "outputs": [
    {
     "name": "stdout",
     "output_type": "stream",
     "text": [
      "     Year  Quarter  U.S. Average (Current $)   \\\n",
      "0    1995        1                     296.90   \n",
      "1    1995        2                     296.46   \n",
      "2    1995        3                     287.51   \n",
      "3    1995        4                     287.78   \n",
      "4    1996        1                     283.97   \n",
      "..    ...      ...                        ...   \n",
      "116  2024        1                     387.95   \n",
      "117  2024        2                     382.27   \n",
      "118  2024        3                     365.65   \n",
      "119  2024        4                     397.67   \n",
      "120  2025        1                     397.16   \n",
      "\n",
      "     U.S. Average (Inflation-Adjusted $)   \n",
      "0                                  627.48  \n",
      "1                                  621.07  \n",
      "2                                  599.70  \n",
      "3                                  597.38  \n",
      "4                                  584.15  \n",
      "..                                    ...  \n",
      "116                                398.57  \n",
      "117                                388.26  \n",
      "118                                370.27  \n",
      "119                                401.78  \n",
      "120                                397.16  \n",
      "\n",
      "[121 rows x 4 columns]\n"
     ]
    }
   ],
   "source": [
    "# round airfare pricing to the nearest cent\n",
    "df = df.round(2)\n",
    "print(df)"
   ]
  },
  {
   "cell_type": "code",
   "execution_count": 408,
   "id": "f685acdb-bbcc-454a-94a7-e011c76e5ecc",
   "metadata": {},
   "outputs": [],
   "source": [
    "airfare_df = pd.read_csv('quarterly-airfare-rates.csv', skiprows=0)"
   ]
  },
  {
   "cell_type": "code",
   "execution_count": 410,
   "id": "e32638e5-0956-440f-bafc-d12d26321342",
   "metadata": {},
   "outputs": [
    {
     "name": "stdout",
     "output_type": "stream",
     "text": [
      "Index(['Year', 'Quarter', 'U.S. Average (Current $) ',\n",
      "       'U.S. Average (Inflation-Adjusted $) '],\n",
      "      dtype='object')\n"
     ]
    }
   ],
   "source": [
    "print(airfare_df.columns)"
   ]
  },
  {
   "cell_type": "code",
   "execution_count": 411,
   "id": "0f09cd4a-79a4-4c89-a1e9-f4d7495bdf9f",
   "metadata": {},
   "outputs": [],
   "source": [
    "# Rename columns to remove spaces and simplify\n",
    "airfare_df = airfare_df.rename(columns={\n",
    "    'Year': 'year',\n",
    "    'Quarter': 'quarter',\n",
    "    'U.S. Average (Current $) ': 'avg_current',\n",
    "    'U.S. Average (Inflation-Adjusted $) ': 'avg_inflation'\n",
    "})"
   ]
  },
  {
   "cell_type": "code",
   "execution_count": 412,
   "id": "84c884eb-2073-4cc0-bab3-c1993da9aab6",
   "metadata": {},
   "outputs": [
    {
     "name": "stderr",
     "output_type": "stream",
     "text": [
      "C:\\Users\\jstew\\AppData\\Local\\Temp\\ipykernel_5832\\2858479198.py:2: UserWarning:\n",
      "\n",
      "Could not infer format, so each element will be parsed individually, falling back to `dateutil`. To ensure parsing is consistent and as-expected, please specify a format.\n",
      "\n"
     ]
    }
   ],
   "source": [
    "# Now you can create a datetime from year and quarter\n",
    "airfare_df['quarter_date'] = pd.to_datetime(\n",
    "    airfare_df['year'].astype(str) + 'Q' + airfare_df['quarter'].astype(str)\n",
    ")"
   ]
  },
  {
   "cell_type": "code",
   "execution_count": 413,
   "id": "67e10e52-94a8-4983-9ee0-feca7da534bd",
   "metadata": {},
   "outputs": [],
   "source": [
    "quarter_to_month = {'1': '01', '2': '04', '3': '07', '4': '10'}"
   ]
  },
  {
   "cell_type": "code",
   "execution_count": 427,
   "id": "b45e8087-c25d-47ee-a0c6-ee427084f060",
   "metadata": {},
   "outputs": [
    {
     "ename": "KeyError",
     "evalue": "'quarter'",
     "output_type": "error",
     "traceback": [
      "\u001b[1;31m---------------------------------------------------------------------------\u001b[0m",
      "\u001b[1;31mKeyError\u001b[0m                                  Traceback (most recent call last)",
      "File \u001b[1;32m~\\anaconda3\\Lib\\site-packages\\pandas\\core\\indexes\\base.py:3805\u001b[0m, in \u001b[0;36mIndex.get_loc\u001b[1;34m(self, key)\u001b[0m\n\u001b[0;32m   3804\u001b[0m \u001b[38;5;28;01mtry\u001b[39;00m:\n\u001b[1;32m-> 3805\u001b[0m     \u001b[38;5;28;01mreturn\u001b[39;00m \u001b[38;5;28mself\u001b[39m\u001b[38;5;241m.\u001b[39m_engine\u001b[38;5;241m.\u001b[39mget_loc(casted_key)\n\u001b[0;32m   3806\u001b[0m \u001b[38;5;28;01mexcept\u001b[39;00m \u001b[38;5;167;01mKeyError\u001b[39;00m \u001b[38;5;28;01mas\u001b[39;00m err:\n",
      "File \u001b[1;32mindex.pyx:167\u001b[0m, in \u001b[0;36mpandas._libs.index.IndexEngine.get_loc\u001b[1;34m()\u001b[0m\n",
      "File \u001b[1;32mindex.pyx:196\u001b[0m, in \u001b[0;36mpandas._libs.index.IndexEngine.get_loc\u001b[1;34m()\u001b[0m\n",
      "File \u001b[1;32mpandas\\\\_libs\\\\hashtable_class_helper.pxi:7081\u001b[0m, in \u001b[0;36mpandas._libs.hashtable.PyObjectHashTable.get_item\u001b[1;34m()\u001b[0m\n",
      "File \u001b[1;32mpandas\\\\_libs\\\\hashtable_class_helper.pxi:7089\u001b[0m, in \u001b[0;36mpandas._libs.hashtable.PyObjectHashTable.get_item\u001b[1;34m()\u001b[0m\n",
      "\u001b[1;31mKeyError\u001b[0m: 'quarter'",
      "\nThe above exception was the direct cause of the following exception:\n",
      "\u001b[1;31mKeyError\u001b[0m                                  Traceback (most recent call last)",
      "Cell \u001b[1;32mIn[427], line 4\u001b[0m\n\u001b[0;32m      1\u001b[0m \u001b[38;5;66;03m# Create a proper datetime from year + quarter\u001b[39;00m\n\u001b[0;32m      2\u001b[0m airfare_df[\u001b[38;5;124m'\u001b[39m\u001b[38;5;124mquarter_date\u001b[39m\u001b[38;5;124m'\u001b[39m] \u001b[38;5;241m=\u001b[39m pd\u001b[38;5;241m.\u001b[39mto_datetime(\n\u001b[0;32m      3\u001b[0m     airfare_df[\u001b[38;5;124m'\u001b[39m\u001b[38;5;124myear\u001b[39m\u001b[38;5;124m'\u001b[39m]\u001b[38;5;241m.\u001b[39mastype(\u001b[38;5;28mstr\u001b[39m) \u001b[38;5;241m+\u001b[39m \u001b[38;5;124m'\u001b[39m\u001b[38;5;124m-\u001b[39m\u001b[38;5;124m'\u001b[39m \u001b[38;5;241m+\u001b[39m\n\u001b[1;32m----> 4\u001b[0m     airfare_df[\u001b[38;5;124m'\u001b[39m\u001b[38;5;124mquarter\u001b[39m\u001b[38;5;124m'\u001b[39m]\u001b[38;5;241m.\u001b[39mastype(\u001b[38;5;28mstr\u001b[39m)\u001b[38;5;241m.\u001b[39mmap(quarter_to_month) \u001b[38;5;241m+\u001b[39m \u001b[38;5;124m'\u001b[39m\u001b[38;5;124m-01\u001b[39m\u001b[38;5;124m'\u001b[39m\n\u001b[0;32m      5\u001b[0m )\n",
      "File \u001b[1;32m~\\anaconda3\\Lib\\site-packages\\pandas\\core\\frame.py:4090\u001b[0m, in \u001b[0;36mDataFrame.__getitem__\u001b[1;34m(self, key)\u001b[0m\n\u001b[0;32m   4088\u001b[0m \u001b[38;5;28;01mif\u001b[39;00m \u001b[38;5;28mself\u001b[39m\u001b[38;5;241m.\u001b[39mcolumns\u001b[38;5;241m.\u001b[39mnlevels \u001b[38;5;241m>\u001b[39m \u001b[38;5;241m1\u001b[39m:\n\u001b[0;32m   4089\u001b[0m     \u001b[38;5;28;01mreturn\u001b[39;00m \u001b[38;5;28mself\u001b[39m\u001b[38;5;241m.\u001b[39m_getitem_multilevel(key)\n\u001b[1;32m-> 4090\u001b[0m indexer \u001b[38;5;241m=\u001b[39m \u001b[38;5;28mself\u001b[39m\u001b[38;5;241m.\u001b[39mcolumns\u001b[38;5;241m.\u001b[39mget_loc(key)\n\u001b[0;32m   4091\u001b[0m \u001b[38;5;28;01mif\u001b[39;00m is_integer(indexer):\n\u001b[0;32m   4092\u001b[0m     indexer \u001b[38;5;241m=\u001b[39m [indexer]\n",
      "File \u001b[1;32m~\\anaconda3\\Lib\\site-packages\\pandas\\core\\indexes\\base.py:3812\u001b[0m, in \u001b[0;36mIndex.get_loc\u001b[1;34m(self, key)\u001b[0m\n\u001b[0;32m   3807\u001b[0m     \u001b[38;5;28;01mif\u001b[39;00m \u001b[38;5;28misinstance\u001b[39m(casted_key, \u001b[38;5;28mslice\u001b[39m) \u001b[38;5;129;01mor\u001b[39;00m (\n\u001b[0;32m   3808\u001b[0m         \u001b[38;5;28misinstance\u001b[39m(casted_key, abc\u001b[38;5;241m.\u001b[39mIterable)\n\u001b[0;32m   3809\u001b[0m         \u001b[38;5;129;01mand\u001b[39;00m \u001b[38;5;28many\u001b[39m(\u001b[38;5;28misinstance\u001b[39m(x, \u001b[38;5;28mslice\u001b[39m) \u001b[38;5;28;01mfor\u001b[39;00m x \u001b[38;5;129;01min\u001b[39;00m casted_key)\n\u001b[0;32m   3810\u001b[0m     ):\n\u001b[0;32m   3811\u001b[0m         \u001b[38;5;28;01mraise\u001b[39;00m InvalidIndexError(key)\n\u001b[1;32m-> 3812\u001b[0m     \u001b[38;5;28;01mraise\u001b[39;00m \u001b[38;5;167;01mKeyError\u001b[39;00m(key) \u001b[38;5;28;01mfrom\u001b[39;00m \u001b[38;5;21;01merr\u001b[39;00m\n\u001b[0;32m   3813\u001b[0m \u001b[38;5;28;01mexcept\u001b[39;00m \u001b[38;5;167;01mTypeError\u001b[39;00m:\n\u001b[0;32m   3814\u001b[0m     \u001b[38;5;66;03m# If we have a listlike key, _check_indexing_error will raise\u001b[39;00m\n\u001b[0;32m   3815\u001b[0m     \u001b[38;5;66;03m#  InvalidIndexError. Otherwise we fall through and re-raise\u001b[39;00m\n\u001b[0;32m   3816\u001b[0m     \u001b[38;5;66;03m#  the TypeError.\u001b[39;00m\n\u001b[0;32m   3817\u001b[0m     \u001b[38;5;28mself\u001b[39m\u001b[38;5;241m.\u001b[39m_check_indexing_error(key)\n",
      "\u001b[1;31mKeyError\u001b[0m: 'quarter'"
     ]
    }
   ],
   "source": [
    "# Create a proper datetime from year + quarter\n",
    "airfare_df['quarter_date'] = pd.to_datetime(\n",
    "    airfare_df['year'].astype(str) + '-' +\n",
    "    airfare_df['quarter'].astype(str).map(quarter_to_month) + '-01'\n",
    ")"
   ]
  },
  {
   "cell_type": "code",
   "execution_count": 428,
   "id": "5e8b4715-ad9d-4512-854a-b13a2a91f6f8",
   "metadata": {},
   "outputs": [
    {
     "name": "stdout",
     "output_type": "stream",
     "text": [
      "     year  avg_inflation quarter_date\n",
      "0    1995         627.48   1995-01-01\n",
      "1    1995         621.07   1995-04-01\n",
      "2    1995         599.70   1995-07-01\n",
      "3    1995         597.38   1995-10-01\n",
      "4    1996         584.15   1996-01-01\n",
      "..    ...            ...          ...\n",
      "116  2024         398.57   2024-01-01\n",
      "117  2024         388.26   2024-04-01\n",
      "118  2024         370.27   2024-07-01\n",
      "119  2024         401.78   2024-10-01\n",
      "120  2025         397.16   2025-01-01\n",
      "\n",
      "[121 rows x 3 columns]\n"
     ]
    }
   ],
   "source": [
    "print(airfare_df)"
   ]
  },
  {
   "cell_type": "code",
   "execution_count": 431,
   "id": "bf2ec4f6-0788-403d-904f-f706d527136e",
   "metadata": {},
   "outputs": [
    {
     "name": "stdout",
     "output_type": "stream",
     "text": [
      "     year  avg_inflation quarter_date\n",
      "0    1995         627.48   1995-01-01\n",
      "1    1995         621.07   1995-04-01\n",
      "2    1995         599.70   1995-07-01\n",
      "3    1995         597.38   1995-10-01\n",
      "4    1996         584.15   1996-01-01\n",
      "..    ...            ...          ...\n",
      "116  2024         398.57   2024-01-01\n",
      "117  2024         388.26   2024-04-01\n",
      "118  2024         370.27   2024-07-01\n",
      "119  2024         401.78   2024-10-01\n",
      "120  2025         397.16   2025-01-01\n",
      "\n",
      "[121 rows x 3 columns]\n"
     ]
    }
   ],
   "source": [
    "print(airfare_df)"
   ]
  },
  {
   "cell_type": "code",
   "execution_count": 551,
   "id": "d2afbc8c-6fff-4843-bade-f41fcfdcb73c",
   "metadata": {},
   "outputs": [],
   "source": [
    "# convert airfare df to csv file\n",
    "df.to_csv('quarterly-airfare-rates.csv', index=False)"
   ]
  },
  {
   "cell_type": "code",
   "execution_count": 552,
   "id": "77e3cbd8-7e4b-4e83-b534-e1022fca2069",
   "metadata": {},
   "outputs": [
    {
     "data": {
      "text/plain": [
       "year                      int64\n",
       "avg_inflation           float64\n",
       "quarter_date     datetime64[ns]\n",
       "dtype: object"
      ]
     },
     "execution_count": 552,
     "metadata": {},
     "output_type": "execute_result"
    }
   ],
   "source": [
    "airfare_df.dtypes"
   ]
  },
  {
   "cell_type": "code",
   "execution_count": 436,
   "id": "c7366358-ffbc-4ce9-a190-378ffa4f5928",
   "metadata": {},
   "outputs": [],
   "source": [
    "airfare_df = airfare_df.sort_values('quarter_date')"
   ]
  },
  {
   "cell_type": "code",
   "execution_count": 381,
   "id": "6c23502d-9ba8-4e97-8065-f1f4958a68e0",
   "metadata": {},
   "outputs": [
    {
     "name": "stdout",
     "output_type": "stream",
     "text": [
      "Merging these files: ['tsa_data_2019.csv', 'tsa_data_2020.csv', 'tsa_data_2021.csv', 'tsa_data_2022.csv', 'tsa_data_2023.csv', 'tsa_data_2024.csv', 'tsa_data_2025.csv']\n"
     ]
    }
   ],
   "source": [
    "# --- using glob to combine all tsa csv files to one large file for all years ---\n",
    "import pandas as pd\n",
    "import glob\n",
    "\n",
    "files = glob.glob(\"tsa_data_*.csv\")\n",
    "print(\"Merging these files:\", files)\n",
    "\n",
    "tsa_df = pd.concat([pd.read_csv(f) for f in files], ignore_index=True)\n",
    "tsa_df.to_csv(\"tsa_data_all_years.csv\", index=False)"
   ]
  },
  {
   "cell_type": "code",
   "execution_count": 382,
   "id": "15a52890-1d89-4db9-8936-3c481d78466f",
   "metadata": {},
   "outputs": [
    {
     "data": {
      "text/html": [
       "<div>\n",
       "<style scoped>\n",
       "    .dataframe tbody tr th:only-of-type {\n",
       "        vertical-align: middle;\n",
       "    }\n",
       "\n",
       "    .dataframe tbody tr th {\n",
       "        vertical-align: top;\n",
       "    }\n",
       "\n",
       "    .dataframe thead th {\n",
       "        text-align: right;\n",
       "    }\n",
       "</style>\n",
       "<table border=\"1\" class=\"dataframe\">\n",
       "  <thead>\n",
       "    <tr style=\"text-align: right;\">\n",
       "      <th></th>\n",
       "      <th>date</th>\n",
       "      <th>numbers</th>\n",
       "    </tr>\n",
       "  </thead>\n",
       "  <tbody>\n",
       "    <tr>\n",
       "      <th>0</th>\n",
       "      <td>2019-01-01</td>\n",
       "      <td>2201765</td>\n",
       "    </tr>\n",
       "    <tr>\n",
       "      <th>1</th>\n",
       "      <td>2019-01-02</td>\n",
       "      <td>2424225</td>\n",
       "    </tr>\n",
       "    <tr>\n",
       "      <th>2</th>\n",
       "      <td>2019-01-03</td>\n",
       "      <td>2279384</td>\n",
       "    </tr>\n",
       "    <tr>\n",
       "      <th>3</th>\n",
       "      <td>2019-01-04</td>\n",
       "      <td>2230078</td>\n",
       "    </tr>\n",
       "    <tr>\n",
       "      <th>4</th>\n",
       "      <td>2019-01-05</td>\n",
       "      <td>2049460</td>\n",
       "    </tr>\n",
       "  </tbody>\n",
       "</table>\n",
       "</div>"
      ],
      "text/plain": [
       "         date  numbers\n",
       "0  2019-01-01  2201765\n",
       "1  2019-01-02  2424225\n",
       "2  2019-01-03  2279384\n",
       "3  2019-01-04  2230078\n",
       "4  2019-01-05  2049460"
      ]
     },
     "execution_count": 382,
     "metadata": {},
     "output_type": "execute_result"
    }
   ],
   "source": [
    "# viewing first 5 rows of tsa new csv file\n",
    "tsa_df.head()"
   ]
  },
  {
   "cell_type": "code",
   "execution_count": 390,
   "id": "ff71cf07-6cd5-40ab-943f-b089c0709ddb",
   "metadata": {},
   "outputs": [
    {
     "data": {
      "text/html": [
       "<div>\n",
       "<style scoped>\n",
       "    .dataframe tbody tr th:only-of-type {\n",
       "        vertical-align: middle;\n",
       "    }\n",
       "\n",
       "    .dataframe tbody tr th {\n",
       "        vertical-align: top;\n",
       "    }\n",
       "\n",
       "    .dataframe thead th {\n",
       "        text-align: right;\n",
       "    }\n",
       "</style>\n",
       "<table border=\"1\" class=\"dataframe\">\n",
       "  <thead>\n",
       "    <tr style=\"text-align: right;\">\n",
       "      <th></th>\n",
       "      <th>date</th>\n",
       "      <th>numbers</th>\n",
       "    </tr>\n",
       "  </thead>\n",
       "  <tbody>\n",
       "    <tr>\n",
       "      <th>0</th>\n",
       "      <td>2019-01-01</td>\n",
       "      <td>2201765</td>\n",
       "    </tr>\n",
       "    <tr>\n",
       "      <th>1</th>\n",
       "      <td>2019-01-02</td>\n",
       "      <td>2424225</td>\n",
       "    </tr>\n",
       "    <tr>\n",
       "      <th>2</th>\n",
       "      <td>2019-01-03</td>\n",
       "      <td>2279384</td>\n",
       "    </tr>\n",
       "    <tr>\n",
       "      <th>3</th>\n",
       "      <td>2019-01-04</td>\n",
       "      <td>2230078</td>\n",
       "    </tr>\n",
       "    <tr>\n",
       "      <th>4</th>\n",
       "      <td>2019-01-05</td>\n",
       "      <td>2049460</td>\n",
       "    </tr>\n",
       "  </tbody>\n",
       "</table>\n",
       "</div>"
      ],
      "text/plain": [
       "         date  numbers\n",
       "0  2019-01-01  2201765\n",
       "1  2019-01-02  2424225\n",
       "2  2019-01-03  2279384\n",
       "3  2019-01-04  2230078\n",
       "4  2019-01-05  2049460"
      ]
     },
     "execution_count": 390,
     "metadata": {},
     "output_type": "execute_result"
    }
   ],
   "source": [
    "df = pd.read_csv('tsa_data_all_years.csv')\n",
    "df.head()"
   ]
  },
  {
   "cell_type": "code",
   "execution_count": null,
   "id": "81461327-e62c-4ed5-8b74-297d9e58f9d3",
   "metadata": {},
   "outputs": [],
   "source": [
    "# using to_datetime to change type to datetime for tsa csv\n",
    "tsa['date'] = pd.to_datetime(tsa['date'])\n",
    "\n",
    "# Rename columns\n",
    "gas = pd.read_csv('gas-prices-weekly.csv', skiprows=1)"
   ]
  },
  {
   "cell_type": "code",
   "execution_count": null,
   "id": "2c978780-e1be-4d2f-828d-a35044e1d69e",
   "metadata": {},
   "outputs": [],
   "source": [
    "# changing gas csv column names for better reading\n",
    "gas.columns = ['week_start', 'price']\n",
    "\n",
    "# using to_datetime to change type to datetime for gas csv\n",
    "gas['week_start'] = pd.to_datetime(gas['week_start'])"
   ]
  },
  {
   "cell_type": "code",
   "execution_count": 435,
   "id": "1f5df733-7c6d-4ddd-a604-ce80c61bea3d",
   "metadata": {},
   "outputs": [
    {
     "data": {
      "text/html": [
       "<div>\n",
       "<style scoped>\n",
       "    .dataframe tbody tr th:only-of-type {\n",
       "        vertical-align: middle;\n",
       "    }\n",
       "\n",
       "    .dataframe tbody tr th {\n",
       "        vertical-align: top;\n",
       "    }\n",
       "\n",
       "    .dataframe thead th {\n",
       "        text-align: right;\n",
       "    }\n",
       "</style>\n",
       "<table border=\"1\" class=\"dataframe\">\n",
       "  <thead>\n",
       "    <tr style=\"text-align: right;\">\n",
       "      <th></th>\n",
       "      <th>week_start</th>\n",
       "      <th>price</th>\n",
       "    </tr>\n",
       "  </thead>\n",
       "  <tbody>\n",
       "    <tr>\n",
       "      <th>0</th>\n",
       "      <td>1993-04-05</td>\n",
       "      <td>1.068</td>\n",
       "    </tr>\n",
       "    <tr>\n",
       "      <th>1</th>\n",
       "      <td>1993-04-12</td>\n",
       "      <td>1.079</td>\n",
       "    </tr>\n",
       "    <tr>\n",
       "      <th>2</th>\n",
       "      <td>1993-04-19</td>\n",
       "      <td>1.079</td>\n",
       "    </tr>\n",
       "    <tr>\n",
       "      <th>3</th>\n",
       "      <td>1993-04-26</td>\n",
       "      <td>1.086</td>\n",
       "    </tr>\n",
       "    <tr>\n",
       "      <th>4</th>\n",
       "      <td>1993-05-03</td>\n",
       "      <td>1.086</td>\n",
       "    </tr>\n",
       "  </tbody>\n",
       "</table>\n",
       "</div>"
      ],
      "text/plain": [
       "  week_start  price\n",
       "0 1993-04-05  1.068\n",
       "1 1993-04-12  1.079\n",
       "2 1993-04-19  1.079\n",
       "3 1993-04-26  1.086\n",
       "4 1993-05-03  1.086"
      ]
     },
     "execution_count": 435,
     "metadata": {},
     "output_type": "execute_result"
    }
   ],
   "source": [
    "# viewing first five rows of gas csv\n",
    "gas.head()"
   ]
  },
  {
   "cell_type": "code",
   "execution_count": null,
   "id": "b32615d6-e5a3-48ac-8dd8-641f246e97b4",
   "metadata": {},
   "outputs": [],
   "source": [
    "# saving update gas csv\n",
    "gas.to_csv('gas-prices-weekly.csv', index=False)"
   ]
  },
  {
   "cell_type": "code",
   "execution_count": null,
   "id": "0f7266f5-a4fc-43f0-8f17-dfef98540f53",
   "metadata": {},
   "outputs": [],
   "source": [
    "# viewing tsa and gas data types\n",
    "tsa.dtypes\n",
    "gas.dtypes"
   ]
  },
  {
   "cell_type": "code",
   "execution_count": null,
   "id": "9a31242b-922f-4995-a565-2456914fa691",
   "metadata": {},
   "outputs": [],
   "source": [
    "# sorting gas and tsa by date chronologically\n",
    "gas = gas.sort_values('week_start')\n",
    "tsa = tsa.sort_values('date')"
   ]
  },
  {
   "cell_type": "code",
   "execution_count": 451,
   "id": "00347bac-7548-41c8-a996-8f6914b0cfc6",
   "metadata": {},
   "outputs": [],
   "source": [
    "# merge tsa and gas csv to one csv\n",
    "tsa_gas_merged = pd.merge_asof(\n",
    "    tsa,                # daily TSA data\n",
    "    gas,                # weekly gas data\n",
    "    left_on='date',     # TSA daily date\n",
    "    right_on='week_start'  # weekly gas week start\n",
    ")"
   ]
  },
  {
   "cell_type": "code",
   "execution_count": 454,
   "id": "aaf77316-f408-450a-9134-c719b4b3b0cc",
   "metadata": {},
   "outputs": [],
   "source": [
    "# Merge unemployment (monthly)\n",
    "tsa_gas_unemp_merged = pd.merge_asof(\n",
    "    tsa_gas_merged.sort_values('date'),\n",
    "    unemployment.sort_values('month_date'),\n",
    "    left_on='date',\n",
    "    right_on='month_date'\n",
    ")"
   ]
  },
  {
   "cell_type": "code",
   "execution_count": 455,
   "id": "f7b13bcd-8da6-4dc0-bba0-9242908f1f4c",
   "metadata": {},
   "outputs": [],
   "source": [
    "# Merge airfare (quarterly)\n",
    "final_merged = pd.merge_asof(\n",
    "    tsa_gas_unemp_merged.sort_values('date'),\n",
    "    airfare_df.sort_values('quarter_date'),\n",
    "    left_on='date',\n",
    "    right_on='quarter_date'\n",
    ")"
   ]
  },
  {
   "cell_type": "code",
   "execution_count": 456,
   "id": "79206895-0371-457e-8f4b-a30e2c09e549",
   "metadata": {},
   "outputs": [
    {
     "name": "stdout",
     "output_type": "stream",
     "text": [
      "           date  numbers week_start  price month_date  UnemploymentRate  year  \\\n",
      "0    2019-01-01  2201765 2018-12-31  2.358 2019-01-01               4.0  2019   \n",
      "1    2019-01-02  2424225 2018-12-31  2.358 2019-01-01               4.0  2019   \n",
      "2    2019-01-03  2279384 2018-12-31  2.358 2019-01-01               4.0  2019   \n",
      "3    2019-01-04  2230078 2018-12-31  2.358 2019-01-01               4.0  2019   \n",
      "4    2019-01-05  2049460 2018-12-31  2.358 2019-01-01               4.0  2019   \n",
      "...         ...      ...        ...    ...        ...               ...   ...   \n",
      "2413 2025-08-10  2960349 2025-08-04  3.265 2025-08-01               NaN  2025   \n",
      "2414 2025-08-11  2763671 2025-08-11  3.243 2025-08-01               NaN  2025   \n",
      "2415 2025-08-12  2256082 2025-08-11  3.243 2025-08-01               NaN  2025   \n",
      "2416 2025-08-13  2331215 2025-08-11  3.243 2025-08-01               NaN  2025   \n",
      "2417 2025-08-14  2832747 2025-08-11  3.243 2025-08-01               NaN  2025   \n",
      "\n",
      "      avg_inflation quarter_date  \n",
      "0            441.43   2019-01-01  \n",
      "1            441.43   2019-01-01  \n",
      "2            441.43   2019-01-01  \n",
      "3            441.43   2019-01-01  \n",
      "4            441.43   2019-01-01  \n",
      "...             ...          ...  \n",
      "2413         397.16   2025-01-01  \n",
      "2414         397.16   2025-01-01  \n",
      "2415         397.16   2025-01-01  \n",
      "2416         397.16   2025-01-01  \n",
      "2417         397.16   2025-01-01  \n",
      "\n",
      "[2418 rows x 9 columns]\n"
     ]
    }
   ],
   "source": [
    "print(final_merged)"
   ]
  },
  {
   "cell_type": "code",
   "execution_count": 460,
   "id": "2c96e623-05b4-4fc4-83e7-23ddf402ffa0",
   "metadata": {},
   "outputs": [],
   "source": [
    "final_merged['UnemploymentRate'] = final_merged['UnemploymentRate'].ffill()"
   ]
  },
  {
   "cell_type": "code",
   "execution_count": 462,
   "id": "94652916-29e4-43fe-8c4f-86aabb6fc6a4",
   "metadata": {
    "scrolled": true
   },
   "outputs": [
    {
     "data": {
      "text/html": [
       "<div>\n",
       "<style scoped>\n",
       "    .dataframe tbody tr th:only-of-type {\n",
       "        vertical-align: middle;\n",
       "    }\n",
       "\n",
       "    .dataframe tbody tr th {\n",
       "        vertical-align: top;\n",
       "    }\n",
       "\n",
       "    .dataframe thead th {\n",
       "        text-align: right;\n",
       "    }\n",
       "</style>\n",
       "<table border=\"1\" class=\"dataframe\">\n",
       "  <thead>\n",
       "    <tr style=\"text-align: right;\">\n",
       "      <th></th>\n",
       "      <th>date</th>\n",
       "      <th>numbers</th>\n",
       "      <th>week_start</th>\n",
       "      <th>price</th>\n",
       "      <th>month_date</th>\n",
       "      <th>UnemploymentRate</th>\n",
       "      <th>avg_inflation</th>\n",
       "      <th>quarter_date</th>\n",
       "    </tr>\n",
       "  </thead>\n",
       "  <tbody>\n",
       "    <tr>\n",
       "      <th>0</th>\n",
       "      <td>2019-01-01</td>\n",
       "      <td>2201765</td>\n",
       "      <td>2018-12-31</td>\n",
       "      <td>2.358</td>\n",
       "      <td>2019-01-01</td>\n",
       "      <td>4.0</td>\n",
       "      <td>441.43</td>\n",
       "      <td>2019-01-01</td>\n",
       "    </tr>\n",
       "    <tr>\n",
       "      <th>1</th>\n",
       "      <td>2019-01-02</td>\n",
       "      <td>2424225</td>\n",
       "      <td>2018-12-31</td>\n",
       "      <td>2.358</td>\n",
       "      <td>2019-01-01</td>\n",
       "      <td>4.0</td>\n",
       "      <td>441.43</td>\n",
       "      <td>2019-01-01</td>\n",
       "    </tr>\n",
       "    <tr>\n",
       "      <th>2</th>\n",
       "      <td>2019-01-03</td>\n",
       "      <td>2279384</td>\n",
       "      <td>2018-12-31</td>\n",
       "      <td>2.358</td>\n",
       "      <td>2019-01-01</td>\n",
       "      <td>4.0</td>\n",
       "      <td>441.43</td>\n",
       "      <td>2019-01-01</td>\n",
       "    </tr>\n",
       "    <tr>\n",
       "      <th>3</th>\n",
       "      <td>2019-01-04</td>\n",
       "      <td>2230078</td>\n",
       "      <td>2018-12-31</td>\n",
       "      <td>2.358</td>\n",
       "      <td>2019-01-01</td>\n",
       "      <td>4.0</td>\n",
       "      <td>441.43</td>\n",
       "      <td>2019-01-01</td>\n",
       "    </tr>\n",
       "    <tr>\n",
       "      <th>4</th>\n",
       "      <td>2019-01-05</td>\n",
       "      <td>2049460</td>\n",
       "      <td>2018-12-31</td>\n",
       "      <td>2.358</td>\n",
       "      <td>2019-01-01</td>\n",
       "      <td>4.0</td>\n",
       "      <td>441.43</td>\n",
       "      <td>2019-01-01</td>\n",
       "    </tr>\n",
       "  </tbody>\n",
       "</table>\n",
       "</div>"
      ],
      "text/plain": [
       "        date  numbers week_start  price month_date  UnemploymentRate  \\\n",
       "0 2019-01-01  2201765 2018-12-31  2.358 2019-01-01               4.0   \n",
       "1 2019-01-02  2424225 2018-12-31  2.358 2019-01-01               4.0   \n",
       "2 2019-01-03  2279384 2018-12-31  2.358 2019-01-01               4.0   \n",
       "3 2019-01-04  2230078 2018-12-31  2.358 2019-01-01               4.0   \n",
       "4 2019-01-05  2049460 2018-12-31  2.358 2019-01-01               4.0   \n",
       "\n",
       "   avg_inflation quarter_date  \n",
       "0         441.43   2019-01-01  \n",
       "1         441.43   2019-01-01  \n",
       "2         441.43   2019-01-01  \n",
       "3         441.43   2019-01-01  \n",
       "4         441.43   2019-01-01  "
      ]
     },
     "execution_count": 462,
     "metadata": {},
     "output_type": "execute_result"
    }
   ],
   "source": [
    "# dropping year column\n",
    "final_merged = final_merged.drop(columns=['year'])\n",
    "final_merged.head()"
   ]
  },
  {
   "cell_type": "code",
   "execution_count": 463,
   "id": "c9c7fe1a-0b45-4d15-8281-9d7aa437b1a8",
   "metadata": {},
   "outputs": [
    {
     "data": {
      "text/html": [
       "<div>\n",
       "<style scoped>\n",
       "    .dataframe tbody tr th:only-of-type {\n",
       "        vertical-align: middle;\n",
       "    }\n",
       "\n",
       "    .dataframe tbody tr th {\n",
       "        vertical-align: top;\n",
       "    }\n",
       "\n",
       "    .dataframe thead th {\n",
       "        text-align: right;\n",
       "    }\n",
       "</style>\n",
       "<table border=\"1\" class=\"dataframe\">\n",
       "  <thead>\n",
       "    <tr style=\"text-align: right;\">\n",
       "      <th></th>\n",
       "      <th>date</th>\n",
       "      <th>numbers</th>\n",
       "      <th>week_start</th>\n",
       "      <th>price</th>\n",
       "      <th>UnemploymentRate</th>\n",
       "      <th>avg_inflation</th>\n",
       "      <th>quarter_date</th>\n",
       "    </tr>\n",
       "  </thead>\n",
       "  <tbody>\n",
       "    <tr>\n",
       "      <th>0</th>\n",
       "      <td>2019-01-01</td>\n",
       "      <td>2201765</td>\n",
       "      <td>2018-12-31</td>\n",
       "      <td>2.358</td>\n",
       "      <td>4.0</td>\n",
       "      <td>441.43</td>\n",
       "      <td>2019-01-01</td>\n",
       "    </tr>\n",
       "    <tr>\n",
       "      <th>1</th>\n",
       "      <td>2019-01-02</td>\n",
       "      <td>2424225</td>\n",
       "      <td>2018-12-31</td>\n",
       "      <td>2.358</td>\n",
       "      <td>4.0</td>\n",
       "      <td>441.43</td>\n",
       "      <td>2019-01-01</td>\n",
       "    </tr>\n",
       "    <tr>\n",
       "      <th>2</th>\n",
       "      <td>2019-01-03</td>\n",
       "      <td>2279384</td>\n",
       "      <td>2018-12-31</td>\n",
       "      <td>2.358</td>\n",
       "      <td>4.0</td>\n",
       "      <td>441.43</td>\n",
       "      <td>2019-01-01</td>\n",
       "    </tr>\n",
       "    <tr>\n",
       "      <th>3</th>\n",
       "      <td>2019-01-04</td>\n",
       "      <td>2230078</td>\n",
       "      <td>2018-12-31</td>\n",
       "      <td>2.358</td>\n",
       "      <td>4.0</td>\n",
       "      <td>441.43</td>\n",
       "      <td>2019-01-01</td>\n",
       "    </tr>\n",
       "    <tr>\n",
       "      <th>4</th>\n",
       "      <td>2019-01-05</td>\n",
       "      <td>2049460</td>\n",
       "      <td>2018-12-31</td>\n",
       "      <td>2.358</td>\n",
       "      <td>4.0</td>\n",
       "      <td>441.43</td>\n",
       "      <td>2019-01-01</td>\n",
       "    </tr>\n",
       "  </tbody>\n",
       "</table>\n",
       "</div>"
      ],
      "text/plain": [
       "        date  numbers week_start  price  UnemploymentRate  avg_inflation  \\\n",
       "0 2019-01-01  2201765 2018-12-31  2.358               4.0         441.43   \n",
       "1 2019-01-02  2424225 2018-12-31  2.358               4.0         441.43   \n",
       "2 2019-01-03  2279384 2018-12-31  2.358               4.0         441.43   \n",
       "3 2019-01-04  2230078 2018-12-31  2.358               4.0         441.43   \n",
       "4 2019-01-05  2049460 2018-12-31  2.358               4.0         441.43   \n",
       "\n",
       "  quarter_date  \n",
       "0   2019-01-01  \n",
       "1   2019-01-01  \n",
       "2   2019-01-01  \n",
       "3   2019-01-01  \n",
       "4   2019-01-01  "
      ]
     },
     "execution_count": 463,
     "metadata": {},
     "output_type": "execute_result"
    }
   ],
   "source": [
    "# dropping month_date column\n",
    "final_merged = final_merged.drop(columns=['month_date'])\n",
    "final_merged.head()"
   ]
  },
  {
   "cell_type": "code",
   "execution_count": null,
   "id": "69aaa1f8-7ce8-4cea-b4f2-4aa5669aad98",
   "metadata": {},
   "outputs": [],
   "source": [
    "# renamed columns from numbers to passengers\n",
    "final_merged = final_merged.rename(columns={'numbers': 'passengers'})\n",
    "final_merged = final_merged.drop(columns=['week_start'])\n",
    "\n",
    "final_merged = final_merged.rename(columns={'Gas price': 'GasPrice'})\n",
    "\n",
    "final_merged = final_merged.rename(columns={'passengers': 'Passengers'})\n",
    "\n",
    "final_merged = final_merged.rename(columns={'date': 'Date'})`\n",
    "\n",
    "final_merged = final_merged.rename(columns={'avg_inflation': 'AverageFarePrice'})\n",
    "\n",
    "final_merged = final_merged.drop(columns=['quarter_date'])"
   ]
  },
  {
   "cell_type": "code",
   "execution_count": 486,
   "id": "64c398c6-ce8d-444a-93c5-e2fd3ae31829",
   "metadata": {},
   "outputs": [],
   "source": [
    "# --- saved final_merged to csv ---\n",
    "final_merged.to_csv(\"final_merged.csv\", index=False)"
   ]
  },
  {
   "cell_type": "code",
   "execution_count": null,
   "id": "7ba68bc4-bdc3-43a5-a48f-00efd1ba05d4",
   "metadata": {},
   "outputs": [],
   "source": [
    "# save tsa gas merged csv\n",
    "tsa_gas_merged.to_csv('tsa_gas_merged.csv', index=False)"
   ]
  },
  {
   "cell_type": "code",
   "execution_count": 252,
   "id": "f90e2c0f-1129-49c5-b759-9ddf280d9c67",
   "metadata": {},
   "outputs": [],
   "source": [
    "# merge airfare and gas/tsa csvs to one csv\n",
    "tsa_gas_merged = pd.merge_asof(\n",
    "    tsa,                # daily TSA data\n",
    "    gas,                # weekly gas data\n",
    "    left_on='date',     # TSA daily date\n",
    "    right_on='week_start'  # weekly gas week start\n",
    ")"
   ]
  },
  {
   "cell_type": "code",
   "execution_count": null,
   "id": "9082898d-1a9c-47ba-b9cf-aaa29ff215ab",
   "metadata": {},
   "outputs": [],
   "source": [
    "# Merge TSA+gas with monthly unemployment\n",
    "tsa_gas_unemp = pd.merge_asof(\n",
    "    tsa_gas_merged.sort_values('date'),\n",
    "    unemployment.sort_values('month_date'),   # make sure you created a datetime col for year+month\n",
    "    left_on='date',\n",
    "    right_on='month_date'\n",
    ")"
   ]
  },
  {
   "cell_type": "code",
   "execution_count": 555,
   "id": "930778ad-ab9f-439a-a307-b38624d60d5f",
   "metadata": {},
   "outputs": [],
   "source": []
  },
  {
   "cell_type": "code",
   "execution_count": 556,
   "id": "957b51b1-4587-4655-8ed3-5e00d0b42015",
   "metadata": {},
   "outputs": [
    {
     "name": "stdout",
     "output_type": "stream",
     "text": [
      "            Date  Passengers  GasPrice  UnemploymentRate  AverageFarePrice\n",
      "0     2019-01-01     2201765         2                 4               441\n",
      "1     2019-01-02     2424225         2                 4               441\n",
      "2     2019-01-03     2279384         2                 4               441\n",
      "3     2019-01-04     2230078         2                 4               441\n",
      "4     2019-01-05     2049460         2                 4               441\n",
      "...          ...         ...       ...               ...               ...\n",
      "2413  2025-08-10     2960349         3                 4               397\n",
      "2414  2025-08-11     2763671         3                 4               397\n",
      "2415  2025-08-12     2256082         3                 4               397\n",
      "2416  2025-08-13     2331215         3                 4               397\n",
      "2417  2025-08-14     2832747         3                 4               397\n",
      "\n",
      "[2418 rows x 5 columns]\n"
     ]
    }
   ],
   "source": []
  },
  {
   "cell_type": "code",
   "execution_count": 594,
   "id": "330d9748-7f81-4cc1-96ec-526ebd00d48a",
   "metadata": {},
   "outputs": [
    {
     "name": "stdout",
     "output_type": "stream",
     "text": [
      "Requirement already satisfied: pandasql in c:\\users\\jstew\\anaconda3\\lib\\site-packages (0.7.3)\n",
      "Requirement already satisfied: numpy in c:\\users\\jstew\\anaconda3\\lib\\site-packages (from pandasql) (1.26.4)\n",
      "Requirement already satisfied: pandas in c:\\users\\jstew\\anaconda3\\lib\\site-packages (from pandasql) (2.2.1)\n",
      "Requirement already satisfied: sqlalchemy in c:\\users\\jstew\\anaconda3\\lib\\site-packages (from pandasql) (2.0.25)\n",
      "Requirement already satisfied: python-dateutil>=2.8.2 in c:\\users\\jstew\\anaconda3\\lib\\site-packages (from pandas->pandasql) (2.8.2)\n",
      "Requirement already satisfied: pytz>=2020.1 in c:\\users\\jstew\\anaconda3\\lib\\site-packages (from pandas->pandasql) (2023.3.post1)\n",
      "Requirement already satisfied: tzdata>=2022.7 in c:\\users\\jstew\\anaconda3\\lib\\site-packages (from pandas->pandasql) (2023.3)\n",
      "Requirement already satisfied: typing-extensions>=4.6.0 in c:\\users\\jstew\\anaconda3\\lib\\site-packages (from sqlalchemy->pandasql) (4.9.0)\n",
      "Requirement already satisfied: greenlet!=0.4.17 in c:\\users\\jstew\\anaconda3\\lib\\site-packages (from sqlalchemy->pandasql) (3.0.1)\n",
      "Requirement already satisfied: six>=1.5 in c:\\users\\jstew\\anaconda3\\lib\\site-packages (from python-dateutil>=2.8.2->pandas->pandasql) (1.16.0)\n"
     ]
    }
   ],
   "source": [
    "!pip install pandasql"
   ]
  },
  {
   "cell_type": "code",
   "execution_count": 597,
   "id": "31777423-1b87-4611-9d38-cea726db4fd2",
   "metadata": {},
   "outputs": [
    {
     "name": "stderr",
     "output_type": "stream",
     "text": [
      "C:\\Users\\jstew\\AppData\\Local\\Temp\\ipykernel_5832\\2852063351.py:18: FutureWarning:\n",
      "\n",
      "The behavior of 'isin' with dtype=datetime64[ns] and castable values (e.g. strings) is deprecated. In a future version, these will not be considered matching by isin. Explicitly cast to the appropriate dtype before calling isin instead.\n",
      "\n"
     ]
    }
   ],
   "source": [
    "# --- viewing final csv in sql and adding Labor Day weekend holiday ---\n",
    "\n",
    "import pandas as pd\n",
    "import pandasql as ps\n",
    "import holidays\n",
    "\n",
    "df = pd.read_csv(\"final_merged.csv\", parse_dates=[\"Date\"])\n",
    "\n",
    "us_holidays = holidays.US(years=range(df['Date'].dt.year.min(), df['Date'].dt.year.max()+1))\n",
    "\n",
    "labor_days = [d for d, name in us_holidays.items() if name == \"Labor Day\"]\n",
    "\n",
    "labor_day_weekends = []\n",
    "for day in labor_days:\n",
    "    for offset in range(-3, 1):  # Fri (-3), Sat (-2), Sun (-1), Mon (0)\n",
    "        labor_day_weekends.append(day + pd.Timedelta(days=offset))\n",
    "\n",
    "df['LaborDayWeekend'] = df['Date'].isin(labor_day_weekends)\n",
    "\n",
    "df.to_csv(\"C:/Users/jstew/DE_projects/TSA-labor-day/tsa-labordayweekend.csv\", index=False)"
   ]
  },
  {
   "cell_type": "code",
   "execution_count": 2,
   "id": "8a5df9d5-a023-4cbe-be0c-11de2e82f8cd",
   "metadata": {},
   "outputs": [
    {
     "name": "stdout",
     "output_type": "stream",
     "text": [
      "           Date  Passengers  GasPrice  UnemploymentRate  AverageFarePrice  \\\n",
      "1096 2022-01-01     1616850     3.375               4.0            368.64   \n",
      "1097 2022-01-02     2026176     3.375               4.0            368.64   \n",
      "1098 2022-01-03     1921966     3.381               4.0            368.64   \n",
      "1099 2022-01-04     1673499     3.381               4.0            368.64   \n",
      "1100 2022-01-05     1501170     3.381               4.0            368.64   \n",
      "...         ...         ...       ...               ...               ...   \n",
      "2413 2025-08-10     2960349     3.265               4.2            397.16   \n",
      "2414 2025-08-11     2763671     3.243               4.2            397.16   \n",
      "2415 2025-08-12     2256082     3.243               4.2            397.16   \n",
      "2416 2025-08-13     2331215     3.243               4.2            397.16   \n",
      "2417 2025-08-14     2832747     3.243               4.2            397.16   \n",
      "\n",
      "      LaborDayWeekend  \n",
      "1096            False  \n",
      "1097            False  \n",
      "1098            False  \n",
      "1099            False  \n",
      "1100            False  \n",
      "...               ...  \n",
      "2413            False  \n",
      "2414            False  \n",
      "2415            False  \n",
      "2416            False  \n",
      "2417            False  \n",
      "\n",
      "[1322 rows x 6 columns]\n"
     ]
    }
   ],
   "source": [
    "import pandas as pd\n",
    "import pandasql as ps\n",
    "import holidays\n",
    "df = pd.read_csv(\"tsa-labordayweekend.csv\")\n",
    "\n",
    "df[\"Date\"] = pd.to_datetime(df[\"Date\"])\n",
    "\n",
    "filtered_df = df[df['Date'] >= '2022-01-01']\n",
    "print(filtered_df)\n",
    "filtered_df.to_csv(\"C:/Users/jstew/DE_projects/TSA-labor-day/tsa-2022-2025.csv\", index=False)"
   ]
  },
  {
   "cell_type": "raw",
   "id": "d93bbd5f-de98-4910-802b-261b70acf0fb",
   "metadata": {},
   "source": []
  },
  {
   "cell_type": "code",
   "execution_count": 7,
   "id": "13164a61-d8f4-4411-aff4-8e2b74a02eab",
   "metadata": {},
   "outputs": [
    {
     "name": "stdout",
     "output_type": "stream",
     "text": [
      "Requirement already satisfied: prophet in c:\\users\\jstew\\anaconda3\\lib\\site-packages (1.1.7)\n",
      "Requirement already satisfied: cmdstanpy>=1.0.4 in c:\\users\\jstew\\anaconda3\\lib\\site-packages (from prophet) (1.2.5)\n",
      "Requirement already satisfied: numpy>=1.15.4 in c:\\users\\jstew\\anaconda3\\lib\\site-packages (from prophet) (1.26.4)\n",
      "Requirement already satisfied: matplotlib>=2.0.0 in c:\\users\\jstew\\anaconda3\\lib\\site-packages (from prophet) (3.8.0)\n",
      "Requirement already satisfied: pandas>=1.0.4 in c:\\users\\jstew\\anaconda3\\lib\\site-packages (from prophet) (2.2.1)\n",
      "Requirement already satisfied: holidays<1,>=0.25 in c:\\users\\jstew\\anaconda3\\lib\\site-packages (from prophet) (0.78)\n",
      "Requirement already satisfied: tqdm>=4.36.1 in c:\\users\\jstew\\anaconda3\\lib\\site-packages (from prophet) (4.65.0)\n",
      "Requirement already satisfied: importlib_resources in c:\\users\\jstew\\anaconda3\\lib\\site-packages (from prophet) (6.5.2)\n",
      "Requirement already satisfied: stanio<2.0.0,>=0.4.0 in c:\\users\\jstew\\anaconda3\\lib\\site-packages (from cmdstanpy>=1.0.4->prophet) (0.5.1)\n",
      "Requirement already satisfied: python-dateutil in c:\\users\\jstew\\anaconda3\\lib\\site-packages (from holidays<1,>=0.25->prophet) (2.8.2)\n",
      "Requirement already satisfied: contourpy>=1.0.1 in c:\\users\\jstew\\anaconda3\\lib\\site-packages (from matplotlib>=2.0.0->prophet) (1.2.0)\n",
      "Requirement already satisfied: cycler>=0.10 in c:\\users\\jstew\\anaconda3\\lib\\site-packages (from matplotlib>=2.0.0->prophet) (0.11.0)\n",
      "Requirement already satisfied: fonttools>=4.22.0 in c:\\users\\jstew\\anaconda3\\lib\\site-packages (from matplotlib>=2.0.0->prophet) (4.25.0)\n",
      "Requirement already satisfied: kiwisolver>=1.0.1 in c:\\users\\jstew\\anaconda3\\lib\\site-packages (from matplotlib>=2.0.0->prophet) (1.4.4)\n",
      "Requirement already satisfied: packaging>=20.0 in c:\\users\\jstew\\anaconda3\\lib\\site-packages (from matplotlib>=2.0.0->prophet) (23.1)\n",
      "Requirement already satisfied: pillow>=6.2.0 in c:\\users\\jstew\\anaconda3\\lib\\site-packages (from matplotlib>=2.0.0->prophet) (10.2.0)\n",
      "Requirement already satisfied: pyparsing>=2.3.1 in c:\\users\\jstew\\anaconda3\\lib\\site-packages (from matplotlib>=2.0.0->prophet) (3.0.9)\n",
      "Requirement already satisfied: pytz>=2020.1 in c:\\users\\jstew\\anaconda3\\lib\\site-packages (from pandas>=1.0.4->prophet) (2023.3.post1)\n",
      "Requirement already satisfied: tzdata>=2022.7 in c:\\users\\jstew\\anaconda3\\lib\\site-packages (from pandas>=1.0.4->prophet) (2023.3)\n",
      "Requirement already satisfied: colorama in c:\\users\\jstew\\anaconda3\\lib\\site-packages (from tqdm>=4.36.1->prophet) (0.4.6)\n",
      "Requirement already satisfied: six>=1.5 in c:\\users\\jstew\\anaconda3\\lib\\site-packages (from python-dateutil->holidays<1,>=0.25->prophet) (1.16.0)\n"
     ]
    }
   ],
   "source": [
    "# prophet for forecasting\n",
    "!pip install prophet"
   ]
  },
  {
   "cell_type": "code",
   "execution_count": null,
   "id": "f65e47ad-c5a6-4ca2-9dc6-5483bff713ea",
   "metadata": {},
   "outputs": [],
   "source": []
  },
  {
   "cell_type": "code",
   "execution_count": 71,
   "id": "70016c46-e924-404c-92b4-c9729e4cbebe",
   "metadata": {},
   "outputs": [],
   "source": [
    "from prophet import Prophet"
   ]
  },
  {
   "cell_type": "code",
   "execution_count": 1,
   "id": "067530d3-6c81-42ea-acb5-54e238aa4887",
   "metadata": {},
   "outputs": [
    {
     "name": "stderr",
     "output_type": "stream",
     "text": [
      "07:59:28 - cmdstanpy - INFO - Chain [1] start processing\n",
      "07:59:29 - cmdstanpy - INFO - Chain [1] done processing\n"
     ]
    },
    {
     "name": "stdout",
     "output_type": "stream",
     "text": [
      "             ds      yhat  yhat_lower  yhat_upper\n",
      "1322 2025-08-15 2,781,869   2,617,127   2,951,772\n",
      "1323 2025-08-16 2,409,597   2,243,363   2,574,907\n",
      "1324 2025-08-17 2,776,814   2,617,906   2,942,886\n",
      "1325 2025-08-18 2,675,844   2,512,361   2,833,397\n",
      "1326 2025-08-19 2,312,713   2,157,527   2,476,455\n",
      "1327 2025-08-20 2,418,639   2,260,726   2,583,435\n",
      "1328 2025-08-21 2,701,986   2,539,389   2,877,776\n",
      "1329 2025-08-22 2,739,267   2,568,984   2,894,772\n",
      "1330 2025-08-23 2,363,094   2,200,145   2,528,923\n",
      "1331 2025-08-24 2,722,185   2,565,208   2,884,975\n",
      "1332 2025-08-25 2,609,418   2,440,833   2,767,427\n",
      "1333 2025-08-26 2,231,819   2,071,938   2,394,634\n",
      "1334 2025-08-27 2,321,971   2,149,648   2,498,617\n",
      "1335 2025-08-28 2,589,841   2,429,851   2,743,549\n",
      "1336 2025-08-29 2,960,810   2,793,258   3,124,046\n",
      "1337 2025-08-30 2,293,520   2,137,667   2,446,605\n",
      "1338 2025-08-31 2,324,293   2,172,242   2,505,302\n",
      "1339 2025-09-01 2,820,777   2,660,709   2,988,888\n",
      "1340 2025-09-02 2,409,056   2,256,342   2,585,832\n",
      "1341 2025-09-03 2,117,763   1,948,889   2,279,678\n"
     ]
    }
   ],
   "source": [
    "from prophet import Prophet\n",
    "df = pd.read_csv('C:/Users/jstew/DE_projects/TSA-labor-day/tsa-2022-2025.csv')\n",
    "\n",
    "df = df[['Date','Passengers','GasPrice','UnemploymentRate','AverageFarePrice']].rename(\n",
    "    columns={'Date':'ds','Passengers':'y'}\n",
    ")\n",
    "\n",
    "# Define Labor Day holiday effect\n",
    "labor_days = pd.DataFrame({\n",
    "    'holiday': 'labor_day',\n",
    "    'ds': pd.to_datetime([\n",
    "        '2022-09-05','2023-09-04','2024-09-02','2025-09-01'\n",
    "    ]),\n",
    "    'lower_window': -3,\n",
    "    'upper_window': 3\n",
    "})\n",
    "\n",
    "# Build model\n",
    "m = Prophet(\n",
    "    holidays=labor_days,\n",
    "    yearly_seasonality=20,\n",
    "    weekly_seasonality=10,\n",
    "    changepoint_prior_scale=0.5\n",
    ")\n",
    "\n",
    "# If you don’t have good future projections for regressors, skip them:\n",
    "# m.add_regressor('GasPrice')\n",
    "# m.add_regressor('UnemploymentRate')\n",
    "# m.add_regressor('AverageFarePrice')\n",
    "\n",
    "m.fit(df)\n",
    "\n",
    "# Future dataframe\n",
    "future = m.make_future_dataframe(periods=20)\n",
    "\n",
    "# Forecast\n",
    "forecast = m.predict(future)\n",
    "\n",
    "# Show last 20 days\n",
    "forecast_tail = forecast[['ds','yhat','yhat_lower','yhat_upper']].tail(20)\n",
    "pd.set_option('display.float_format', '{:,.0f}'.format)\n",
    "print(forecast_tail)\n"
   ]
  },
  {
   "cell_type": "code",
   "execution_count": 4,
   "id": "e0f77dc0-3ba5-41a4-9780-bc1ddcf4efff",
   "metadata": {},
   "outputs": [
    {
     "data": {
      "image/png": "[encoded data removed]",
      "text/plain": [
       "<Figure size 1200x600 with 1 Axes>"
      ]
     },
     "metadata": {},
     "output_type": "display_data"
    }
   ],
   "source": [
    "import pandas as pd\n",
    "import matplotlib.pyplot as plt\n",
    "\n",
    "forecast['ds'] = pd.to_datetime(forecast['ds'])\n",
    "\n",
    "plt.figure(figsize=(12,6))\n",
    "\n",
    "# Plot the forecast line\n",
    "plt.plot(forecast['ds'], forecast['yhat'], label='Forecast', color='blue')\n",
    "\n",
    "# Plot the highs and lows\n",
    "plt.fill_between(forecast['ds'], \n",
    "                 forecast['yhat_lower'], \n",
    "                 forecast['yhat_upper'], \n",
    "                 color='lightblue', alpha=0.3, label='Confidence Interval')\n",
    "\n",
    "labor_day_weekend = pd.to_datetime(['2025-08-30', '2025-08-31', '2025-09-01'])\n",
    "for date in labor_day_weekend:\n",
    "    plt.axvline(x=date, color='red', linestyle='--', alpha=0.7)\n",
    "\n",
    "plt.xlabel('Date')\n",
    "plt.ylabel('Predicted Value')\n",
    "plt.title('Forecast with Labor Day Weekend Highlighted')\n",
    "plt.legend()\n",
    "plt.show()\n",
    "\n",
    "import pandas as pd\n",
    "\n",
    "df_existing = pd.read_csv(\"tsa-2022-2025.csv\")\n",
    "\n",
    "forecast_to_save = forecast[['ds','yhat','yhat_lower','yhat_upper']].copy()\n",
    "forecast_to_save.rename(columns={'ds':'Date'}, inplace=True)\n",
    "\n",
    "df_existing['Date'] = pd.to_datetime(df_existing['Date'])\n",
    "forecast_to_save['Date'] = pd.to_datetime(forecast_to_save['Date'])\n",
    "\n",
    "df_combined = pd.concat([df_existing, forecast_to_save], ignore_index=True)\n",
    "\n",
    "df_combined.to_csv(\"tsa-labordayweekend_with_forecast.csv\", index=False)\n",
    "\n"
   ]
  },
  {
   "cell_type": "code",
   "execution_count": 5,
   "id": "b4645798-283d-4e26-b021-62bf4344521c",
   "metadata": {},
   "outputs": [],
   "source": [
    "# Load your existing CSV\n",
    "df_existing = pd.read_csv(\"tsa-2022-2025.csv\")\n",
    "\n",
    "# Make sure 'ds' in forecast matches the column name in your CSV (e.g., 'Date')\n",
    "forecast_to_save = forecast[['ds','yhat','yhat_lower','yhat_upper']].copy()\n",
    "forecast_to_save.rename(columns={'ds':'Date'}, inplace=True)\n",
    "\n",
    "# Optional: if 'Date' in existing CSV is not datetime\n",
    "df_existing['Date'] = pd.to_datetime(df_existing['Date'])\n",
    "forecast_to_save['Date'] = pd.to_datetime(forecast_to_save['Date'])\n",
    "\n",
    "# Append the forecast to existing data\n",
    "df_combined = pd.concat([df_existing, forecast_to_save], ignore_index=True)\n",
    "\n",
    "# Save as a new CSV\n",
    "df_combined.to_csv(\"tsa-labordayweekend_with_forecast.csv\", index=False)\n"
   ]
  },
  {
   "cell_type": "code",
   "execution_count": null,
   "id": "a9c152d9-4925-431d-bb74-8b4650d92bf5",
   "metadata": {},
   "outputs": [],
   "source": []
  },
  {
   "cell_type": "code",
   "execution_count": null,
   "id": "d1a391b2-7c9c-4e09-9571-0f51bbde1439",
   "metadata": {},
   "outputs": [],
   "source": []
  },
  {
   "cell_type": "code",
   "execution_count": null,
   "id": "bf6e4374-ff44-4038-a903-f8091417cc22",
   "metadata": {},
   "outputs": [],
   "source": []
  },
  {
   "cell_type": "code",
   "execution_count": null,
   "id": "11f69c21-0241-431e-9b8b-2892513678b1",
   "metadata": {},
   "outputs": [],
   "source": []
  },
  {
   "cell_type": "code",
   "execution_count": null,
   "id": "a276c831-f8b6-4148-9333-132987fb5016",
   "metadata": {},
   "outputs": [],
   "source": []
  }
 ],
 "metadata": {
  "kernelspec": {
   "display_name": "Python 3 (ipykernel)",
   "language": "python",
   "name": "python3"
  },
  "language_info": {
   "codemirror_mode": {
    "name": "ipython",
    "version": 3
   },
   "file_extension": ".py",
   "mimetype": "text/x-python",
   "name": "python",
   "nbconvert_exporter": "python",
   "pygments_lexer": "ipython3",
   "version": "3.11.7"
  }
 },
 "nbformat": 4,
 "nbformat_minor": 5
}
