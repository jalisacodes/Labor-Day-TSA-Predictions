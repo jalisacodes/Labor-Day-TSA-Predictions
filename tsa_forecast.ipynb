{
 "cells": [
  {
   "cell_type": "markdown",
   "id": "43aef078-9f33-4fc5-8633-7646d9f16392",
   "metadata": {},
   "source": [
    "# "
   ]
  },
  {
   "cell_type": "code",
   "execution_count": 223,
   "id": "3e11d115-d36f-4bd7-88be-6f6f49c4743a",
   "metadata": {},
   "outputs": [],
   "source": [
    "import requests"
   ]
  },
  {
   "cell_type": "code",
   "execution_count": 170,
   "id": "df5b956a-2f1d-433a-9374-759f132d83be",
   "metadata": {},
   "outputs": [],
   "source": [
    "from bs4 import BeautifulSoup"
   ]
  },
  {
   "cell_type": "code",
   "execution_count": 171,
   "id": "66fbb0b8-05f4-4584-bf54-37e307855303",
   "metadata": {},
   "outputs": [],
   "source": [
    "import pandas as pd"
   ]
  },
  {
   "cell_type": "code",
   "execution_count": 172,
   "id": "7bd5831c-ff36-4e82-9744-3cbdd577cd37",
   "metadata": {},
   "outputs": [],
   "source": [
    "url = \"https://www.eia.gov/dnav/pet/hist/leafhandler.ashx?f=m&n=pet&s=emm_epm0_pte_nus_dpg\""
   ]
  },
  {
   "cell_type": "code",
   "execution_count": 173,
   "id": "b4c76ac6-ba84-4ebe-8962-0f46e7a968d3",
   "metadata": {},
   "outputs": [],
   "source": [
    "response = requests.get(url)"
   ]
  },
  {
   "cell_type": "code",
   "execution_count": 174,
   "id": "2d773501-803a-422e-8c65-c0d828a77d4e",
   "metadata": {},
   "outputs": [],
   "source": [
    "soup = BeautifulSoup(response.text, 'html.parser')"
   ]
  },
  {
   "cell_type": "code",
   "execution_count": 175,
   "id": "5f8b41bf-18bb-4bc9-978f-579fbbbaff55",
   "metadata": {},
   "outputs": [],
   "source": [
    "table = soup.find('table')"
   ]
  },
  {
   "cell_type": "code",
   "execution_count": 176,
   "id": "987cec36-5e75-449e-80d0-9ef99e26bcd4",
   "metadata": {},
   "outputs": [
    {
     "name": "stderr",
     "output_type": "stream",
     "text": [
      "C:\\Users\\jstew\\AppData\\Local\\Temp\\ipykernel_5832\\1339507137.py:1: FutureWarning: Passing literal html to 'read_html' is deprecated and will be removed in a future version. To read from a literal string, wrap it in a 'StringIO' object.\n",
      "  df = pd.read_html(str(table))[0]\n"
     ]
    }
   ],
   "source": [
    "df = pd.read_html(str(table))[0]"
   ]
  },
  {
   "cell_type": "code",
   "execution_count": null,
   "id": "93eccc25-6447-4e71-af28-6e609b6c2061",
   "metadata": {},
   "outputs": [],
   "source": []
  },
  {
   "cell_type": "code",
   "execution_count": 180,
   "id": "b5805a8c-a7dd-48c8-911e-e070f0b16757",
   "metadata": {},
   "outputs": [
    {
     "name": "stdout",
     "output_type": "stream",
     "text": [
      "Collecting xlrd\n",
      "  Downloading xlrd-2.0.2-py2.py3-none-any.whl.metadata (3.5 kB)\n",
      "Requirement already satisfied: openpyxl in c:\\users\\jstew\\anaconda3\\lib\\site-packages (3.1.2)\n",
      "Requirement already satisfied: et-xmlfile in c:\\users\\jstew\\anaconda3\\lib\\site-packages (from openpyxl) (1.1.0)\n",
      "Downloading xlrd-2.0.2-py2.py3-none-any.whl (96 kB)\n",
      "   ---------------------------------------- 0.0/96.6 kB ? eta -:--:--\n",
      "   ---------------------------------------- 0.0/96.6 kB ? eta -:--:--\n",
      "   ---- ----------------------------------- 10.2/96.6 kB ? eta -:--:--\n",
      "   -------- ------------------------------- 20.5/96.6 kB 217.9 kB/s eta 0:00:01\n",
      "   ---------------- ----------------------- 41.0/96.6 kB 279.3 kB/s eta 0:00:01\n",
      "   ---------------------------------------- 96.6/96.6 kB 501.8 kB/s eta 0:00:00\n",
      "Installing collected packages: xlrd\n",
      "Successfully installed xlrd-2.0.2\n",
      "Note: you may need to restart the kernel to use updated packages.\n"
     ]
    }
   ],
   "source": [
    "pip install xlrd openpyxl"
   ]
  },
  {
   "cell_type": "code",
   "execution_count": 187,
   "id": "114bea38-aeec-4d50-abac-daff2d8215de",
   "metadata": {},
   "outputs": [],
   "source": [
    "import pandas as pd"
   ]
  },
  {
   "cell_type": "code",
   "execution_count": 188,
   "id": "f297f606-b0ac-4165-827c-2528f8f6e3fd",
   "metadata": {},
   "outputs": [],
   "source": [
    "xls_file = 'gas-prices-weekly-data.xls'"
   ]
  },
  {
   "cell_type": "code",
   "execution_count": 189,
   "id": "1e066b4a-5741-4d7c-8bed-89d18d78cc49",
   "metadata": {},
   "outputs": [],
   "source": [
    "df = pd.read_excel(xls_file, sheet_name='Data 1', skiprows=1)"
   ]
  },
  {
   "cell_type": "code",
   "execution_count": 191,
   "id": "f11e4c62-241a-408b-b5a3-eb931551ddf0",
   "metadata": {},
   "outputs": [
    {
     "data": {
      "text/html": [
       "<div>\n",
       "<style scoped>\n",
       "    .dataframe tbody tr th:only-of-type {\n",
       "        vertical-align: middle;\n",
       "    }\n",
       "\n",
       "    .dataframe tbody tr th {\n",
       "        vertical-align: top;\n",
       "    }\n",
       "\n",
       "    .dataframe thead th {\n",
       "        text-align: right;\n",
       "    }\n",
       "</style>\n",
       "<table border=\"1\" class=\"dataframe\">\n",
       "  <thead>\n",
       "    <tr style=\"text-align: right;\">\n",
       "      <th></th>\n",
       "      <th>Sourcekey</th>\n",
       "      <th>EMM_EPM0_PTE_NUS_DPG</th>\n",
       "    </tr>\n",
       "  </thead>\n",
       "  <tbody>\n",
       "    <tr>\n",
       "      <th>0</th>\n",
       "      <td>Date</td>\n",
       "      <td>Weekly U.S. All Grades All Formulations Retail...</td>\n",
       "    </tr>\n",
       "    <tr>\n",
       "      <th>1</th>\n",
       "      <td>1993-04-05 00:00:00</td>\n",
       "      <td>1.068</td>\n",
       "    </tr>\n",
       "    <tr>\n",
       "      <th>2</th>\n",
       "      <td>1993-04-12 00:00:00</td>\n",
       "      <td>1.079</td>\n",
       "    </tr>\n",
       "    <tr>\n",
       "      <th>3</th>\n",
       "      <td>1993-04-19 00:00:00</td>\n",
       "      <td>1.079</td>\n",
       "    </tr>\n",
       "    <tr>\n",
       "      <th>4</th>\n",
       "      <td>1993-04-26 00:00:00</td>\n",
       "      <td>1.086</td>\n",
       "    </tr>\n",
       "  </tbody>\n",
       "</table>\n",
       "</div>"
      ],
      "text/plain": [
       "             Sourcekey                               EMM_EPM0_PTE_NUS_DPG\n",
       "0                 Date  Weekly U.S. All Grades All Formulations Retail...\n",
       "1  1993-04-05 00:00:00                                              1.068\n",
       "2  1993-04-12 00:00:00                                              1.079\n",
       "3  1993-04-19 00:00:00                                              1.079\n",
       "4  1993-04-26 00:00:00                                              1.086"
      ]
     },
     "execution_count": 191,
     "metadata": {},
     "output_type": "execute_result"
    }
   ],
   "source": [
    "df.head()"
   ]
  },
  {
   "cell_type": "code",
   "execution_count": 192,
   "id": "46ed54fa-d50c-4608-ae20-3812ddb3b6e6",
   "metadata": {},
   "outputs": [],
   "source": [
    "df.to_csv('gas-prices-weekly.csv', index=False)"
   ]
  },
  {
   "cell_type": "code",
   "execution_count": null,
   "id": "8d562a64-929b-41cc-923e-f6b0db425355",
   "metadata": {},
   "outputs": [],
   "source": []
  },
  {
   "cell_type": "code",
   "execution_count": null,
   "id": "6c23502d-9ba8-4e97-8065-f1f4958a68e0",
   "metadata": {},
   "outputs": [],
   "source": []
  },
  {
   "cell_type": "code",
   "execution_count": 193,
   "id": "4a6ca6e9-0810-4375-a96e-ea417d3dce1a",
   "metadata": {},
   "outputs": [],
   "source": [
    "import pandas as pd"
   ]
  },
  {
   "cell_type": "code",
   "execution_count": 200,
   "id": "92b97066-1114-455a-a458-ceea2628a271",
   "metadata": {},
   "outputs": [],
   "source": [
    "import glob"
   ]
  },
  {
   "cell_type": "code",
   "execution_count": 203,
   "id": "c84fcd10-bcca-483f-9f0f-c2fd7348e0ba",
   "metadata": {},
   "outputs": [],
   "source": [
    "files = glob.glob(\"tsa_data_*.csv\")"
   ]
  },
  {
   "cell_type": "code",
   "execution_count": 205,
   "id": "854b3925-e743-4d16-bb45-dad721a8f226",
   "metadata": {},
   "outputs": [
    {
     "name": "stdout",
     "output_type": "stream",
     "text": [
      "Merging these files: ['tsa_data_2019.csv', 'tsa_data_2020.csv', 'tsa_data_2021.csv', 'tsa_data_2022.csv', 'tsa_data_2023.csv', 'tsa_data_2024.csv', 'tsa_data_2025.csv']\n"
     ]
    }
   ],
   "source": [
    "print(\"Merging these files:\", files)"
   ]
  },
  {
   "cell_type": "code",
   "execution_count": 206,
   "id": "ca5acb2f-4146-4dd7-be0e-9adcd0a4ff56",
   "metadata": {},
   "outputs": [],
   "source": [
    "tsa_df = pd.concat([pd.read_csv(f) for f in files], ignore_index=True)"
   ]
  },
  {
   "cell_type": "code",
   "execution_count": 211,
   "id": "0936725a-878a-4550-9adb-393b9179bb87",
   "metadata": {},
   "outputs": [],
   "source": [
    "tsa_df.to_csv(\"tsa_data_all_years.csv\", index=False)"
   ]
  },
  {
   "cell_type": "code",
   "execution_count": 213,
   "id": "c831cbab-47c7-40d4-81e0-29ce25f8c0a0",
   "metadata": {},
   "outputs": [
    {
     "data": {
      "text/html": [
       "<div>\n",
       "<style scoped>\n",
       "    .dataframe tbody tr th:only-of-type {\n",
       "        vertical-align: middle;\n",
       "    }\n",
       "\n",
       "    .dataframe tbody tr th {\n",
       "        vertical-align: top;\n",
       "    }\n",
       "\n",
       "    .dataframe thead th {\n",
       "        text-align: right;\n",
       "    }\n",
       "</style>\n",
       "<table border=\"1\" class=\"dataframe\">\n",
       "  <thead>\n",
       "    <tr style=\"text-align: right;\">\n",
       "      <th></th>\n",
       "      <th>date</th>\n",
       "      <th>numbers</th>\n",
       "    </tr>\n",
       "  </thead>\n",
       "  <tbody>\n",
       "    <tr>\n",
       "      <th>0</th>\n",
       "      <td>2019-01-01</td>\n",
       "      <td>2201765</td>\n",
       "    </tr>\n",
       "    <tr>\n",
       "      <th>1</th>\n",
       "      <td>2019-01-02</td>\n",
       "      <td>2424225</td>\n",
       "    </tr>\n",
       "    <tr>\n",
       "      <th>2</th>\n",
       "      <td>2019-01-03</td>\n",
       "      <td>2279384</td>\n",
       "    </tr>\n",
       "    <tr>\n",
       "      <th>3</th>\n",
       "      <td>2019-01-04</td>\n",
       "      <td>2230078</td>\n",
       "    </tr>\n",
       "    <tr>\n",
       "      <th>4</th>\n",
       "      <td>2019-01-05</td>\n",
       "      <td>2049460</td>\n",
       "    </tr>\n",
       "  </tbody>\n",
       "</table>\n",
       "</div>"
      ],
      "text/plain": [
       "         date  numbers\n",
       "0  2019-01-01  2201765\n",
       "1  2019-01-02  2424225\n",
       "2  2019-01-03  2279384\n",
       "3  2019-01-04  2230078\n",
       "4  2019-01-05  2049460"
      ]
     },
     "execution_count": 213,
     "metadata": {},
     "output_type": "execute_result"
    }
   ],
   "source": [
    "tsa_df.head()"
   ]
  },
  {
   "cell_type": "code",
   "execution_count": null,
   "id": "4af49d86-962b-428a-88e5-2f5d5506aa00",
   "metadata": {},
   "outputs": [],
   "source": []
  },
  {
   "cell_type": "code",
   "execution_count": 214,
   "id": "cadf9021-601c-4f88-9014-a3a6c729360d",
   "metadata": {},
   "outputs": [],
   "source": [
    "import pandas as pd"
   ]
  },
  {
   "cell_type": "code",
   "execution_count": 221,
   "id": "ff71cf07-6cd5-40ab-943f-b089c0709ddb",
   "metadata": {},
   "outputs": [],
   "source": [
    "df = pd.read_csv('tsa_data_all_years.csv')"
   ]
  },
  {
   "cell_type": "code",
   "execution_count": 224,
   "id": "7d4c9a60-e7f5-4916-95a5-05ae119182df",
   "metadata": {},
   "outputs": [
    {
     "data": {
      "text/html": [
       "<div>\n",
       "<style scoped>\n",
       "    .dataframe tbody tr th:only-of-type {\n",
       "        vertical-align: middle;\n",
       "    }\n",
       "\n",
       "    .dataframe tbody tr th {\n",
       "        vertical-align: top;\n",
       "    }\n",
       "\n",
       "    .dataframe thead th {\n",
       "        text-align: right;\n",
       "    }\n",
       "</style>\n",
       "<table border=\"1\" class=\"dataframe\">\n",
       "  <thead>\n",
       "    <tr style=\"text-align: right;\">\n",
       "      <th></th>\n",
       "      <th>date</th>\n",
       "      <th>numbers</th>\n",
       "    </tr>\n",
       "  </thead>\n",
       "  <tbody>\n",
       "    <tr>\n",
       "      <th>0</th>\n",
       "      <td>2019-01-01</td>\n",
       "      <td>2201765</td>\n",
       "    </tr>\n",
       "    <tr>\n",
       "      <th>1</th>\n",
       "      <td>2019-01-02</td>\n",
       "      <td>2424225</td>\n",
       "    </tr>\n",
       "    <tr>\n",
       "      <th>2</th>\n",
       "      <td>2019-01-03</td>\n",
       "      <td>2279384</td>\n",
       "    </tr>\n",
       "    <tr>\n",
       "      <th>3</th>\n",
       "      <td>2019-01-04</td>\n",
       "      <td>2230078</td>\n",
       "    </tr>\n",
       "    <tr>\n",
       "      <th>4</th>\n",
       "      <td>2019-01-05</td>\n",
       "      <td>2049460</td>\n",
       "    </tr>\n",
       "  </tbody>\n",
       "</table>\n",
       "</div>"
      ],
      "text/plain": [
       "         date  numbers\n",
       "0  2019-01-01  2201765\n",
       "1  2019-01-02  2424225\n",
       "2  2019-01-03  2279384\n",
       "3  2019-01-04  2230078\n",
       "4  2019-01-05  2049460"
      ]
     },
     "execution_count": 224,
     "metadata": {},
     "output_type": "execute_result"
    }
   ],
   "source": [
    "df.head()"
   ]
  },
  {
   "cell_type": "code",
   "execution_count": null,
   "id": "9710f2e6-ea34-44e2-a4eb-4222cb095e39",
   "metadata": {},
   "outputs": [],
   "source": []
  },
  {
   "cell_type": "code",
   "execution_count": 225,
   "id": "3b85b59f-f127-4a00-ba25-4a2fcd7e1570",
   "metadata": {},
   "outputs": [],
   "source": [
    "import pandas as pd"
   ]
  },
  {
   "cell_type": "code",
   "execution_count": 228,
   "id": "3d8e8acf-fefd-4aa6-ab99-17f7ebedfc20",
   "metadata": {},
   "outputs": [],
   "source": [
    "# Read TSA daily data"
   ]
  },
  {
   "cell_type": "code",
   "execution_count": 226,
   "id": "1bb08f2a-36e2-4d9e-9aaf-b85184534671",
   "metadata": {},
   "outputs": [],
   "source": [
    "tsa = pd.read_csv('tsa_data_all_years.csv')"
   ]
  },
  {
   "cell_type": "code",
   "execution_count": 229,
   "id": "836aa4fd-26d5-4d4d-91e6-1b0234f1b21c",
   "metadata": {},
   "outputs": [],
   "source": [
    "tsa['date'] = pd.to_datetime(tsa['date'])"
   ]
  },
  {
   "cell_type": "code",
   "execution_count": 233,
   "id": "21113a10-488a-41e0-8d03-0c3b5356bc6e",
   "metadata": {},
   "outputs": [],
   "source": [
    "# Rename columns"
   ]
  },
  {
   "cell_type": "code",
   "execution_count": 235,
   "id": "c256510c-8a09-4513-84db-ffd111a2b06e",
   "metadata": {},
   "outputs": [],
   "source": [
    "gas = pd.read_csv('gas-prices-weekly.csv', skiprows=1)"
   ]
  },
  {
   "cell_type": "code",
   "execution_count": 236,
   "id": "cc64959b-486c-4d05-9778-12dc2494e929",
   "metadata": {},
   "outputs": [],
   "source": [
    "gas.columns = ['week_start', 'price']"
   ]
  },
  {
   "cell_type": "code",
   "execution_count": 237,
   "id": "947c8b70-e1a8-489c-8822-571663562774",
   "metadata": {},
   "outputs": [],
   "source": [
    "gas['week_start'] = pd.to_datetime(gas['week_start'])"
   ]
  },
  {
   "cell_type": "code",
   "execution_count": 238,
   "id": "5414b265-00d8-4de8-9a8e-62c531e8b536",
   "metadata": {},
   "outputs": [
    {
     "data": {
      "text/html": [
       "<div>\n",
       "<style scoped>\n",
       "    .dataframe tbody tr th:only-of-type {\n",
       "        vertical-align: middle;\n",
       "    }\n",
       "\n",
       "    .dataframe tbody tr th {\n",
       "        vertical-align: top;\n",
       "    }\n",
       "\n",
       "    .dataframe thead th {\n",
       "        text-align: right;\n",
       "    }\n",
       "</style>\n",
       "<table border=\"1\" class=\"dataframe\">\n",
       "  <thead>\n",
       "    <tr style=\"text-align: right;\">\n",
       "      <th></th>\n",
       "      <th>week_start</th>\n",
       "      <th>price</th>\n",
       "    </tr>\n",
       "  </thead>\n",
       "  <tbody>\n",
       "    <tr>\n",
       "      <th>0</th>\n",
       "      <td>1993-04-05</td>\n",
       "      <td>1.068</td>\n",
       "    </tr>\n",
       "    <tr>\n",
       "      <th>1</th>\n",
       "      <td>1993-04-12</td>\n",
       "      <td>1.079</td>\n",
       "    </tr>\n",
       "    <tr>\n",
       "      <th>2</th>\n",
       "      <td>1993-04-19</td>\n",
       "      <td>1.079</td>\n",
       "    </tr>\n",
       "    <tr>\n",
       "      <th>3</th>\n",
       "      <td>1993-04-26</td>\n",
       "      <td>1.086</td>\n",
       "    </tr>\n",
       "    <tr>\n",
       "      <th>4</th>\n",
       "      <td>1993-05-03</td>\n",
       "      <td>1.086</td>\n",
       "    </tr>\n",
       "  </tbody>\n",
       "</table>\n",
       "</div>"
      ],
      "text/plain": [
       "  week_start  price\n",
       "0 1993-04-05  1.068\n",
       "1 1993-04-12  1.079\n",
       "2 1993-04-19  1.079\n",
       "3 1993-04-26  1.086\n",
       "4 1993-05-03  1.086"
      ]
     },
     "execution_count": 238,
     "metadata": {},
     "output_type": "execute_result"
    }
   ],
   "source": [
    "gas.head()"
   ]
  },
  {
   "cell_type": "code",
   "execution_count": 240,
   "id": "6e8cca1f-502f-4696-a4ee-e9d36c46b2b5",
   "metadata": {},
   "outputs": [],
   "source": [
    "gas.to_csv('gas-prices-weekly.csv', index=False)"
   ]
  },
  {
   "cell_type": "code",
   "execution_count": 242,
   "id": "1a5598cd-fb2b-4d1f-a4b8-d6d33351dec3",
   "metadata": {},
   "outputs": [
    {
     "data": {
      "text/plain": [
       "date       datetime64[ns]\n",
       "numbers             int64\n",
       "dtype: object"
      ]
     },
     "execution_count": 242,
     "metadata": {},
     "output_type": "execute_result"
    }
   ],
   "source": [
    "tsa.dtypes\n"
   ]
  },
  {
   "cell_type": "code",
   "execution_count": 243,
   "id": "3f6c5c2b-57d5-4574-998d-f7dec5640675",
   "metadata": {},
   "outputs": [
    {
     "data": {
      "text/plain": [
       "week_start    datetime64[ns]\n",
       "price                float64\n",
       "dtype: object"
      ]
     },
     "execution_count": 243,
     "metadata": {},
     "output_type": "execute_result"
    }
   ],
   "source": [
    "gas.dtypes"
   ]
  },
  {
   "cell_type": "code",
   "execution_count": 244,
   "id": "7ff6e425-7025-46eb-8bf6-c18f5b43feaf",
   "metadata": {},
   "outputs": [],
   "source": [
    "gas = gas.sort_values('week_start')"
   ]
  },
  {
   "cell_type": "code",
   "execution_count": 245,
   "id": "df9b648c-883a-415e-a255-7e5063dc79cc",
   "metadata": {},
   "outputs": [],
   "source": [
    "tsa = tsa.sort_values('date')\n"
   ]
  },
  {
   "cell_type": "code",
   "execution_count": 246,
   "id": "d7958913-777d-4fd6-b846-f2cfa9642a7c",
   "metadata": {},
   "outputs": [],
   "source": [
    "tsa_gas_merged = pd.merge_asof(\n",
    "    tsa,                # daily TSA data\n",
    "    gas,                # weekly gas data\n",
    "    left_on='date',     # TSA daily date\n",
    "    right_on='week_start'  # weekly gas week start\n",
    ")"
   ]
  },
  {
   "cell_type": "code",
   "execution_count": 247,
   "id": "12301deb-6e2e-4391-b448-ee8db37db8d7",
   "metadata": {},
   "outputs": [],
   "source": [
    "tsa_gas_merged = tsa_gas_merged.drop(columns=['week_start'])"
   ]
  },
  {
   "cell_type": "code",
   "execution_count": 248,
   "id": "d0d6b880-5e83-4b66-aae3-7ca4145651a7",
   "metadata": {},
   "outputs": [
    {
     "data": {
      "text/html": [
       "<div>\n",
       "<style scoped>\n",
       "    .dataframe tbody tr th:only-of-type {\n",
       "        vertical-align: middle;\n",
       "    }\n",
       "\n",
       "    .dataframe tbody tr th {\n",
       "        vertical-align: top;\n",
       "    }\n",
       "\n",
       "    .dataframe thead th {\n",
       "        text-align: right;\n",
       "    }\n",
       "</style>\n",
       "<table border=\"1\" class=\"dataframe\">\n",
       "  <thead>\n",
       "    <tr style=\"text-align: right;\">\n",
       "      <th></th>\n",
       "      <th>date</th>\n",
       "      <th>numbers</th>\n",
       "      <th>price</th>\n",
       "    </tr>\n",
       "  </thead>\n",
       "  <tbody>\n",
       "    <tr>\n",
       "      <th>0</th>\n",
       "      <td>2019-01-01</td>\n",
       "      <td>2201765</td>\n",
       "      <td>2.358</td>\n",
       "    </tr>\n",
       "    <tr>\n",
       "      <th>1</th>\n",
       "      <td>2019-01-02</td>\n",
       "      <td>2424225</td>\n",
       "      <td>2.358</td>\n",
       "    </tr>\n",
       "    <tr>\n",
       "      <th>2</th>\n",
       "      <td>2019-01-03</td>\n",
       "      <td>2279384</td>\n",
       "      <td>2.358</td>\n",
       "    </tr>\n",
       "    <tr>\n",
       "      <th>3</th>\n",
       "      <td>2019-01-04</td>\n",
       "      <td>2230078</td>\n",
       "      <td>2.358</td>\n",
       "    </tr>\n",
       "    <tr>\n",
       "      <th>4</th>\n",
       "      <td>2019-01-05</td>\n",
       "      <td>2049460</td>\n",
       "      <td>2.358</td>\n",
       "    </tr>\n",
       "  </tbody>\n",
       "</table>\n",
       "</div>"
      ],
      "text/plain": [
       "        date  numbers  price\n",
       "0 2019-01-01  2201765  2.358\n",
       "1 2019-01-02  2424225  2.358\n",
       "2 2019-01-03  2279384  2.358\n",
       "3 2019-01-04  2230078  2.358\n",
       "4 2019-01-05  2049460  2.358"
      ]
     },
     "execution_count": 248,
     "metadata": {},
     "output_type": "execute_result"
    }
   ],
   "source": [
    "tsa_gas_merged.head()"
   ]
  },
  {
   "cell_type": "code",
   "execution_count": 249,
   "id": "3e4330e2-bb88-4a72-a4e6-2a402eb9e0e8",
   "metadata": {},
   "outputs": [],
   "source": [
    "tsa_gas_merged.to_csv(\"tsa_gas_merged\", index=False)"
   ]
  },
  {
   "cell_type": "code",
   "execution_count": null,
   "id": "125b6c25-e47e-485d-a22c-7fbfe989555a",
   "metadata": {},
   "outputs": [],
   "source": []
  }
 ],
 "metadata": {
  "kernelspec": {
   "display_name": "Python 3 (ipykernel)",
   "language": "python",
   "name": "python3"
  },
  "language_info": {
   "codemirror_mode": {
    "name": "ipython",
    "version": 3
   },
   "file_extension": ".py",
   "mimetype": "text/x-python",
   "name": "python",
   "nbconvert_exporter": "python",
   "pygments_lexer": "ipython3",
   "version": "3.11.7"
  }
 },
 "nbformat": 4,
 "nbformat_minor": 5
}
