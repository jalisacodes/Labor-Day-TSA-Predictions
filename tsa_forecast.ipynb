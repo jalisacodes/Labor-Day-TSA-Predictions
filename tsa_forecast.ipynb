{
 "cells": [
  {
   "cell_type": "code",
   "execution_count": 1,
   "id": "f2abc6a4-198d-4c56-af45-680efbf649df",
   "metadata": {},
   "outputs": [],
   "source": [
    "import requests"
   ]
  },
  {
   "cell_type": "code",
   "execution_count": 3,
   "id": "6528bf1e-bee4-4e90-a172-4b83fb85634f",
   "metadata": {},
   "outputs": [],
   "source": [
    "from bs4 import BeautifulSoup"
   ]
  },
  {
   "cell_type": "code",
   "execution_count": 4,
   "id": "b61b1236-2bc1-4671-8e1c-828a92798184",
   "metadata": {},
   "outputs": [],
   "source": [
    "import pandas as pd"
   ]
  },
  {
   "cell_type": "code",
   "execution_count": 7,
   "id": "11090c92-c3b7-4ade-9a4b-0c41dc934477",
   "metadata": {},
   "outputs": [],
   "source": [
    "url = \"https://www.tsa.gov/travel/passenger-volumes\""
   ]
  },
  {
   "cell_type": "code",
   "execution_count": 8,
   "id": "7697e46f-a237-48d3-b6b2-f58d051e78b3",
   "metadata": {},
   "outputs": [],
   "source": [
    "response = requests.get(url)"
   ]
  },
  {
   "cell_type": "code",
   "execution_count": null,
   "id": "0f092bf2-1541-40fe-b922-9401a64846e8",
   "metadata": {},
   "outputs": [],
   "source": []
  }
 ],
 "metadata": {
  "kernelspec": {
   "display_name": "Python 3 (ipykernel)",
   "language": "python",
   "name": "python3"
  },
  "language_info": {
   "codemirror_mode": {
    "name": "ipython",
    "version": 3
   },
   "file_extension": ".py",
   "mimetype": "text/x-python",
   "name": "python",
   "nbconvert_exporter": "python",
   "pygments_lexer": "ipython3",
   "version": "3.11.7"
  }
 },
 "nbformat": 4,
 "nbformat_minor": 5
}
