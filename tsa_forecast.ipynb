{
 "cells": [
  {
   "cell_type": "markdown",
   "id": "43aef078-9f33-4fc5-8633-7646d9f16392",
   "metadata": {},
   "source": [
    "# beautifulsoup for scraping tsa information"
   ]
  },
  {
   "cell_type": "code",
   "execution_count": 223,
   "id": "3e11d115-d36f-4bd7-88be-6f6f49c4743a",
   "metadata": {},
   "outputs": [],
   "source": [
    "import requests"
   ]
  },
  {
   "cell_type": "code",
   "execution_count": 170,
   "id": "df5b956a-2f1d-433a-9374-759f132d83be",
   "metadata": {},
   "outputs": [],
   "source": [
    "from bs4 import BeautifulSoup"
   ]
  },
  {
   "cell_type": "code",
   "execution_count": 171,
   "id": "66fbb0b8-05f4-4584-bf54-37e307855303",
   "metadata": {},
   "outputs": [],
   "source": [
    "import pandas as pd"
   ]
  },
  {
   "cell_type": "code",
   "execution_count": 172,
   "id": "7bd5831c-ff36-4e82-9744-3cbdd577cd37",
   "metadata": {},
   "outputs": [],
   "source": [
    "url = \"https://www.eia.gov/dnav/pet/hist/leafhandler.ashx?f=m&n=pet&s=emm_epm0_pte_nus_dpg\""
   ]
  },
  {
   "cell_type": "code",
   "execution_count": 173,
   "id": "b4c76ac6-ba84-4ebe-8962-0f46e7a968d3",
   "metadata": {},
   "outputs": [],
   "source": [
    "response = requests.get(url)"
   ]
  },
  {
   "cell_type": "code",
   "execution_count": 174,
   "id": "2d773501-803a-422e-8c65-c0d828a77d4e",
   "metadata": {},
   "outputs": [],
   "source": [
    "soup = BeautifulSoup(response.text, 'html.parser')"
   ]
  },
  {
   "cell_type": "code",
   "execution_count": 175,
   "id": "5f8b41bf-18bb-4bc9-978f-579fbbbaff55",
   "metadata": {},
   "outputs": [],
   "source": [
    "table = soup.find('table')"
   ]
  },
  {
   "cell_type": "code",
   "execution_count": 176,
   "id": "987cec36-5e75-449e-80d0-9ef99e26bcd4",
   "metadata": {},
   "outputs": [
    {
     "name": "stderr",
     "output_type": "stream",
     "text": [
      "C:\\Users\\jstew\\AppData\\Local\\Temp\\ipykernel_5832\\1339507137.py:1: FutureWarning: Passing literal html to 'read_html' is deprecated and will be removed in a future version. To read from a literal string, wrap it in a 'StringIO' object.\n",
      "  df = pd.read_html(str(table))[0]\n"
     ]
    }
   ],
   "source": [
    "df = pd.read_html(str(table))[0]"
   ]
  },
  {
   "cell_type": "code",
   "execution_count": null,
   "id": "93eccc25-6447-4e71-af28-6e609b6c2061",
   "metadata": {},
   "outputs": [],
   "source": []
  },
  {
   "cell_type": "code",
   "execution_count": null,
   "id": "dc88af0a-8818-419b-b843-95ee68228e73",
   "metadata": {},
   "outputs": [],
   "source": [
    "# use xlrd openxl to convert xls files to csv for gas prices"
   ]
  },
  {
   "cell_type": "code",
   "execution_count": 180,
   "id": "b5805a8c-a7dd-48c8-911e-e070f0b16757",
   "metadata": {},
   "outputs": [
    {
     "name": "stdout",
     "output_type": "stream",
     "text": [
      "Collecting xlrd\n",
      "  Downloading xlrd-2.0.2-py2.py3-none-any.whl.metadata (3.5 kB)\n",
      "Requirement already satisfied: openpyxl in c:\\users\\jstew\\anaconda3\\lib\\site-packages (3.1.2)\n",
      "Requirement already satisfied: et-xmlfile in c:\\users\\jstew\\anaconda3\\lib\\site-packages (from openpyxl) (1.1.0)\n",
      "Downloading xlrd-2.0.2-py2.py3-none-any.whl (96 kB)\n",
      "   ---------------------------------------- 0.0/96.6 kB ? eta -:--:--\n",
      "   ---------------------------------------- 0.0/96.6 kB ? eta -:--:--\n",
      "   ---- ----------------------------------- 10.2/96.6 kB ? eta -:--:--\n",
      "   -------- ------------------------------- 20.5/96.6 kB 217.9 kB/s eta 0:00:01\n",
      "   ---------------- ----------------------- 41.0/96.6 kB 279.3 kB/s eta 0:00:01\n",
      "   ---------------------------------------- 96.6/96.6 kB 501.8 kB/s eta 0:00:00\n",
      "Installing collected packages: xlrd\n",
      "Successfully installed xlrd-2.0.2\n",
      "Note: you may need to restart the kernel to use updated packages.\n"
     ]
    }
   ],
   "source": [
    "pip install xlrd openpyxl"
   ]
  },
  {
   "cell_type": "code",
   "execution_count": 187,
   "id": "114bea38-aeec-4d50-abac-daff2d8215de",
   "metadata": {},
   "outputs": [],
   "source": [
    "import pandas as pd"
   ]
  },
  {
   "cell_type": "code",
   "execution_count": 188,
   "id": "f297f606-b0ac-4165-827c-2528f8f6e3fd",
   "metadata": {},
   "outputs": [],
   "source": [
    "xls_file = 'gas-prices-weekly-data.xls'"
   ]
  },
  {
   "cell_type": "code",
   "execution_count": 189,
   "id": "1e066b4a-5741-4d7c-8bed-89d18d78cc49",
   "metadata": {},
   "outputs": [],
   "source": [
    "df = pd.read_excel(xls_file, sheet_name='Data 1', skiprows=1)"
   ]
  },
  {
   "cell_type": "code",
   "execution_count": null,
   "id": "578d5a5f-3c04-4c16-9c20-8f1203c5218c",
   "metadata": {},
   "outputs": [],
   "source": [
    "# viewing xls first 5 rows"
   ]
  },
  {
   "cell_type": "code",
   "execution_count": 191,
   "id": "f11e4c62-241a-408b-b5a3-eb931551ddf0",
   "metadata": {},
   "outputs": [
    {
     "data": {
      "text/html": [
       "<div>\n",
       "<style scoped>\n",
       "    .dataframe tbody tr th:only-of-type {\n",
       "        vertical-align: middle;\n",
       "    }\n",
       "\n",
       "    .dataframe tbody tr th {\n",
       "        vertical-align: top;\n",
       "    }\n",
       "\n",
       "    .dataframe thead th {\n",
       "        text-align: right;\n",
       "    }\n",
       "</style>\n",
       "<table border=\"1\" class=\"dataframe\">\n",
       "  <thead>\n",
       "    <tr style=\"text-align: right;\">\n",
       "      <th></th>\n",
       "      <th>Sourcekey</th>\n",
       "      <th>EMM_EPM0_PTE_NUS_DPG</th>\n",
       "    </tr>\n",
       "  </thead>\n",
       "  <tbody>\n",
       "    <tr>\n",
       "      <th>0</th>\n",
       "      <td>Date</td>\n",
       "      <td>Weekly U.S. All Grades All Formulations Retail...</td>\n",
       "    </tr>\n",
       "    <tr>\n",
       "      <th>1</th>\n",
       "      <td>1993-04-05 00:00:00</td>\n",
       "      <td>1.068</td>\n",
       "    </tr>\n",
       "    <tr>\n",
       "      <th>2</th>\n",
       "      <td>1993-04-12 00:00:00</td>\n",
       "      <td>1.079</td>\n",
       "    </tr>\n",
       "    <tr>\n",
       "      <th>3</th>\n",
       "      <td>1993-04-19 00:00:00</td>\n",
       "      <td>1.079</td>\n",
       "    </tr>\n",
       "    <tr>\n",
       "      <th>4</th>\n",
       "      <td>1993-04-26 00:00:00</td>\n",
       "      <td>1.086</td>\n",
       "    </tr>\n",
       "  </tbody>\n",
       "</table>\n",
       "</div>"
      ],
      "text/plain": [
       "             Sourcekey                               EMM_EPM0_PTE_NUS_DPG\n",
       "0                 Date  Weekly U.S. All Grades All Formulations Retail...\n",
       "1  1993-04-05 00:00:00                                              1.068\n",
       "2  1993-04-12 00:00:00                                              1.079\n",
       "3  1993-04-19 00:00:00                                              1.079\n",
       "4  1993-04-26 00:00:00                                              1.086"
      ]
     },
     "execution_count": 191,
     "metadata": {},
     "output_type": "execute_result"
    }
   ],
   "source": [
    "df.head()"
   ]
  },
  {
   "cell_type": "code",
   "execution_count": null,
   "id": "578bb3e8-564f-44ae-b8b8-393e195613d2",
   "metadata": {},
   "outputs": [],
   "source": [
    "# convert df to csv file"
   ]
  },
  {
   "cell_type": "code",
   "execution_count": 192,
   "id": "46ed54fa-d50c-4608-ae20-3812ddb3b6e6",
   "metadata": {},
   "outputs": [],
   "source": [
    "df.to_csv('gas-prices-weekly.csv', index=False)"
   ]
  },
  {
   "cell_type": "code",
   "execution_count": null,
   "id": "8d562a64-929b-41cc-923e-f6b0db425355",
   "metadata": {},
   "outputs": [],
   "source": []
  },
  {
   "cell_type": "code",
   "execution_count": null,
   "id": "6c23502d-9ba8-4e97-8065-f1f4958a68e0",
   "metadata": {},
   "outputs": [],
   "source": [
    "#using glob to combine all tsa csv files to one large file for all years"
   ]
  },
  {
   "cell_type": "code",
   "execution_count": 193,
   "id": "4a6ca6e9-0810-4375-a96e-ea417d3dce1a",
   "metadata": {},
   "outputs": [],
   "source": [
    "import pandas as pd"
   ]
  },
  {
   "cell_type": "code",
   "execution_count": 200,
   "id": "92b97066-1114-455a-a458-ceea2628a271",
   "metadata": {},
   "outputs": [],
   "source": [
    "import glob"
   ]
  },
  {
   "cell_type": "code",
   "execution_count": 203,
   "id": "c84fcd10-bcca-483f-9f0f-c2fd7348e0ba",
   "metadata": {},
   "outputs": [],
   "source": [
    "files = glob.glob(\"tsa_data_*.csv\")"
   ]
  },
  {
   "cell_type": "code",
   "execution_count": 205,
   "id": "854b3925-e743-4d16-bb45-dad721a8f226",
   "metadata": {},
   "outputs": [
    {
     "name": "stdout",
     "output_type": "stream",
     "text": [
      "Merging these files: ['tsa_data_2019.csv', 'tsa_data_2020.csv', 'tsa_data_2021.csv', 'tsa_data_2022.csv', 'tsa_data_2023.csv', 'tsa_data_2024.csv', 'tsa_data_2025.csv']\n"
     ]
    }
   ],
   "source": [
    "print(\"Merging these files:\", files)"
   ]
  },
  {
   "cell_type": "code",
   "execution_count": 206,
   "id": "ca5acb2f-4146-4dd7-be0e-9adcd0a4ff56",
   "metadata": {},
   "outputs": [],
   "source": [
    "tsa_df = pd.concat([pd.read_csv(f) for f in files], ignore_index=True)"
   ]
  },
  {
   "cell_type": "code",
   "execution_count": 211,
   "id": "0936725a-878a-4550-9adb-393b9179bb87",
   "metadata": {},
   "outputs": [],
   "source": [
    "tsa_df.to_csv(\"tsa_data_all_years.csv\", index=False)"
   ]
  },
  {
   "cell_type": "code",
   "execution_count": null,
   "id": "15a52890-1d89-4db9-8936-3c481d78466f",
   "metadata": {},
   "outputs": [],
   "source": [
    "# viewing first 5 rows of tsa new csv file"
   ]
  },
  {
   "cell_type": "code",
   "execution_count": 213,
   "id": "c831cbab-47c7-40d4-81e0-29ce25f8c0a0",
   "metadata": {},
   "outputs": [
    {
     "data": {
      "text/html": [
       "<div>\n",
       "<style scoped>\n",
       "    .dataframe tbody tr th:only-of-type {\n",
       "        vertical-align: middle;\n",
       "    }\n",
       "\n",
       "    .dataframe tbody tr th {\n",
       "        vertical-align: top;\n",
       "    }\n",
       "\n",
       "    .dataframe thead th {\n",
       "        text-align: right;\n",
       "    }\n",
       "</style>\n",
       "<table border=\"1\" class=\"dataframe\">\n",
       "  <thead>\n",
       "    <tr style=\"text-align: right;\">\n",
       "      <th></th>\n",
       "      <th>date</th>\n",
       "      <th>numbers</th>\n",
       "    </tr>\n",
       "  </thead>\n",
       "  <tbody>\n",
       "    <tr>\n",
       "      <th>0</th>\n",
       "      <td>2019-01-01</td>\n",
       "      <td>2201765</td>\n",
       "    </tr>\n",
       "    <tr>\n",
       "      <th>1</th>\n",
       "      <td>2019-01-02</td>\n",
       "      <td>2424225</td>\n",
       "    </tr>\n",
       "    <tr>\n",
       "      <th>2</th>\n",
       "      <td>2019-01-03</td>\n",
       "      <td>2279384</td>\n",
       "    </tr>\n",
       "    <tr>\n",
       "      <th>3</th>\n",
       "      <td>2019-01-04</td>\n",
       "      <td>2230078</td>\n",
       "    </tr>\n",
       "    <tr>\n",
       "      <th>4</th>\n",
       "      <td>2019-01-05</td>\n",
       "      <td>2049460</td>\n",
       "    </tr>\n",
       "  </tbody>\n",
       "</table>\n",
       "</div>"
      ],
      "text/plain": [
       "         date  numbers\n",
       "0  2019-01-01  2201765\n",
       "1  2019-01-02  2424225\n",
       "2  2019-01-03  2279384\n",
       "3  2019-01-04  2230078\n",
       "4  2019-01-05  2049460"
      ]
     },
     "execution_count": 213,
     "metadata": {},
     "output_type": "execute_result"
    }
   ],
   "source": [
    "tsa_df.head()"
   ]
  },
  {
   "cell_type": "code",
   "execution_count": null,
   "id": "4af49d86-962b-428a-88e5-2f5d5506aa00",
   "metadata": {},
   "outputs": [],
   "source": []
  },
  {
   "cell_type": "code",
   "execution_count": 214,
   "id": "cadf9021-601c-4f88-9014-a3a6c729360d",
   "metadata": {},
   "outputs": [],
   "source": [
    "import pandas as pd"
   ]
  },
  {
   "cell_type": "code",
   "execution_count": 221,
   "id": "ff71cf07-6cd5-40ab-943f-b089c0709ddb",
   "metadata": {},
   "outputs": [],
   "source": [
    "df = pd.read_csv('tsa_data_all_years.csv')"
   ]
  },
  {
   "cell_type": "code",
   "execution_count": 224,
   "id": "7d4c9a60-e7f5-4916-95a5-05ae119182df",
   "metadata": {},
   "outputs": [
    {
     "data": {
      "text/html": [
       "<div>\n",
       "<style scoped>\n",
       "    .dataframe tbody tr th:only-of-type {\n",
       "        vertical-align: middle;\n",
       "    }\n",
       "\n",
       "    .dataframe tbody tr th {\n",
       "        vertical-align: top;\n",
       "    }\n",
       "\n",
       "    .dataframe thead th {\n",
       "        text-align: right;\n",
       "    }\n",
       "</style>\n",
       "<table border=\"1\" class=\"dataframe\">\n",
       "  <thead>\n",
       "    <tr style=\"text-align: right;\">\n",
       "      <th></th>\n",
       "      <th>date</th>\n",
       "      <th>numbers</th>\n",
       "    </tr>\n",
       "  </thead>\n",
       "  <tbody>\n",
       "    <tr>\n",
       "      <th>0</th>\n",
       "      <td>2019-01-01</td>\n",
       "      <td>2201765</td>\n",
       "    </tr>\n",
       "    <tr>\n",
       "      <th>1</th>\n",
       "      <td>2019-01-02</td>\n",
       "      <td>2424225</td>\n",
       "    </tr>\n",
       "    <tr>\n",
       "      <th>2</th>\n",
       "      <td>2019-01-03</td>\n",
       "      <td>2279384</td>\n",
       "    </tr>\n",
       "    <tr>\n",
       "      <th>3</th>\n",
       "      <td>2019-01-04</td>\n",
       "      <td>2230078</td>\n",
       "    </tr>\n",
       "    <tr>\n",
       "      <th>4</th>\n",
       "      <td>2019-01-05</td>\n",
       "      <td>2049460</td>\n",
       "    </tr>\n",
       "  </tbody>\n",
       "</table>\n",
       "</div>"
      ],
      "text/plain": [
       "         date  numbers\n",
       "0  2019-01-01  2201765\n",
       "1  2019-01-02  2424225\n",
       "2  2019-01-03  2279384\n",
       "3  2019-01-04  2230078\n",
       "4  2019-01-05  2049460"
      ]
     },
     "execution_count": 224,
     "metadata": {},
     "output_type": "execute_result"
    }
   ],
   "source": [
    "df.head()"
   ]
  },
  {
   "cell_type": "code",
   "execution_count": null,
   "id": "9710f2e6-ea34-44e2-a4eb-4222cb095e39",
   "metadata": {},
   "outputs": [],
   "source": []
  },
  {
   "cell_type": "code",
   "execution_count": 225,
   "id": "3b85b59f-f127-4a00-ba25-4a2fcd7e1570",
   "metadata": {},
   "outputs": [],
   "source": [
    "import pandas as pd"
   ]
  },
  {
   "cell_type": "code",
   "execution_count": 228,
   "id": "3d8e8acf-fefd-4aa6-ab99-17f7ebedfc20",
   "metadata": {},
   "outputs": [],
   "source": [
    "# Read TSA daily data"
   ]
  },
  {
   "cell_type": "code",
   "execution_count": 226,
   "id": "1bb08f2a-36e2-4d9e-9aaf-b85184534671",
   "metadata": {},
   "outputs": [],
   "source": [
    "tsa = pd.read_csv('tsa_data_all_years.csv')"
   ]
  },
  {
   "cell_type": "code",
   "execution_count": null,
   "id": "81461327-e62c-4ed5-8b74-297d9e58f9d3",
   "metadata": {},
   "outputs": [],
   "source": [
    "# using to_datetime to change type to datetime for tsa csv"
   ]
  },
  {
   "cell_type": "code",
   "execution_count": 229,
   "id": "836aa4fd-26d5-4d4d-91e6-1b0234f1b21c",
   "metadata": {},
   "outputs": [],
   "source": [
    "tsa['date'] = pd.to_datetime(tsa['date'])"
   ]
  },
  {
   "cell_type": "code",
   "execution_count": 233,
   "id": "21113a10-488a-41e0-8d03-0c3b5356bc6e",
   "metadata": {},
   "outputs": [],
   "source": [
    "# Rename columns"
   ]
  },
  {
   "cell_type": "code",
   "execution_count": 235,
   "id": "c256510c-8a09-4513-84db-ffd111a2b06e",
   "metadata": {},
   "outputs": [],
   "source": [
    "gas = pd.read_csv('gas-prices-weekly.csv', skiprows=1)"
   ]
  },
  {
   "cell_type": "code",
   "execution_count": null,
   "id": "2c978780-e1be-4d2f-828d-a35044e1d69e",
   "metadata": {},
   "outputs": [],
   "source": [
    "# changing gas csv column names for better reading"
   ]
  },
  {
   "cell_type": "code",
   "execution_count": 236,
   "id": "cc64959b-486c-4d05-9778-12dc2494e929",
   "metadata": {},
   "outputs": [],
   "source": [
    "gas.columns = ['week_start', 'price']"
   ]
  },
  {
   "cell_type": "code",
   "execution_count": null,
   "id": "4433eef1-d9eb-444e-8ab0-54760b3501f9",
   "metadata": {},
   "outputs": [],
   "source": [
    "# using to_datetime to change type to datetime for gas csv"
   ]
  },
  {
   "cell_type": "code",
   "execution_count": 237,
   "id": "947c8b70-e1a8-489c-8822-571663562774",
   "metadata": {},
   "outputs": [],
   "source": [
    "gas['week_start'] = pd.to_datetime(gas['week_start'])"
   ]
  },
  {
   "cell_type": "code",
   "execution_count": null,
   "id": "1f5df733-7c6d-4ddd-a604-ce80c61bea3d",
   "metadata": {},
   "outputs": [],
   "source": [
    "# viewing first five rows of gas csv"
   ]
  },
  {
   "cell_type": "code",
   "execution_count": 238,
   "id": "5414b265-00d8-4de8-9a8e-62c531e8b536",
   "metadata": {},
   "outputs": [
    {
     "data": {
      "text/html": [
       "<div>\n",
       "<style scoped>\n",
       "    .dataframe tbody tr th:only-of-type {\n",
       "        vertical-align: middle;\n",
       "    }\n",
       "\n",
       "    .dataframe tbody tr th {\n",
       "        vertical-align: top;\n",
       "    }\n",
       "\n",
       "    .dataframe thead th {\n",
       "        text-align: right;\n",
       "    }\n",
       "</style>\n",
       "<table border=\"1\" class=\"dataframe\">\n",
       "  <thead>\n",
       "    <tr style=\"text-align: right;\">\n",
       "      <th></th>\n",
       "      <th>week_start</th>\n",
       "      <th>price</th>\n",
       "    </tr>\n",
       "  </thead>\n",
       "  <tbody>\n",
       "    <tr>\n",
       "      <th>0</th>\n",
       "      <td>1993-04-05</td>\n",
       "      <td>1.068</td>\n",
       "    </tr>\n",
       "    <tr>\n",
       "      <th>1</th>\n",
       "      <td>1993-04-12</td>\n",
       "      <td>1.079</td>\n",
       "    </tr>\n",
       "    <tr>\n",
       "      <th>2</th>\n",
       "      <td>1993-04-19</td>\n",
       "      <td>1.079</td>\n",
       "    </tr>\n",
       "    <tr>\n",
       "      <th>3</th>\n",
       "      <td>1993-04-26</td>\n",
       "      <td>1.086</td>\n",
       "    </tr>\n",
       "    <tr>\n",
       "      <th>4</th>\n",
       "      <td>1993-05-03</td>\n",
       "      <td>1.086</td>\n",
       "    </tr>\n",
       "  </tbody>\n",
       "</table>\n",
       "</div>"
      ],
      "text/plain": [
       "  week_start  price\n",
       "0 1993-04-05  1.068\n",
       "1 1993-04-12  1.079\n",
       "2 1993-04-19  1.079\n",
       "3 1993-04-26  1.086\n",
       "4 1993-05-03  1.086"
      ]
     },
     "execution_count": 238,
     "metadata": {},
     "output_type": "execute_result"
    }
   ],
   "source": [
    "gas.head()"
   ]
  },
  {
   "cell_type": "code",
   "execution_count": null,
   "id": "b32615d6-e5a3-48ac-8dd8-641f246e97b4",
   "metadata": {},
   "outputs": [],
   "source": [
    "# saving update gas csv"
   ]
  },
  {
   "cell_type": "code",
   "execution_count": 240,
   "id": "6e8cca1f-502f-4696-a4ee-e9d36c46b2b5",
   "metadata": {},
   "outputs": [],
   "source": [
    "gas.to_csv('gas-prices-weekly.csv', index=False)"
   ]
  },
  {
   "cell_type": "code",
   "execution_count": null,
   "id": "0f7266f5-a4fc-43f0-8f17-dfef98540f53",
   "metadata": {},
   "outputs": [],
   "source": [
    "# viewing tsa and gas data types"
   ]
  },
  {
   "cell_type": "code",
   "execution_count": 242,
   "id": "1a5598cd-fb2b-4d1f-a4b8-d6d33351dec3",
   "metadata": {},
   "outputs": [
    {
     "data": {
      "text/plain": [
       "date       datetime64[ns]\n",
       "numbers             int64\n",
       "dtype: object"
      ]
     },
     "execution_count": 242,
     "metadata": {},
     "output_type": "execute_result"
    }
   ],
   "source": [
    "tsa.dtypes\n"
   ]
  },
  {
   "cell_type": "code",
   "execution_count": 243,
   "id": "3f6c5c2b-57d5-4574-998d-f7dec5640675",
   "metadata": {},
   "outputs": [
    {
     "data": {
      "text/plain": [
       "week_start    datetime64[ns]\n",
       "price                float64\n",
       "dtype: object"
      ]
     },
     "execution_count": 243,
     "metadata": {},
     "output_type": "execute_result"
    }
   ],
   "source": [
    "gas.dtypes"
   ]
  },
  {
   "cell_type": "code",
   "execution_count": null,
   "id": "9a31242b-922f-4995-a565-2456914fa691",
   "metadata": {},
   "outputs": [],
   "source": [
    "# sorting gas and tsa by date chronologically"
   ]
  },
  {
   "cell_type": "code",
   "execution_count": 244,
   "id": "7ff6e425-7025-46eb-8bf6-c18f5b43feaf",
   "metadata": {},
   "outputs": [],
   "source": [
    "gas = gas.sort_values('week_start')"
   ]
  },
  {
   "cell_type": "code",
   "execution_count": 245,
   "id": "df9b648c-883a-415e-a255-7e5063dc79cc",
   "metadata": {},
   "outputs": [],
   "source": [
    "tsa = tsa.sort_values('date')\n"
   ]
  },
  {
   "cell_type": "code",
   "execution_count": null,
   "id": "00347bac-7548-41c8-a996-8f6914b0cfc6",
   "metadata": {},
   "outputs": [],
   "source": [
    "# merge tsa and gas csv to one csv"
   ]
  },
  {
   "cell_type": "code",
   "execution_count": 246,
   "id": "d7958913-777d-4fd6-b846-f2cfa9642a7c",
   "metadata": {},
   "outputs": [],
   "source": [
    "tsa_gas_merged = pd.merge_asof(\n",
    "    tsa,                # daily TSA data\n",
    "    gas,                # weekly gas data\n",
    "    left_on='date',     # TSA daily date\n",
    "    right_on='week_start'  # weekly gas week start\n",
    ")"
   ]
  },
  {
   "cell_type": "code",
   "execution_count": null,
   "id": "94652916-29e4-43fe-8c4f-86aabb6fc6a4",
   "metadata": {},
   "outputs": [],
   "source": [
    "# dropping week_start column"
   ]
  },
  {
   "cell_type": "code",
   "execution_count": 247,
   "id": "12301deb-6e2e-4391-b448-ee8db37db8d7",
   "metadata": {},
   "outputs": [],
   "source": [
    "tsa_gas_merged = tsa_gas_merged.drop(columns=['week_start'])"
   ]
  },
  {
   "cell_type": "code",
   "execution_count": 248,
   "id": "d0d6b880-5e83-4b66-aae3-7ca4145651a7",
   "metadata": {},
   "outputs": [
    {
     "data": {
      "text/html": [
       "<div>\n",
       "<style scoped>\n",
       "    .dataframe tbody tr th:only-of-type {\n",
       "        vertical-align: middle;\n",
       "    }\n",
       "\n",
       "    .dataframe tbody tr th {\n",
       "        vertical-align: top;\n",
       "    }\n",
       "\n",
       "    .dataframe thead th {\n",
       "        text-align: right;\n",
       "    }\n",
       "</style>\n",
       "<table border=\"1\" class=\"dataframe\">\n",
       "  <thead>\n",
       "    <tr style=\"text-align: right;\">\n",
       "      <th></th>\n",
       "      <th>date</th>\n",
       "      <th>numbers</th>\n",
       "      <th>price</th>\n",
       "    </tr>\n",
       "  </thead>\n",
       "  <tbody>\n",
       "    <tr>\n",
       "      <th>0</th>\n",
       "      <td>2019-01-01</td>\n",
       "      <td>2201765</td>\n",
       "      <td>2.358</td>\n",
       "    </tr>\n",
       "    <tr>\n",
       "      <th>1</th>\n",
       "      <td>2019-01-02</td>\n",
       "      <td>2424225</td>\n",
       "      <td>2.358</td>\n",
       "    </tr>\n",
       "    <tr>\n",
       "      <th>2</th>\n",
       "      <td>2019-01-03</td>\n",
       "      <td>2279384</td>\n",
       "      <td>2.358</td>\n",
       "    </tr>\n",
       "    <tr>\n",
       "      <th>3</th>\n",
       "      <td>2019-01-04</td>\n",
       "      <td>2230078</td>\n",
       "      <td>2.358</td>\n",
       "    </tr>\n",
       "    <tr>\n",
       "      <th>4</th>\n",
       "      <td>2019-01-05</td>\n",
       "      <td>2049460</td>\n",
       "      <td>2.358</td>\n",
       "    </tr>\n",
       "  </tbody>\n",
       "</table>\n",
       "</div>"
      ],
      "text/plain": [
       "        date  numbers  price\n",
       "0 2019-01-01  2201765  2.358\n",
       "1 2019-01-02  2424225  2.358\n",
       "2 2019-01-03  2279384  2.358\n",
       "3 2019-01-04  2230078  2.358\n",
       "4 2019-01-05  2049460  2.358"
      ]
     },
     "execution_count": 248,
     "metadata": {},
     "output_type": "execute_result"
    }
   ],
   "source": [
    "tsa_gas_merged.head()"
   ]
  },
  {
   "cell_type": "code",
   "execution_count": 250,
   "id": "3e4330e2-bb88-4a72-a4e6-2a402eb9e0e8",
   "metadata": {},
   "outputs": [],
   "source": [
    "# renamed columns from numbers to passengers"
   ]
  },
  {
   "cell_type": "code",
   "execution_count": 251,
   "id": "125b6c25-e47e-485d-a22c-7fbfe989555a",
   "metadata": {},
   "outputs": [],
   "source": [
    "tsa_gas_merged = tsa_gas_merged.rename(columns={'numbers': 'passengers'})"
   ]
  },
  {
   "cell_type": "code",
   "execution_count": null,
   "id": "7ba68bc4-bdc3-43a5-a48f-00efd1ba05d4",
   "metadata": {},
   "outputs": [],
   "source": [
    "# save tsa gas merged csv"
   ]
  },
  {
   "cell_type": "code",
   "execution_count": 252,
   "id": "f90e2c0f-1129-49c5-b759-9ddf280d9c67",
   "metadata": {},
   "outputs": [],
   "source": [
    "tsa_gas_merged.to_csv('tsa_gas_merged.csv', index=False)"
   ]
  },
  {
   "cell_type": "code",
   "execution_count": null,
   "id": "0a36ad93-81c3-4156-bc12-e521dcfa2453",
   "metadata": {},
   "outputs": [],
   "source": [
    "# prophet for forecasting"
   ]
  },
  {
   "cell_type": "code",
   "execution_count": 253,
   "id": "13164a61-d8f4-4411-aff4-8e2b74a02eab",
   "metadata": {},
   "outputs": [
    {
     "name": "stdout",
     "output_type": "stream",
     "text": [
      "Collecting prophetNote: you may need to restart the kernel to use updated packages.\n",
      "\n",
      "  Downloading prophet-1.1.7-py3-none-win_amd64.whl.metadata (3.6 kB)\n",
      "Collecting cmdstanpy>=1.0.4 (from prophet)\n",
      "  Downloading cmdstanpy-1.2.5-py3-none-any.whl.metadata (4.0 kB)\n",
      "Requirement already satisfied: numpy>=1.15.4 in c:\\users\\jstew\\anaconda3\\lib\\site-packages (from prophet) (1.26.4)\n",
      "Requirement already satisfied: matplotlib>=2.0.0 in c:\\users\\jstew\\anaconda3\\lib\\site-packages (from prophet) (3.8.0)\n",
      "Requirement already satisfied: pandas>=1.0.4 in c:\\users\\jstew\\anaconda3\\lib\\site-packages (from prophet) (2.2.1)\n",
      "Collecting holidays<1,>=0.25 (from prophet)\n",
      "  Downloading holidays-0.78-py3-none-any.whl.metadata (46 kB)\n",
      "     ---------------------------------------- 0.0/46.6 kB ? eta -:--:--\n",
      "     -------- ------------------------------- 10.2/46.6 kB ? eta -:--:--\n",
      "     ------------------------- ------------ 30.7/46.6 kB 435.7 kB/s eta 0:00:01\n",
      "     -------------------------------------- 46.6/46.6 kB 386.7 kB/s eta 0:00:00\n",
      "Requirement already satisfied: tqdm>=4.36.1 in c:\\users\\jstew\\anaconda3\\lib\\site-packages (from prophet) (4.65.0)\n",
      "Collecting importlib_resources (from prophet)\n",
      "  Downloading importlib_resources-6.5.2-py3-none-any.whl.metadata (3.9 kB)\n",
      "Collecting stanio<2.0.0,>=0.4.0 (from cmdstanpy>=1.0.4->prophet)\n",
      "  Downloading stanio-0.5.1-py3-none-any.whl.metadata (1.6 kB)\n",
      "Requirement already satisfied: python-dateutil in c:\\users\\jstew\\anaconda3\\lib\\site-packages (from holidays<1,>=0.25->prophet) (2.8.2)\n",
      "Requirement already satisfied: contourpy>=1.0.1 in c:\\users\\jstew\\anaconda3\\lib\\site-packages (from matplotlib>=2.0.0->prophet) (1.2.0)\n",
      "Requirement already satisfied: cycler>=0.10 in c:\\users\\jstew\\anaconda3\\lib\\site-packages (from matplotlib>=2.0.0->prophet) (0.11.0)\n",
      "Requirement already satisfied: fonttools>=4.22.0 in c:\\users\\jstew\\anaconda3\\lib\\site-packages (from matplotlib>=2.0.0->prophet) (4.25.0)\n",
      "Requirement already satisfied: kiwisolver>=1.0.1 in c:\\users\\jstew\\anaconda3\\lib\\site-packages (from matplotlib>=2.0.0->prophet) (1.4.4)\n",
      "Requirement already satisfied: packaging>=20.0 in c:\\users\\jstew\\anaconda3\\lib\\site-packages (from matplotlib>=2.0.0->prophet) (23.1)\n",
      "Requirement already satisfied: pillow>=6.2.0 in c:\\users\\jstew\\anaconda3\\lib\\site-packages (from matplotlib>=2.0.0->prophet) (10.2.0)\n",
      "Requirement already satisfied: pyparsing>=2.3.1 in c:\\users\\jstew\\anaconda3\\lib\\site-packages (from matplotlib>=2.0.0->prophet) (3.0.9)\n",
      "Requirement already satisfied: pytz>=2020.1 in c:\\users\\jstew\\anaconda3\\lib\\site-packages (from pandas>=1.0.4->prophet) (2023.3.post1)\n",
      "Requirement already satisfied: tzdata>=2022.7 in c:\\users\\jstew\\anaconda3\\lib\\site-packages (from pandas>=1.0.4->prophet) (2023.3)\n",
      "Requirement already satisfied: colorama in c:\\users\\jstew\\anaconda3\\lib\\site-packages (from tqdm>=4.36.1->prophet) (0.4.6)\n",
      "Requirement already satisfied: six>=1.5 in c:\\users\\jstew\\anaconda3\\lib\\site-packages (from python-dateutil->holidays<1,>=0.25->prophet) (1.16.0)\n",
      "Downloading prophet-1.1.7-py3-none-win_amd64.whl (13.3 MB)\n",
      "   ---------------------------------------- 0.0/13.3 MB ? eta -:--:--\n",
      "    --------------------------------------- 0.2/13.3 MB 3.9 MB/s eta 0:00:04\n",
      "   - -------------------------------------- 0.4/13.3 MB 3.9 MB/s eta 0:00:04\n",
      "   - -------------------------------------- 0.6/13.3 MB 4.4 MB/s eta 0:00:03\n",
      "   --- ------------------------------------ 1.0/13.3 MB 5.5 MB/s eta 0:00:03\n",
      "   ---- ----------------------------------- 1.4/13.3 MB 6.0 MB/s eta 0:00:02\n",
      "   ----- ---------------------------------- 1.9/13.3 MB 6.3 MB/s eta 0:00:02\n",
      "   ------- -------------------------------- 2.4/13.3 MB 7.1 MB/s eta 0:00:02\n",
      "   ------- -------------------------------- 2.5/13.3 MB 7.2 MB/s eta 0:00:02\n",
      "   --------- ------------------------------ 3.0/13.3 MB 7.1 MB/s eta 0:00:02\n",
      "   ----------- ---------------------------- 3.7/13.3 MB 7.6 MB/s eta 0:00:02\n",
      "   ------------ --------------------------- 4.2/13.3 MB 7.9 MB/s eta 0:00:02\n",
      "   -------------- ------------------------- 4.9/13.3 MB 8.5 MB/s eta 0:00:01\n",
      "   ----------------- ---------------------- 5.7/13.3 MB 9.1 MB/s eta 0:00:01\n",
      "   ------------------- -------------------- 6.3/13.3 MB 9.4 MB/s eta 0:00:01\n",
      "   ---------------------- ----------------- 7.5/13.3 MB 10.4 MB/s eta 0:00:01\n",
      "   ------------------------ --------------- 8.0/13.3 MB 10.7 MB/s eta 0:00:01\n",
      "   ------------------------- -------------- 8.6/13.3 MB 10.7 MB/s eta 0:00:01\n",
      "   --------------------------- ------------ 9.3/13.3 MB 10.8 MB/s eta 0:00:01\n",
      "   ------------------------------- -------- 10.4/13.3 MB 11.9 MB/s eta 0:00:01\n",
      "   ---------------------------------- ----- 11.5/13.3 MB 13.9 MB/s eta 0:00:01\n",
      "   ------------------------------------ --- 12.2/13.3 MB 14.2 MB/s eta 0:00:01\n",
      "   ---------------------------------------  13.3/13.3 MB 16.4 MB/s eta 0:00:01\n",
      "   ---------------------------------------  13.3/13.3 MB 16.4 MB/s eta 0:00:01\n",
      "   ---------------------------------------  13.3/13.3 MB 16.4 MB/s eta 0:00:01\n",
      "   ---------------------------------------- 13.3/13.3 MB 13.9 MB/s eta 0:00:00\n",
      "Downloading cmdstanpy-1.2.5-py3-none-any.whl (94 kB)\n",
      "   ---------------------------------------- 0.0/94.5 kB ? eta -:--:--\n",
      "   ---------------------------------------- 94.5/94.5 kB 2.7 MB/s eta 0:00:00\n",
      "Downloading holidays-0.78-py3-none-any.whl (1.2 MB)\n",
      "   ---------------------------------------- 0.0/1.2 MB ? eta -:--:--\n",
      "   ------------------------ --------------- 0.7/1.2 MB 48.5 MB/s eta 0:00:01\n",
      "   ---------------------------------------  1.2/1.2 MB 19.0 MB/s eta 0:00:01\n",
      "   ---------------------------------------- 1.2/1.2 MB 15.2 MB/s eta 0:00:00\n",
      "Downloading importlib_resources-6.5.2-py3-none-any.whl (37 kB)\n",
      "Downloading stanio-0.5.1-py3-none-any.whl (8.1 kB)\n",
      "Installing collected packages: stanio, importlib_resources, holidays, cmdstanpy, prophet\n",
      "Successfully installed cmdstanpy-1.2.5 holidays-0.78 importlib_resources-6.5.2 prophet-1.1.7 stanio-0.5.1\n"
     ]
    }
   ],
   "source": [
    "pip install prophet"
   ]
  },
  {
   "cell_type": "code",
   "execution_count": 277,
   "id": "70016c46-e924-404c-92b4-c9729e4cbebe",
   "metadata": {},
   "outputs": [],
   "source": [
    "from prophet import Prophet"
   ]
  },
  {
   "cell_type": "code",
   "execution_count": 290,
   "id": "067530d3-6c81-42ea-acb5-54e238aa4887",
   "metadata": {},
   "outputs": [],
   "source": [
    "model = Prophet(yearly_seasonality=True, weekly_seasonality=True)"
   ]
  },
  {
   "cell_type": "code",
   "execution_count": 291,
   "id": "159506d1-f5c5-42f0-a160-9acd813fa333",
   "metadata": {},
   "outputs": [
    {
     "name": "stderr",
     "output_type": "stream",
     "text": [
      "20:51:31 - cmdstanpy - INFO - Chain [1] start processing\n",
      "20:51:32 - cmdstanpy - INFO - Chain [1] done processing\n"
     ]
    },
    {
     "data": {
      "text/plain": [
       "<prophet.forecaster.Prophet at 0x28349346c10>"
      ]
     },
     "execution_count": 291,
     "metadata": {},
     "output_type": "execute_result"
    }
   ],
   "source": [
    "model.fit(tsa_df)"
   ]
  },
  {
   "cell_type": "code",
   "execution_count": 292,
   "id": "7c0f93d9-c635-47c3-8de9-e8f146c2465c",
   "metadata": {},
   "outputs": [],
   "source": [
    "future = model.make_future_dataframe(periods=20)"
   ]
  },
  {
   "cell_type": "code",
   "execution_count": 293,
   "id": "9ee77f7d-7455-495a-a695-24962fceb0ca",
   "metadata": {},
   "outputs": [],
   "source": [
    "forecast = model.predict(future)"
   ]
  },
  {
   "cell_type": "code",
   "execution_count": 297,
   "id": "138ad80d-894c-46a8-8d2c-39428f0d5e96",
   "metadata": {},
   "outputs": [
    {
     "data": {
      "text/html": [
       "<div>\n",
       "<style scoped>\n",
       "    .dataframe tbody tr th:only-of-type {\n",
       "        vertical-align: middle;\n",
       "    }\n",
       "\n",
       "    .dataframe tbody tr th {\n",
       "        vertical-align: top;\n",
       "    }\n",
       "\n",
       "    .dataframe thead th {\n",
       "        text-align: right;\n",
       "    }\n",
       "</style>\n",
       "<table border=\"1\" class=\"dataframe\">\n",
       "  <thead>\n",
       "    <tr style=\"text-align: right;\">\n",
       "      <th></th>\n",
       "      <th>ds</th>\n",
       "      <th>yhat</th>\n",
       "      <th>yhat_lower</th>\n",
       "      <th>yhat_upper</th>\n",
       "    </tr>\n",
       "  </thead>\n",
       "  <tbody>\n",
       "    <tr>\n",
       "      <th>2417</th>\n",
       "      <td>2025-08-14</td>\n",
       "      <td>2.723999e+06</td>\n",
       "      <td>2.486343e+06</td>\n",
       "      <td>2.973343e+06</td>\n",
       "    </tr>\n",
       "    <tr>\n",
       "      <th>2418</th>\n",
       "      <td>2025-08-15</td>\n",
       "      <td>2.760592e+06</td>\n",
       "      <td>2.505638e+06</td>\n",
       "      <td>3.004229e+06</td>\n",
       "    </tr>\n",
       "    <tr>\n",
       "      <th>2419</th>\n",
       "      <td>2025-08-16</td>\n",
       "      <td>2.416302e+06</td>\n",
       "      <td>2.163216e+06</td>\n",
       "      <td>2.662827e+06</td>\n",
       "    </tr>\n",
       "    <tr>\n",
       "      <th>2420</th>\n",
       "      <td>2025-08-17</td>\n",
       "      <td>2.730065e+06</td>\n",
       "      <td>2.495935e+06</td>\n",
       "      <td>2.976075e+06</td>\n",
       "    </tr>\n",
       "    <tr>\n",
       "      <th>2421</th>\n",
       "      <td>2025-08-18</td>\n",
       "      <td>2.642867e+06</td>\n",
       "      <td>2.387578e+06</td>\n",
       "      <td>2.878395e+06</td>\n",
       "    </tr>\n",
       "    <tr>\n",
       "      <th>2422</th>\n",
       "      <td>2025-08-19</td>\n",
       "      <td>2.314934e+06</td>\n",
       "      <td>2.053618e+06</td>\n",
       "      <td>2.558438e+06</td>\n",
       "    </tr>\n",
       "    <tr>\n",
       "      <th>2423</th>\n",
       "      <td>2025-08-20</td>\n",
       "      <td>2.393428e+06</td>\n",
       "      <td>2.140778e+06</td>\n",
       "      <td>2.638738e+06</td>\n",
       "    </tr>\n",
       "    <tr>\n",
       "      <th>2424</th>\n",
       "      <td>2025-08-21</td>\n",
       "      <td>2.635371e+06</td>\n",
       "      <td>2.385566e+06</td>\n",
       "      <td>2.890792e+06</td>\n",
       "    </tr>\n",
       "    <tr>\n",
       "      <th>2425</th>\n",
       "      <td>2025-08-22</td>\n",
       "      <td>2.678491e+06</td>\n",
       "      <td>2.445300e+06</td>\n",
       "      <td>2.917516e+06</td>\n",
       "    </tr>\n",
       "    <tr>\n",
       "      <th>2426</th>\n",
       "      <td>2025-08-23</td>\n",
       "      <td>2.341193e+06</td>\n",
       "      <td>2.091880e+06</td>\n",
       "      <td>2.566111e+06</td>\n",
       "    </tr>\n",
       "    <tr>\n",
       "      <th>2427</th>\n",
       "      <td>2025-08-24</td>\n",
       "      <td>2.662217e+06</td>\n",
       "      <td>2.428998e+06</td>\n",
       "      <td>2.921256e+06</td>\n",
       "    </tr>\n",
       "    <tr>\n",
       "      <th>2428</th>\n",
       "      <td>2025-08-25</td>\n",
       "      <td>2.582358e+06</td>\n",
       "      <td>2.342086e+06</td>\n",
       "      <td>2.812075e+06</td>\n",
       "    </tr>\n",
       "    <tr>\n",
       "      <th>2429</th>\n",
       "      <td>2025-08-26</td>\n",
       "      <td>2.261655e+06</td>\n",
       "      <td>2.028738e+06</td>\n",
       "      <td>2.508808e+06</td>\n",
       "    </tr>\n",
       "    <tr>\n",
       "      <th>2430</th>\n",
       "      <td>2025-08-27</td>\n",
       "      <td>2.347092e+06</td>\n",
       "      <td>2.092872e+06</td>\n",
       "      <td>2.605531e+06</td>\n",
       "    </tr>\n",
       "    <tr>\n",
       "      <th>2431</th>\n",
       "      <td>2025-08-28</td>\n",
       "      <td>2.595534e+06</td>\n",
       "      <td>2.354924e+06</td>\n",
       "      <td>2.851448e+06</td>\n",
       "    </tr>\n",
       "    <tr>\n",
       "      <th>2432</th>\n",
       "      <td>2025-08-29</td>\n",
       "      <td>2.644570e+06</td>\n",
       "      <td>2.393728e+06</td>\n",
       "      <td>2.881975e+06</td>\n",
       "    </tr>\n",
       "    <tr>\n",
       "      <th>2433</th>\n",
       "      <td>2025-08-30</td>\n",
       "      <td>2.312493e+06</td>\n",
       "      <td>2.082577e+06</td>\n",
       "      <td>2.546494e+06</td>\n",
       "    </tr>\n",
       "    <tr>\n",
       "      <th>2434</th>\n",
       "      <td>2025-08-31</td>\n",
       "      <td>2.637960e+06</td>\n",
       "      <td>2.408434e+06</td>\n",
       "      <td>2.871157e+06</td>\n",
       "    </tr>\n",
       "    <tr>\n",
       "      <th>2435</th>\n",
       "      <td>2025-09-01</td>\n",
       "      <td>2.561711e+06</td>\n",
       "      <td>2.313244e+06</td>\n",
       "      <td>2.797798e+06</td>\n",
       "    </tr>\n",
       "    <tr>\n",
       "      <th>2436</th>\n",
       "      <td>2025-09-02</td>\n",
       "      <td>2.243763e+06</td>\n",
       "      <td>2.000714e+06</td>\n",
       "      <td>2.485233e+06</td>\n",
       "    </tr>\n",
       "    <tr>\n",
       "      <th>2437</th>\n",
       "      <td>2025-09-03</td>\n",
       "      <td>2.331111e+06</td>\n",
       "      <td>2.099385e+06</td>\n",
       "      <td>2.581649e+06</td>\n",
       "    </tr>\n",
       "  </tbody>\n",
       "</table>\n",
       "</div>"
      ],
      "text/plain": [
       "             ds          yhat    yhat_lower    yhat_upper\n",
       "2417 2025-08-14  2.723999e+06  2.486343e+06  2.973343e+06\n",
       "2418 2025-08-15  2.760592e+06  2.505638e+06  3.004229e+06\n",
       "2419 2025-08-16  2.416302e+06  2.163216e+06  2.662827e+06\n",
       "2420 2025-08-17  2.730065e+06  2.495935e+06  2.976075e+06\n",
       "2421 2025-08-18  2.642867e+06  2.387578e+06  2.878395e+06\n",
       "2422 2025-08-19  2.314934e+06  2.053618e+06  2.558438e+06\n",
       "2423 2025-08-20  2.393428e+06  2.140778e+06  2.638738e+06\n",
       "2424 2025-08-21  2.635371e+06  2.385566e+06  2.890792e+06\n",
       "2425 2025-08-22  2.678491e+06  2.445300e+06  2.917516e+06\n",
       "2426 2025-08-23  2.341193e+06  2.091880e+06  2.566111e+06\n",
       "2427 2025-08-24  2.662217e+06  2.428998e+06  2.921256e+06\n",
       "2428 2025-08-25  2.582358e+06  2.342086e+06  2.812075e+06\n",
       "2429 2025-08-26  2.261655e+06  2.028738e+06  2.508808e+06\n",
       "2430 2025-08-27  2.347092e+06  2.092872e+06  2.605531e+06\n",
       "2431 2025-08-28  2.595534e+06  2.354924e+06  2.851448e+06\n",
       "2432 2025-08-29  2.644570e+06  2.393728e+06  2.881975e+06\n",
       "2433 2025-08-30  2.312493e+06  2.082577e+06  2.546494e+06\n",
       "2434 2025-08-31  2.637960e+06  2.408434e+06  2.871157e+06\n",
       "2435 2025-09-01  2.561711e+06  2.313244e+06  2.797798e+06\n",
       "2436 2025-09-02  2.243763e+06  2.000714e+06  2.485233e+06\n",
       "2437 2025-09-03  2.331111e+06  2.099385e+06  2.581649e+06"
      ]
     },
     "execution_count": 297,
     "metadata": {},
     "output_type": "execute_result"
    }
   ],
   "source": [
    "forecast[['ds','yhat','yhat_lower','yhat_upper']].tail(21)"
   ]
  },
  {
   "cell_type": "code",
   "execution_count": 300,
   "id": "eded2fc0-7d60-4b1c-99a4-b3b167ccd700",
   "metadata": {},
   "outputs": [],
   "source": [
    "predicted_passengers = int(forecast[forecast['ds']=='2025-08-14']['yhat'].values[0])"
   ]
  },
  {
   "cell_type": "code",
   "execution_count": 301,
   "id": "1cc54e23-fdbc-4171-8590-017fb875226b",
   "metadata": {},
   "outputs": [
    {
     "name": "stdout",
     "output_type": "stream",
     "text": [
      "2723999\n"
     ]
    }
   ],
   "source": [
    "print(predicted_passengers)"
   ]
  },
  {
   "cell_type": "code",
   "execution_count": null,
   "id": "698dd791-ae23-4f7e-b2ce-a97b6df419b6",
   "metadata": {},
   "outputs": [],
   "source": []
  }
 ],
 "metadata": {
  "kernelspec": {
   "display_name": "Python 3 (ipykernel)",
   "language": "python",
   "name": "python3"
  },
  "language_info": {
   "codemirror_mode": {
    "name": "ipython",
    "version": 3
   },
   "file_extension": ".py",
   "mimetype": "text/x-python",
   "name": "python",
   "nbconvert_exporter": "python",
   "pygments_lexer": "ipython3",
   "version": "3.11.7"
  }
 },
 "nbformat": 4,
 "nbformat_minor": 5
}
