{
 "cells": [
  {
   "cell_type": "code",
   "execution_count": 161,
   "id": "3e11d115-d36f-4bd7-88be-6f6f49c4743a",
   "metadata": {},
   "outputs": [],
   "source": [
    "import requests"
   ]
  },
  {
   "cell_type": "code",
   "execution_count": 170,
   "id": "df5b956a-2f1d-433a-9374-759f132d83be",
   "metadata": {},
   "outputs": [],
   "source": [
    "from bs4 import BeautifulSoup"
   ]
  },
  {
   "cell_type": "code",
   "execution_count": 171,
   "id": "66fbb0b8-05f4-4584-bf54-37e307855303",
   "metadata": {},
   "outputs": [],
   "source": [
    "import pandas as pd"
   ]
  },
  {
   "cell_type": "code",
   "execution_count": 172,
   "id": "7bd5831c-ff36-4e82-9744-3cbdd577cd37",
   "metadata": {},
   "outputs": [],
   "source": [
    "url = \"https://www.eia.gov/dnav/pet/hist/leafhandler.ashx?f=m&n=pet&s=emm_epm0_pte_nus_dpg\""
   ]
  },
  {
   "cell_type": "code",
   "execution_count": 173,
   "id": "b4c76ac6-ba84-4ebe-8962-0f46e7a968d3",
   "metadata": {},
   "outputs": [],
   "source": [
    "response = requests.get(url)"
   ]
  },
  {
   "cell_type": "code",
   "execution_count": 174,
   "id": "2d773501-803a-422e-8c65-c0d828a77d4e",
   "metadata": {},
   "outputs": [],
   "source": [
    "soup = BeautifulSoup(response.text, 'html.parser')"
   ]
  },
  {
   "cell_type": "code",
   "execution_count": 175,
   "id": "5f8b41bf-18bb-4bc9-978f-579fbbbaff55",
   "metadata": {},
   "outputs": [],
   "source": [
    "table = soup.find('table')"
   ]
  },
  {
   "cell_type": "code",
   "execution_count": 176,
   "id": "987cec36-5e75-449e-80d0-9ef99e26bcd4",
   "metadata": {},
   "outputs": [
    {
     "name": "stderr",
     "output_type": "stream",
     "text": [
      "C:\\Users\\jstew\\AppData\\Local\\Temp\\ipykernel_5832\\1339507137.py:1: FutureWarning: Passing literal html to 'read_html' is deprecated and will be removed in a future version. To read from a literal string, wrap it in a 'StringIO' object.\n",
      "  df = pd.read_html(str(table))[0]\n"
     ]
    }
   ],
   "source": [
    "df = pd.read_html(str(table))[0]"
   ]
  },
  {
   "cell_type": "code",
   "execution_count": null,
   "id": "93eccc25-6447-4e71-af28-6e609b6c2061",
   "metadata": {},
   "outputs": [],
   "source": []
  },
  {
   "cell_type": "code",
   "execution_count": 180,
   "id": "b5805a8c-a7dd-48c8-911e-e070f0b16757",
   "metadata": {},
   "outputs": [
    {
     "name": "stdout",
     "output_type": "stream",
     "text": [
      "Collecting xlrd\n",
      "  Downloading xlrd-2.0.2-py2.py3-none-any.whl.metadata (3.5 kB)\n",
      "Requirement already satisfied: openpyxl in c:\\users\\jstew\\anaconda3\\lib\\site-packages (3.1.2)\n",
      "Requirement already satisfied: et-xmlfile in c:\\users\\jstew\\anaconda3\\lib\\site-packages (from openpyxl) (1.1.0)\n",
      "Downloading xlrd-2.0.2-py2.py3-none-any.whl (96 kB)\n",
      "   ---------------------------------------- 0.0/96.6 kB ? eta -:--:--\n",
      "   ---------------------------------------- 0.0/96.6 kB ? eta -:--:--\n",
      "   ---- ----------------------------------- 10.2/96.6 kB ? eta -:--:--\n",
      "   -------- ------------------------------- 20.5/96.6 kB 217.9 kB/s eta 0:00:01\n",
      "   ---------------- ----------------------- 41.0/96.6 kB 279.3 kB/s eta 0:00:01\n",
      "   ---------------------------------------- 96.6/96.6 kB 501.8 kB/s eta 0:00:00\n",
      "Installing collected packages: xlrd\n",
      "Successfully installed xlrd-2.0.2\n",
      "Note: you may need to restart the kernel to use updated packages.\n"
     ]
    }
   ],
   "source": [
    "pip install xlrd openpyxl"
   ]
  },
  {
   "cell_type": "code",
   "execution_count": 187,
   "id": "114bea38-aeec-4d50-abac-daff2d8215de",
   "metadata": {},
   "outputs": [],
   "source": [
    "import pandas as pd"
   ]
  },
  {
   "cell_type": "code",
   "execution_count": 188,
   "id": "f297f606-b0ac-4165-827c-2528f8f6e3fd",
   "metadata": {},
   "outputs": [],
   "source": [
    "xls_file = 'gas-prices-weekly-data.xls'"
   ]
  },
  {
   "cell_type": "code",
   "execution_count": 189,
   "id": "1e066b4a-5741-4d7c-8bed-89d18d78cc49",
   "metadata": {},
   "outputs": [],
   "source": [
    "df = pd.read_excel(xls_file, sheet_name='Data 1', skiprows=1)"
   ]
  },
  {
   "cell_type": "code",
   "execution_count": 191,
   "id": "f11e4c62-241a-408b-b5a3-eb931551ddf0",
   "metadata": {},
   "outputs": [
    {
     "data": {
      "text/html": [
       "<div>\n",
       "<style scoped>\n",
       "    .dataframe tbody tr th:only-of-type {\n",
       "        vertical-align: middle;\n",
       "    }\n",
       "\n",
       "    .dataframe tbody tr th {\n",
       "        vertical-align: top;\n",
       "    }\n",
       "\n",
       "    .dataframe thead th {\n",
       "        text-align: right;\n",
       "    }\n",
       "</style>\n",
       "<table border=\"1\" class=\"dataframe\">\n",
       "  <thead>\n",
       "    <tr style=\"text-align: right;\">\n",
       "      <th></th>\n",
       "      <th>Sourcekey</th>\n",
       "      <th>EMM_EPM0_PTE_NUS_DPG</th>\n",
       "    </tr>\n",
       "  </thead>\n",
       "  <tbody>\n",
       "    <tr>\n",
       "      <th>0</th>\n",
       "      <td>Date</td>\n",
       "      <td>Weekly U.S. All Grades All Formulations Retail...</td>\n",
       "    </tr>\n",
       "    <tr>\n",
       "      <th>1</th>\n",
       "      <td>1993-04-05 00:00:00</td>\n",
       "      <td>1.068</td>\n",
       "    </tr>\n",
       "    <tr>\n",
       "      <th>2</th>\n",
       "      <td>1993-04-12 00:00:00</td>\n",
       "      <td>1.079</td>\n",
       "    </tr>\n",
       "    <tr>\n",
       "      <th>3</th>\n",
       "      <td>1993-04-19 00:00:00</td>\n",
       "      <td>1.079</td>\n",
       "    </tr>\n",
       "    <tr>\n",
       "      <th>4</th>\n",
       "      <td>1993-04-26 00:00:00</td>\n",
       "      <td>1.086</td>\n",
       "    </tr>\n",
       "  </tbody>\n",
       "</table>\n",
       "</div>"
      ],
      "text/plain": [
       "             Sourcekey                               EMM_EPM0_PTE_NUS_DPG\n",
       "0                 Date  Weekly U.S. All Grades All Formulations Retail...\n",
       "1  1993-04-05 00:00:00                                              1.068\n",
       "2  1993-04-12 00:00:00                                              1.079\n",
       "3  1993-04-19 00:00:00                                              1.079\n",
       "4  1993-04-26 00:00:00                                              1.086"
      ]
     },
     "execution_count": 191,
     "metadata": {},
     "output_type": "execute_result"
    }
   ],
   "source": [
    "df.head()"
   ]
  },
  {
   "cell_type": "code",
   "execution_count": 192,
   "id": "46ed54fa-d50c-4608-ae20-3812ddb3b6e6",
   "metadata": {},
   "outputs": [],
   "source": [
    "df.to_csv('gas-prices-weekly.csv', index=False)"
   ]
  },
  {
   "cell_type": "code",
   "execution_count": null,
   "id": "8d562a64-929b-41cc-923e-f6b0db425355",
   "metadata": {},
   "outputs": [],
   "source": []
  }
 ],
 "metadata": {
  "kernelspec": {
   "display_name": "Python 3 (ipykernel)",
   "language": "python",
   "name": "python3"
  },
  "language_info": {
   "codemirror_mode": {
    "name": "ipython",
    "version": 3
   },
   "file_extension": ".py",
   "mimetype": "text/x-python",
   "name": "python",
   "nbconvert_exporter": "python",
   "pygments_lexer": "ipython3",
   "version": "3.11.7"
  }
 },
 "nbformat": 4,
 "nbformat_minor": 5
}
